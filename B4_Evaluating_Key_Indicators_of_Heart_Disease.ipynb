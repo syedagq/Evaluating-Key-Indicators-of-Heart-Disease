{
  "cells": [
    {
      "cell_type": "markdown",
      "metadata": {
        "id": "view-in-github",
        "colab_type": "text"
      },
      "source": [
        "<a href=\"https://colab.research.google.com/github/syedagq/Evaluating-Key-Indicators-of-Heart-Disease/blob/main/B4_Evaluating_Key_Indicators_of_Heart_Disease.ipynb\" target=\"_parent\"><img src=\"https://colab.research.google.com/assets/colab-badge.svg\" alt=\"Open In Colab\"/></a>"
      ]
    },
    {
      "cell_type": "markdown",
      "metadata": {
        "id": "bzb_oY6iuax9"
      },
      "source": [
        "# Table of Contents  \n",
        "\n",
        "1. Project proposal \n",
        "2. Introduction to the dataset\n",
        "3. Data Exploration and cleaning\n",
        "4. Exploration and Questions\n",
        "5. Machine Learning\n",
        "6. Conclusion \n",
        "7. Reference"
      ]
    },
    {
      "cell_type": "markdown",
      "metadata": {
        "id": "97qQ_djOYHnx"
      },
      "source": [
        "# Summary"
      ]
    },
    {
      "cell_type": "markdown",
      "metadata": {
        "id": "0UiAbF1-YGJQ"
      },
      "source": [
        "For the evaluation of the key indicators for heart disease, we initially start off the notebook with data exploration and cleaning, after which we dive deep into visualizations where we explore the disparities in heart disease with regards to Race. Different variables are explored with relation to Race, such as Sex, Stroke, Difficulty Walking etc. \n",
        "\n",
        "Our visualizations play around with these key variables where we have explored different aspects keeping in mind our target variable: HeartDisease. Insights have been explored and shown below.\n",
        "\n",
        "\n",
        "\n",
        "\n",
        "\n",
        "\n",
        "\n"
      ]
    },
    {
      "cell_type": "markdown",
      "metadata": {
        "id": "PaNa6WZjMZ2A"
      },
      "source": [
        "# 1.Project proposal\n",
        "###Evaluating Key Indicators of Heart Disease\n",
        "\n",
        "**The goal** of the project is to test different factors in order to detect the ones that have the greatest impact on heart disease, which will ultimately serve in helping us find ways to prevent them. We also want to identify which demographics (race and gender) are more at risk, as well as which lifestyle factors are most relevant to the prevalence of heart disease. All of these will help in providing relevant and timely support to the groups most at risk.  \n",
        "\n",
        "**We are interested in this problem because** heart disease is one the leading causes of death, leading to ~ 930,000 deaths/year in the US alone, and $229 billion in healthcare costs/year according to CDC. Identifying the factors that play a role in causing heart diseases will help reduce these losses.\n",
        "\n",
        "\n",
        "** Data Source**: The dataset comes from the CDC and is a major part of the Behavioral Risk Factor Surveillance System. https://www.kaggle.com/datasets/kamilpytlak/personal-key-indicators-of-heart-disease   \n",
        "The original dataset of nearly 300 variables was reduced to just about 20 variables by Kamil Pytlak on Kaggle. We will try using the original file from the CDC for the purposes of our analysis, linked here (the file is in ASCII format, and we will discuss with sir on how best to access it): https://www.cdc.gov/brfss/annual_data/2020/files/LLCP2020ASC.zip"
      ]
    },
    {
      "cell_type": "markdown",
      "metadata": {
        "id": "n1-iijBspS5a"
      },
      "source": [
        "# 2.Introduction to the Dataset\n",
        "\n",
        "- The dataset comes from the CDC and is a major part of the Behavioral Risk  Factor Surveillance System. \n",
        "- The dataset has 319,795 rows and 18 columns. Each row represents respondents to the survey. \n",
        "- Target value is `HeartDisease`, indicating whether the respondent ever reported having heart disease.\n",
        "- Each Column is an indicator that might have a relationship with heart disease. See the table below for the detail of the columns. \n",
        "- We don't have missing value in our dataset (explored further below)\n"
      ]
    },
    {
      "cell_type": "markdown",
      "metadata": {
        "id": "W_MJ8fX2nKee"
      },
      "source": [
        "| Column title| Data Type   |Description|\n",
        "| :----------- | :----------- | :--------|\n",
        "| `HeartDisease`       | Categorical      |Ever reported having coronary heart disease or myocardial infarction       |\n",
        "| `BMI`         |Numeric| Body Mass Index (BMI) |\n",
        "| `Smoking` |Categorical| Smoked at least 100 cigarettes entire life (5 packs = 100 cigarettes) |\n",
        "| `AlcoholDrinking`       |Categorical|Heavy drinkers (adult men having more than 14 drinks per week and adult women having more than 7 drinks per week)                        |\n",
        "| `Stroke`    | Categorical|(Ever told) (had) a stroke                      |\n",
        "| `PhysicalHealth`       | Numeric|For how many days during the past 30 was your physical health *not good*               |\n",
        "| `MentalHealth`       | Numeric| For how many days during the past 30 was your mental health *not good* |\n",
        "| `DiffWalking`     | Categorical| Whether having serious difficulty walking or climbing stairs |\n",
        "| `Sex` |Categorical| Male or female |\n",
        "| `AgeCategory`  | Categorical|Fourteen-level age category |\n",
        "| `Race`  | Categorical|Race/ethnicity value |\n",
        "| `Diabetic`  |Categorical| (Ever told) (you had) diabetes |\n",
        "| `PhysicalActivity`  |Categorical |Whether doing physical activity or exercise during the past 30 days other than regular job |\n",
        "| `GenHealth`  | Categorical| How would you say about your health in general|\n",
        "| `SleepTime`  | Numeric|Hours of sleep get in a 24-hour period on average |\n",
        "| `Asthma`  | Categorical|(Ever told) (you had) asthma |\n",
        "| `KidneyDisease`  | Categorical| Were you ever told you had kidney disease,not including kidney stones, bladder infection or incontinence, |\n",
        "| `SkinCancer`  |Categorical| (Ever told) (you had) skin cancer |\n"
      ]
    },
    {
      "cell_type": "markdown",
      "metadata": {
        "id": "bdI2g_mJxU2u"
      },
      "source": [
        "## Motivation\n",
        "\n",
        "Heart disease is one of the leading causes of death yearly, with almost 930,000 deaths per year, and $229 billion worth of healthcare costs. We were motivated by these large numbers, and wanted to explore further to see what the main causes of heart disease. We also want to see what disparities exist between races, and what factors are contributing to these disparities. \n",
        "\n",
        "Identifying what lifestyle choices and factors contribute to heart disease, and what demographics are disproportionately affected can help improve lives of millions of people acorss the United States. "
      ]
    },
    {
      "cell_type": "markdown",
      "metadata": {
        "id": "cWe8UCOwYNm2"
      },
      "source": [
        "# 3.Data exploration and cleaning "
      ]
    },
    {
      "cell_type": "code",
      "execution_count": null,
      "metadata": {
        "colab": {
          "base_uri": "https://localhost:8080/"
        },
        "id": "EW3_4mJ1euDG",
        "outputId": "c35141f0-eacf-4bbd-ea93-93b547b64b76"
      },
      "outputs": [
        {
          "output_type": "stream",
          "name": "stdout",
          "text": [
            "Drive already mounted at /content/drive; to attempt to forcibly remount, call drive.mount(\"/content/drive\", force_remount=True).\n"
          ]
        }
      ],
      "source": [
        "import pandas as pd \n",
        "import numpy as np\n",
        "import seaborn as sns \n",
        "import matplotlib.pyplot as plt\n",
        "from google.colab import drive\n",
        "drive.mount('/content/drive')\n",
        "data = pd.read_csv('/content/drive/Shareddrives/780-Team-Project/heartdisease.csv')"
      ]
    },
    {
      "cell_type": "code",
      "execution_count": null,
      "metadata": {
        "colab": {
          "base_uri": "https://localhost:8080/",
          "height": 270
        },
        "id": "wh8eFdcOMXKr",
        "outputId": "c0c60218-ad71-41b9-ae04-ed03b0f6cd7b"
      },
      "outputs": [
        {
          "output_type": "execute_result",
          "data": {
            "text/plain": [
              "  HeartDisease    BMI Smoking AlcoholDrinking Stroke  PhysicalHealth  \\\n",
              "0           No  16.60     Yes              No     No             3.0   \n",
              "1           No  20.34      No              No    Yes             0.0   \n",
              "2           No  26.58     Yes              No     No            20.0   \n",
              "3           No  24.21      No              No     No             0.0   \n",
              "4           No  23.71      No              No     No            28.0   \n",
              "\n",
              "   MentalHealth DiffWalking     Sex  AgeCategory   Race Diabetic  \\\n",
              "0          30.0          No  Female        55-59  White      Yes   \n",
              "1           0.0          No  Female  80 or older  White       No   \n",
              "2          30.0          No    Male        65-69  White      Yes   \n",
              "3           0.0          No  Female        75-79  White       No   \n",
              "4           0.0         Yes  Female        40-44  White       No   \n",
              "\n",
              "  PhysicalActivity  GenHealth  SleepTime Asthma KidneyDisease SkinCancer  \n",
              "0              Yes  Very good        5.0    Yes            No        Yes  \n",
              "1              Yes  Very good        7.0     No            No         No  \n",
              "2              Yes       Fair        8.0    Yes            No         No  \n",
              "3               No       Good        6.0     No            No        Yes  \n",
              "4              Yes  Very good        8.0     No            No         No  "
            ],
            "text/html": [
              "\n",
              "  <div id=\"df-71d4a772-3333-4409-a28c-555a8f4f5c4c\">\n",
              "    <div class=\"colab-df-container\">\n",
              "      <div>\n",
              "<style scoped>\n",
              "    .dataframe tbody tr th:only-of-type {\n",
              "        vertical-align: middle;\n",
              "    }\n",
              "\n",
              "    .dataframe tbody tr th {\n",
              "        vertical-align: top;\n",
              "    }\n",
              "\n",
              "    .dataframe thead th {\n",
              "        text-align: right;\n",
              "    }\n",
              "</style>\n",
              "<table border=\"1\" class=\"dataframe\">\n",
              "  <thead>\n",
              "    <tr style=\"text-align: right;\">\n",
              "      <th></th>\n",
              "      <th>HeartDisease</th>\n",
              "      <th>BMI</th>\n",
              "      <th>Smoking</th>\n",
              "      <th>AlcoholDrinking</th>\n",
              "      <th>Stroke</th>\n",
              "      <th>PhysicalHealth</th>\n",
              "      <th>MentalHealth</th>\n",
              "      <th>DiffWalking</th>\n",
              "      <th>Sex</th>\n",
              "      <th>AgeCategory</th>\n",
              "      <th>Race</th>\n",
              "      <th>Diabetic</th>\n",
              "      <th>PhysicalActivity</th>\n",
              "      <th>GenHealth</th>\n",
              "      <th>SleepTime</th>\n",
              "      <th>Asthma</th>\n",
              "      <th>KidneyDisease</th>\n",
              "      <th>SkinCancer</th>\n",
              "    </tr>\n",
              "  </thead>\n",
              "  <tbody>\n",
              "    <tr>\n",
              "      <th>0</th>\n",
              "      <td>No</td>\n",
              "      <td>16.60</td>\n",
              "      <td>Yes</td>\n",
              "      <td>No</td>\n",
              "      <td>No</td>\n",
              "      <td>3.0</td>\n",
              "      <td>30.0</td>\n",
              "      <td>No</td>\n",
              "      <td>Female</td>\n",
              "      <td>55-59</td>\n",
              "      <td>White</td>\n",
              "      <td>Yes</td>\n",
              "      <td>Yes</td>\n",
              "      <td>Very good</td>\n",
              "      <td>5.0</td>\n",
              "      <td>Yes</td>\n",
              "      <td>No</td>\n",
              "      <td>Yes</td>\n",
              "    </tr>\n",
              "    <tr>\n",
              "      <th>1</th>\n",
              "      <td>No</td>\n",
              "      <td>20.34</td>\n",
              "      <td>No</td>\n",
              "      <td>No</td>\n",
              "      <td>Yes</td>\n",
              "      <td>0.0</td>\n",
              "      <td>0.0</td>\n",
              "      <td>No</td>\n",
              "      <td>Female</td>\n",
              "      <td>80 or older</td>\n",
              "      <td>White</td>\n",
              "      <td>No</td>\n",
              "      <td>Yes</td>\n",
              "      <td>Very good</td>\n",
              "      <td>7.0</td>\n",
              "      <td>No</td>\n",
              "      <td>No</td>\n",
              "      <td>No</td>\n",
              "    </tr>\n",
              "    <tr>\n",
              "      <th>2</th>\n",
              "      <td>No</td>\n",
              "      <td>26.58</td>\n",
              "      <td>Yes</td>\n",
              "      <td>No</td>\n",
              "      <td>No</td>\n",
              "      <td>20.0</td>\n",
              "      <td>30.0</td>\n",
              "      <td>No</td>\n",
              "      <td>Male</td>\n",
              "      <td>65-69</td>\n",
              "      <td>White</td>\n",
              "      <td>Yes</td>\n",
              "      <td>Yes</td>\n",
              "      <td>Fair</td>\n",
              "      <td>8.0</td>\n",
              "      <td>Yes</td>\n",
              "      <td>No</td>\n",
              "      <td>No</td>\n",
              "    </tr>\n",
              "    <tr>\n",
              "      <th>3</th>\n",
              "      <td>No</td>\n",
              "      <td>24.21</td>\n",
              "      <td>No</td>\n",
              "      <td>No</td>\n",
              "      <td>No</td>\n",
              "      <td>0.0</td>\n",
              "      <td>0.0</td>\n",
              "      <td>No</td>\n",
              "      <td>Female</td>\n",
              "      <td>75-79</td>\n",
              "      <td>White</td>\n",
              "      <td>No</td>\n",
              "      <td>No</td>\n",
              "      <td>Good</td>\n",
              "      <td>6.0</td>\n",
              "      <td>No</td>\n",
              "      <td>No</td>\n",
              "      <td>Yes</td>\n",
              "    </tr>\n",
              "    <tr>\n",
              "      <th>4</th>\n",
              "      <td>No</td>\n",
              "      <td>23.71</td>\n",
              "      <td>No</td>\n",
              "      <td>No</td>\n",
              "      <td>No</td>\n",
              "      <td>28.0</td>\n",
              "      <td>0.0</td>\n",
              "      <td>Yes</td>\n",
              "      <td>Female</td>\n",
              "      <td>40-44</td>\n",
              "      <td>White</td>\n",
              "      <td>No</td>\n",
              "      <td>Yes</td>\n",
              "      <td>Very good</td>\n",
              "      <td>8.0</td>\n",
              "      <td>No</td>\n",
              "      <td>No</td>\n",
              "      <td>No</td>\n",
              "    </tr>\n",
              "  </tbody>\n",
              "</table>\n",
              "</div>\n",
              "      <button class=\"colab-df-convert\" onclick=\"convertToInteractive('df-71d4a772-3333-4409-a28c-555a8f4f5c4c')\"\n",
              "              title=\"Convert this dataframe to an interactive table.\"\n",
              "              style=\"display:none;\">\n",
              "        \n",
              "  <svg xmlns=\"http://www.w3.org/2000/svg\" height=\"24px\"viewBox=\"0 0 24 24\"\n",
              "       width=\"24px\">\n",
              "    <path d=\"M0 0h24v24H0V0z\" fill=\"none\"/>\n",
              "    <path d=\"M18.56 5.44l.94 2.06.94-2.06 2.06-.94-2.06-.94-.94-2.06-.94 2.06-2.06.94zm-11 1L8.5 8.5l.94-2.06 2.06-.94-2.06-.94L8.5 2.5l-.94 2.06-2.06.94zm10 10l.94 2.06.94-2.06 2.06-.94-2.06-.94-.94-2.06-.94 2.06-2.06.94z\"/><path d=\"M17.41 7.96l-1.37-1.37c-.4-.4-.92-.59-1.43-.59-.52 0-1.04.2-1.43.59L10.3 9.45l-7.72 7.72c-.78.78-.78 2.05 0 2.83L4 21.41c.39.39.9.59 1.41.59.51 0 1.02-.2 1.41-.59l7.78-7.78 2.81-2.81c.8-.78.8-2.07 0-2.86zM5.41 20L4 18.59l7.72-7.72 1.47 1.35L5.41 20z\"/>\n",
              "  </svg>\n",
              "      </button>\n",
              "      \n",
              "  <style>\n",
              "    .colab-df-container {\n",
              "      display:flex;\n",
              "      flex-wrap:wrap;\n",
              "      gap: 12px;\n",
              "    }\n",
              "\n",
              "    .colab-df-convert {\n",
              "      background-color: #E8F0FE;\n",
              "      border: none;\n",
              "      border-radius: 50%;\n",
              "      cursor: pointer;\n",
              "      display: none;\n",
              "      fill: #1967D2;\n",
              "      height: 32px;\n",
              "      padding: 0 0 0 0;\n",
              "      width: 32px;\n",
              "    }\n",
              "\n",
              "    .colab-df-convert:hover {\n",
              "      background-color: #E2EBFA;\n",
              "      box-shadow: 0px 1px 2px rgba(60, 64, 67, 0.3), 0px 1px 3px 1px rgba(60, 64, 67, 0.15);\n",
              "      fill: #174EA6;\n",
              "    }\n",
              "\n",
              "    [theme=dark] .colab-df-convert {\n",
              "      background-color: #3B4455;\n",
              "      fill: #D2E3FC;\n",
              "    }\n",
              "\n",
              "    [theme=dark] .colab-df-convert:hover {\n",
              "      background-color: #434B5C;\n",
              "      box-shadow: 0px 1px 3px 1px rgba(0, 0, 0, 0.15);\n",
              "      filter: drop-shadow(0px 1px 2px rgba(0, 0, 0, 0.3));\n",
              "      fill: #FFFFFF;\n",
              "    }\n",
              "  </style>\n",
              "\n",
              "      <script>\n",
              "        const buttonEl =\n",
              "          document.querySelector('#df-71d4a772-3333-4409-a28c-555a8f4f5c4c button.colab-df-convert');\n",
              "        buttonEl.style.display =\n",
              "          google.colab.kernel.accessAllowed ? 'block' : 'none';\n",
              "\n",
              "        async function convertToInteractive(key) {\n",
              "          const element = document.querySelector('#df-71d4a772-3333-4409-a28c-555a8f4f5c4c');\n",
              "          const dataTable =\n",
              "            await google.colab.kernel.invokeFunction('convertToInteractive',\n",
              "                                                     [key], {});\n",
              "          if (!dataTable) return;\n",
              "\n",
              "          const docLinkHtml = 'Like what you see? Visit the ' +\n",
              "            '<a target=\"_blank\" href=https://colab.research.google.com/notebooks/data_table.ipynb>data table notebook</a>'\n",
              "            + ' to learn more about interactive tables.';\n",
              "          element.innerHTML = '';\n",
              "          dataTable['output_type'] = 'display_data';\n",
              "          await google.colab.output.renderOutput(dataTable, element);\n",
              "          const docLink = document.createElement('div');\n",
              "          docLink.innerHTML = docLinkHtml;\n",
              "          element.appendChild(docLink);\n",
              "        }\n",
              "      </script>\n",
              "    </div>\n",
              "  </div>\n",
              "  "
            ]
          },
          "metadata": {},
          "execution_count": 2
        }
      ],
      "source": [
        "data.head()"
      ]
    },
    {
      "cell_type": "markdown",
      "metadata": {
        "id": "jAHOCpmLfKge"
      },
      "source": [
        "We have two types of data types: float and object, and each of them is defined correctly. \n"
      ]
    },
    {
      "cell_type": "code",
      "execution_count": null,
      "metadata": {
        "colab": {
          "base_uri": "https://localhost:8080/"
        },
        "id": "REr2l3y8emhx",
        "outputId": "5ecb341f-531d-4599-a25a-62ef527a2fbf"
      },
      "outputs": [
        {
          "output_type": "stream",
          "name": "stdout",
          "text": [
            "<class 'pandas.core.frame.DataFrame'>\n",
            "RangeIndex: 319795 entries, 0 to 319794\n",
            "Data columns (total 18 columns):\n",
            " #   Column            Non-Null Count   Dtype  \n",
            "---  ------            --------------   -----  \n",
            " 0   HeartDisease      319795 non-null  object \n",
            " 1   BMI               319795 non-null  float64\n",
            " 2   Smoking           319795 non-null  object \n",
            " 3   AlcoholDrinking   319795 non-null  object \n",
            " 4   Stroke            319795 non-null  object \n",
            " 5   PhysicalHealth    319795 non-null  float64\n",
            " 6   MentalHealth      319795 non-null  float64\n",
            " 7   DiffWalking       319795 non-null  object \n",
            " 8   Sex               319795 non-null  object \n",
            " 9   AgeCategory       319795 non-null  object \n",
            " 10  Race              319795 non-null  object \n",
            " 11  Diabetic          319795 non-null  object \n",
            " 12  PhysicalActivity  319795 non-null  object \n",
            " 13  GenHealth         319795 non-null  object \n",
            " 14  SleepTime         319795 non-null  float64\n",
            " 15  Asthma            319795 non-null  object \n",
            " 16  KidneyDisease     319795 non-null  object \n",
            " 17  SkinCancer        319795 non-null  object \n",
            "dtypes: float64(4), object(14)\n",
            "memory usage: 43.9+ MB\n"
          ]
        }
      ],
      "source": [
        "data.info()"
      ]
    },
    {
      "cell_type": "markdown",
      "metadata": {
        "id": "aEm3ZNoZJDqy"
      },
      "source": [
        "## 3.1 Missing Values"
      ]
    },
    {
      "cell_type": "markdown",
      "metadata": {
        "id": "oWMNe1l4f6Oo"
      },
      "source": [
        "We also find that we do not have any missing values in our dataset.\n",
        "\n",
        "This makes sense as the data is official Federal government data from the CDC website, and as per their own words  they have kept very high standards for their scientific research and data collection. \n",
        "\n",
        "https://www.cdc.gov/os/quality/support/info-qual.htm"
      ]
    },
    {
      "cell_type": "code",
      "execution_count": null,
      "metadata": {
        "colab": {
          "base_uri": "https://localhost:8080/"
        },
        "id": "Hgybf5zjf11U",
        "outputId": "0ccfbf62-9b09-49ac-ba05-a3b0461086ef"
      },
      "outputs": [
        {
          "output_type": "execute_result",
          "data": {
            "text/plain": [
              "HeartDisease        0\n",
              "BMI                 0\n",
              "Smoking             0\n",
              "AlcoholDrinking     0\n",
              "Stroke              0\n",
              "PhysicalHealth      0\n",
              "MentalHealth        0\n",
              "DiffWalking         0\n",
              "Sex                 0\n",
              "AgeCategory         0\n",
              "Race                0\n",
              "Diabetic            0\n",
              "PhysicalActivity    0\n",
              "GenHealth           0\n",
              "SleepTime           0\n",
              "Asthma              0\n",
              "KidneyDisease       0\n",
              "SkinCancer          0\n",
              "dtype: int64"
            ]
          },
          "metadata": {},
          "execution_count": 4
        }
      ],
      "source": [
        "data.isnull().sum()"
      ]
    },
    {
      "cell_type": "markdown",
      "metadata": {
        "id": "o1uaW39ApsWB"
      },
      "source": [
        "## 3.2 Explore numeric data "
      ]
    },
    {
      "cell_type": "markdown",
      "metadata": {
        "id": "2UbT7aFBfbUe"
      },
      "source": [
        "We have 4 numeric columns: \n",
        "\n",
        "*   BMI\n",
        "*   Physical Health\n",
        "*   Mental Health\n",
        "*   Sleep Time\n",
        "\n",
        "\n",
        "\n",
        "The maximum BMI in our dataset is 94. According to Wikipedia, Jon Brower Minnoch was the heaviest human ever recorded, at the time of his death, he weighed 798 lb with a Body Mass Index of 105.3 Therefore, even the max BMI of 94 is a reasonable record.   \n",
        "\n",
        "The data range of Physical health, mental health, and Sleeptime are reasonable and in the range from 0-30 which corresponds to the survey question. Even then, it's interesting that there are people who sleep 24 hours a day. \n",
        "\n"
      ]
    },
    {
      "cell_type": "code",
      "execution_count": null,
      "metadata": {
        "colab": {
          "base_uri": "https://localhost:8080/"
        },
        "id": "A2DHDVYQe4a4",
        "outputId": "cee1a1aa-0182-466e-c658-5d7c0d6aad31"
      },
      "outputs": [
        {
          "output_type": "execute_result",
          "data": {
            "text/plain": [
              "                 BMI  PhysicalHealth   MentalHealth      SleepTime\n",
              "count  319795.000000    319795.00000  319795.000000  319795.000000\n",
              "mean       28.325399         3.37171       3.898366       7.097075\n",
              "std         6.356100         7.95085       7.955235       1.436007\n",
              "min        12.020000         0.00000       0.000000       1.000000\n",
              "25%        24.030000         0.00000       0.000000       6.000000\n",
              "50%        27.340000         0.00000       0.000000       7.000000\n",
              "75%        31.420000         2.00000       3.000000       8.000000\n",
              "max        94.850000        30.00000      30.000000      24.000000"
            ],
            "text/html": [
              "\n",
              "  <div id=\"df-4159c10f-4669-4d3f-9b16-f9cf3337ec91\">\n",
              "    <div class=\"colab-df-container\">\n",
              "      <div>\n",
              "<style scoped>\n",
              "    .dataframe tbody tr th:only-of-type {\n",
              "        vertical-align: middle;\n",
              "    }\n",
              "\n",
              "    .dataframe tbody tr th {\n",
              "        vertical-align: top;\n",
              "    }\n",
              "\n",
              "    .dataframe thead th {\n",
              "        text-align: right;\n",
              "    }\n",
              "</style>\n",
              "<table border=\"1\" class=\"dataframe\">\n",
              "  <thead>\n",
              "    <tr style=\"text-align: right;\">\n",
              "      <th></th>\n",
              "      <th>BMI</th>\n",
              "      <th>PhysicalHealth</th>\n",
              "      <th>MentalHealth</th>\n",
              "      <th>SleepTime</th>\n",
              "    </tr>\n",
              "  </thead>\n",
              "  <tbody>\n",
              "    <tr>\n",
              "      <th>count</th>\n",
              "      <td>319795.000000</td>\n",
              "      <td>319795.00000</td>\n",
              "      <td>319795.000000</td>\n",
              "      <td>319795.000000</td>\n",
              "    </tr>\n",
              "    <tr>\n",
              "      <th>mean</th>\n",
              "      <td>28.325399</td>\n",
              "      <td>3.37171</td>\n",
              "      <td>3.898366</td>\n",
              "      <td>7.097075</td>\n",
              "    </tr>\n",
              "    <tr>\n",
              "      <th>std</th>\n",
              "      <td>6.356100</td>\n",
              "      <td>7.95085</td>\n",
              "      <td>7.955235</td>\n",
              "      <td>1.436007</td>\n",
              "    </tr>\n",
              "    <tr>\n",
              "      <th>min</th>\n",
              "      <td>12.020000</td>\n",
              "      <td>0.00000</td>\n",
              "      <td>0.000000</td>\n",
              "      <td>1.000000</td>\n",
              "    </tr>\n",
              "    <tr>\n",
              "      <th>25%</th>\n",
              "      <td>24.030000</td>\n",
              "      <td>0.00000</td>\n",
              "      <td>0.000000</td>\n",
              "      <td>6.000000</td>\n",
              "    </tr>\n",
              "    <tr>\n",
              "      <th>50%</th>\n",
              "      <td>27.340000</td>\n",
              "      <td>0.00000</td>\n",
              "      <td>0.000000</td>\n",
              "      <td>7.000000</td>\n",
              "    </tr>\n",
              "    <tr>\n",
              "      <th>75%</th>\n",
              "      <td>31.420000</td>\n",
              "      <td>2.00000</td>\n",
              "      <td>3.000000</td>\n",
              "      <td>8.000000</td>\n",
              "    </tr>\n",
              "    <tr>\n",
              "      <th>max</th>\n",
              "      <td>94.850000</td>\n",
              "      <td>30.00000</td>\n",
              "      <td>30.000000</td>\n",
              "      <td>24.000000</td>\n",
              "    </tr>\n",
              "  </tbody>\n",
              "</table>\n",
              "</div>\n",
              "      <button class=\"colab-df-convert\" onclick=\"convertToInteractive('df-4159c10f-4669-4d3f-9b16-f9cf3337ec91')\"\n",
              "              title=\"Convert this dataframe to an interactive table.\"\n",
              "              style=\"display:none;\">\n",
              "        \n",
              "  <svg xmlns=\"http://www.w3.org/2000/svg\" height=\"24px\"viewBox=\"0 0 24 24\"\n",
              "       width=\"24px\">\n",
              "    <path d=\"M0 0h24v24H0V0z\" fill=\"none\"/>\n",
              "    <path d=\"M18.56 5.44l.94 2.06.94-2.06 2.06-.94-2.06-.94-.94-2.06-.94 2.06-2.06.94zm-11 1L8.5 8.5l.94-2.06 2.06-.94-2.06-.94L8.5 2.5l-.94 2.06-2.06.94zm10 10l.94 2.06.94-2.06 2.06-.94-2.06-.94-.94-2.06-.94 2.06-2.06.94z\"/><path d=\"M17.41 7.96l-1.37-1.37c-.4-.4-.92-.59-1.43-.59-.52 0-1.04.2-1.43.59L10.3 9.45l-7.72 7.72c-.78.78-.78 2.05 0 2.83L4 21.41c.39.39.9.59 1.41.59.51 0 1.02-.2 1.41-.59l7.78-7.78 2.81-2.81c.8-.78.8-2.07 0-2.86zM5.41 20L4 18.59l7.72-7.72 1.47 1.35L5.41 20z\"/>\n",
              "  </svg>\n",
              "      </button>\n",
              "      \n",
              "  <style>\n",
              "    .colab-df-container {\n",
              "      display:flex;\n",
              "      flex-wrap:wrap;\n",
              "      gap: 12px;\n",
              "    }\n",
              "\n",
              "    .colab-df-convert {\n",
              "      background-color: #E8F0FE;\n",
              "      border: none;\n",
              "      border-radius: 50%;\n",
              "      cursor: pointer;\n",
              "      display: none;\n",
              "      fill: #1967D2;\n",
              "      height: 32px;\n",
              "      padding: 0 0 0 0;\n",
              "      width: 32px;\n",
              "    }\n",
              "\n",
              "    .colab-df-convert:hover {\n",
              "      background-color: #E2EBFA;\n",
              "      box-shadow: 0px 1px 2px rgba(60, 64, 67, 0.3), 0px 1px 3px 1px rgba(60, 64, 67, 0.15);\n",
              "      fill: #174EA6;\n",
              "    }\n",
              "\n",
              "    [theme=dark] .colab-df-convert {\n",
              "      background-color: #3B4455;\n",
              "      fill: #D2E3FC;\n",
              "    }\n",
              "\n",
              "    [theme=dark] .colab-df-convert:hover {\n",
              "      background-color: #434B5C;\n",
              "      box-shadow: 0px 1px 3px 1px rgba(0, 0, 0, 0.15);\n",
              "      filter: drop-shadow(0px 1px 2px rgba(0, 0, 0, 0.3));\n",
              "      fill: #FFFFFF;\n",
              "    }\n",
              "  </style>\n",
              "\n",
              "      <script>\n",
              "        const buttonEl =\n",
              "          document.querySelector('#df-4159c10f-4669-4d3f-9b16-f9cf3337ec91 button.colab-df-convert');\n",
              "        buttonEl.style.display =\n",
              "          google.colab.kernel.accessAllowed ? 'block' : 'none';\n",
              "\n",
              "        async function convertToInteractive(key) {\n",
              "          const element = document.querySelector('#df-4159c10f-4669-4d3f-9b16-f9cf3337ec91');\n",
              "          const dataTable =\n",
              "            await google.colab.kernel.invokeFunction('convertToInteractive',\n",
              "                                                     [key], {});\n",
              "          if (!dataTable) return;\n",
              "\n",
              "          const docLinkHtml = 'Like what you see? Visit the ' +\n",
              "            '<a target=\"_blank\" href=https://colab.research.google.com/notebooks/data_table.ipynb>data table notebook</a>'\n",
              "            + ' to learn more about interactive tables.';\n",
              "          element.innerHTML = '';\n",
              "          dataTable['output_type'] = 'display_data';\n",
              "          await google.colab.output.renderOutput(dataTable, element);\n",
              "          const docLink = document.createElement('div');\n",
              "          docLink.innerHTML = docLinkHtml;\n",
              "          element.appendChild(docLink);\n",
              "        }\n",
              "      </script>\n",
              "    </div>\n",
              "  </div>\n",
              "  "
            ]
          },
          "metadata": {},
          "execution_count": 5
        }
      ],
      "source": [
        "data.describe()"
      ]
    },
    {
      "cell_type": "markdown",
      "metadata": {
        "id": "yFON2wA1i6Aw"
      },
      "source": [
        "Exploring sleep time further below, we find that we have 30 respondents sleep for 24h a day.\n",
        "\n",
        "According to CDC, an adult should sleep 7-9 hours per night. We have 211,394 respondents who sleep within this recommended range. \n",
        "\n",
        "https://www.cdc.gov/sleep/about_sleep/how_much_sleep.html"
      ]
    },
    {
      "cell_type": "code",
      "execution_count": null,
      "metadata": {
        "colab": {
          "base_uri": "https://localhost:8080/"
        },
        "id": "mLcBebpcinMN",
        "outputId": "11a07b5d-bde2-43c8-84fe-9b56d06cb6cf"
      },
      "outputs": [
        {
          "output_type": "stream",
          "name": "stdout",
          "text": [
            "Numbero of people sleep for 24 h : 30\n",
            "Numbero of people sleep for 7-9 h  : 211394\n"
          ]
        }
      ],
      "source": [
        "print('Numbero of people sleep for 24 h :',data[data['SleepTime']==24].shape[0]) \n",
        "print('Numbero of people sleep for 7-9 h  :',data[ (data['SleepTime']>=7) & (data['SleepTime']<=9 ) ].shape[0]) "
      ]
    },
    {
      "cell_type": "markdown",
      "metadata": {
        "id": "E068cVqOYxZT"
      },
      "source": [
        "Creating a correlation matrix for our numeric variables, we find that there are no strong correlations existing between our numeric variables, with the strongest correlation being ~0.288 between Mental health and Physical health."
      ]
    },
    {
      "cell_type": "code",
      "execution_count": null,
      "metadata": {
        "colab": {
          "base_uri": "https://localhost:8080/"
        },
        "id": "DtMHzkcNsVt_",
        "outputId": "fed80775-d3a6-409a-f397-7b8f0f22923a"
      },
      "outputs": [
        {
          "output_type": "execute_result",
          "data": {
            "text/plain": [
              "                     BMI  PhysicalHealth  MentalHealth  SleepTime\n",
              "BMI             1.000000        0.109788      0.064131  -0.051822\n",
              "PhysicalHealth  0.109788        1.000000      0.287987  -0.061387\n",
              "MentalHealth    0.064131        0.287987      1.000000  -0.119717\n",
              "SleepTime      -0.051822       -0.061387     -0.119717   1.000000"
            ],
            "text/html": [
              "\n",
              "  <div id=\"df-88be08a7-bf2b-4318-872b-8a308e4746b3\">\n",
              "    <div class=\"colab-df-container\">\n",
              "      <div>\n",
              "<style scoped>\n",
              "    .dataframe tbody tr th:only-of-type {\n",
              "        vertical-align: middle;\n",
              "    }\n",
              "\n",
              "    .dataframe tbody tr th {\n",
              "        vertical-align: top;\n",
              "    }\n",
              "\n",
              "    .dataframe thead th {\n",
              "        text-align: right;\n",
              "    }\n",
              "</style>\n",
              "<table border=\"1\" class=\"dataframe\">\n",
              "  <thead>\n",
              "    <tr style=\"text-align: right;\">\n",
              "      <th></th>\n",
              "      <th>BMI</th>\n",
              "      <th>PhysicalHealth</th>\n",
              "      <th>MentalHealth</th>\n",
              "      <th>SleepTime</th>\n",
              "    </tr>\n",
              "  </thead>\n",
              "  <tbody>\n",
              "    <tr>\n",
              "      <th>BMI</th>\n",
              "      <td>1.000000</td>\n",
              "      <td>0.109788</td>\n",
              "      <td>0.064131</td>\n",
              "      <td>-0.051822</td>\n",
              "    </tr>\n",
              "    <tr>\n",
              "      <th>PhysicalHealth</th>\n",
              "      <td>0.109788</td>\n",
              "      <td>1.000000</td>\n",
              "      <td>0.287987</td>\n",
              "      <td>-0.061387</td>\n",
              "    </tr>\n",
              "    <tr>\n",
              "      <th>MentalHealth</th>\n",
              "      <td>0.064131</td>\n",
              "      <td>0.287987</td>\n",
              "      <td>1.000000</td>\n",
              "      <td>-0.119717</td>\n",
              "    </tr>\n",
              "    <tr>\n",
              "      <th>SleepTime</th>\n",
              "      <td>-0.051822</td>\n",
              "      <td>-0.061387</td>\n",
              "      <td>-0.119717</td>\n",
              "      <td>1.000000</td>\n",
              "    </tr>\n",
              "  </tbody>\n",
              "</table>\n",
              "</div>\n",
              "      <button class=\"colab-df-convert\" onclick=\"convertToInteractive('df-88be08a7-bf2b-4318-872b-8a308e4746b3')\"\n",
              "              title=\"Convert this dataframe to an interactive table.\"\n",
              "              style=\"display:none;\">\n",
              "        \n",
              "  <svg xmlns=\"http://www.w3.org/2000/svg\" height=\"24px\"viewBox=\"0 0 24 24\"\n",
              "       width=\"24px\">\n",
              "    <path d=\"M0 0h24v24H0V0z\" fill=\"none\"/>\n",
              "    <path d=\"M18.56 5.44l.94 2.06.94-2.06 2.06-.94-2.06-.94-.94-2.06-.94 2.06-2.06.94zm-11 1L8.5 8.5l.94-2.06 2.06-.94-2.06-.94L8.5 2.5l-.94 2.06-2.06.94zm10 10l.94 2.06.94-2.06 2.06-.94-2.06-.94-.94-2.06-.94 2.06-2.06.94z\"/><path d=\"M17.41 7.96l-1.37-1.37c-.4-.4-.92-.59-1.43-.59-.52 0-1.04.2-1.43.59L10.3 9.45l-7.72 7.72c-.78.78-.78 2.05 0 2.83L4 21.41c.39.39.9.59 1.41.59.51 0 1.02-.2 1.41-.59l7.78-7.78 2.81-2.81c.8-.78.8-2.07 0-2.86zM5.41 20L4 18.59l7.72-7.72 1.47 1.35L5.41 20z\"/>\n",
              "  </svg>\n",
              "      </button>\n",
              "      \n",
              "  <style>\n",
              "    .colab-df-container {\n",
              "      display:flex;\n",
              "      flex-wrap:wrap;\n",
              "      gap: 12px;\n",
              "    }\n",
              "\n",
              "    .colab-df-convert {\n",
              "      background-color: #E8F0FE;\n",
              "      border: none;\n",
              "      border-radius: 50%;\n",
              "      cursor: pointer;\n",
              "      display: none;\n",
              "      fill: #1967D2;\n",
              "      height: 32px;\n",
              "      padding: 0 0 0 0;\n",
              "      width: 32px;\n",
              "    }\n",
              "\n",
              "    .colab-df-convert:hover {\n",
              "      background-color: #E2EBFA;\n",
              "      box-shadow: 0px 1px 2px rgba(60, 64, 67, 0.3), 0px 1px 3px 1px rgba(60, 64, 67, 0.15);\n",
              "      fill: #174EA6;\n",
              "    }\n",
              "\n",
              "    [theme=dark] .colab-df-convert {\n",
              "      background-color: #3B4455;\n",
              "      fill: #D2E3FC;\n",
              "    }\n",
              "\n",
              "    [theme=dark] .colab-df-convert:hover {\n",
              "      background-color: #434B5C;\n",
              "      box-shadow: 0px 1px 3px 1px rgba(0, 0, 0, 0.15);\n",
              "      filter: drop-shadow(0px 1px 2px rgba(0, 0, 0, 0.3));\n",
              "      fill: #FFFFFF;\n",
              "    }\n",
              "  </style>\n",
              "\n",
              "      <script>\n",
              "        const buttonEl =\n",
              "          document.querySelector('#df-88be08a7-bf2b-4318-872b-8a308e4746b3 button.colab-df-convert');\n",
              "        buttonEl.style.display =\n",
              "          google.colab.kernel.accessAllowed ? 'block' : 'none';\n",
              "\n",
              "        async function convertToInteractive(key) {\n",
              "          const element = document.querySelector('#df-88be08a7-bf2b-4318-872b-8a308e4746b3');\n",
              "          const dataTable =\n",
              "            await google.colab.kernel.invokeFunction('convertToInteractive',\n",
              "                                                     [key], {});\n",
              "          if (!dataTable) return;\n",
              "\n",
              "          const docLinkHtml = 'Like what you see? Visit the ' +\n",
              "            '<a target=\"_blank\" href=https://colab.research.google.com/notebooks/data_table.ipynb>data table notebook</a>'\n",
              "            + ' to learn more about interactive tables.';\n",
              "          element.innerHTML = '';\n",
              "          dataTable['output_type'] = 'display_data';\n",
              "          await google.colab.output.renderOutput(dataTable, element);\n",
              "          const docLink = document.createElement('div');\n",
              "          docLink.innerHTML = docLinkHtml;\n",
              "          element.appendChild(docLink);\n",
              "        }\n",
              "      </script>\n",
              "    </div>\n",
              "  </div>\n",
              "  "
            ]
          },
          "metadata": {},
          "execution_count": 7
        }
      ],
      "source": [
        "data.corr()"
      ]
    },
    {
      "cell_type": "markdown",
      "metadata": {
        "id": "V4xoG5zJlCrM"
      },
      "source": [
        "## 3.3 Explore categorical data "
      ]
    },
    {
      "cell_type": "markdown",
      "metadata": {
        "id": "1xXBeP-tm2DO"
      },
      "source": [
        "After deep-diving into our categorical variables, we find that only the \"Diabetic\" column needed further cleaning. Diabetic has 4 categories: \n",
        "* No\n",
        "* Borderline diabetes\n",
        "* Yes (during pregnancy)\n",
        "* Yes\n",
        "The first two can be categorized as 'NO', and the last two can be categotized as 'Yes' for ease of our analysis.\n",
        "\n",
        "The rest of the categorical features are reasonable. "
      ]
    },
    {
      "cell_type": "code",
      "execution_count": null,
      "metadata": {
        "colab": {
          "base_uri": "https://localhost:8080/"
        },
        "id": "qTYRR_tUWbFD",
        "outputId": "5134a0b6-52ca-4e82-bc3a-4cb6865f2c07"
      },
      "outputs": [
        {
          "output_type": "execute_result",
          "data": {
            "text/plain": [
              "       HeartDisease Smoking AlcoholDrinking  Stroke DiffWalking     Sex  \\\n",
              "count        319795  319795          319795  319795      319795  319795   \n",
              "unique            2       2               2       2           2       2   \n",
              "top              No      No              No      No          No  Female   \n",
              "freq         292422  187887          298018  307726      275385  167805   \n",
              "\n",
              "       AgeCategory    Race Diabetic PhysicalActivity  GenHealth  Asthma  \\\n",
              "count       319795  319795   319795           319795     319795  319795   \n",
              "unique          13       6        4                2          5       2   \n",
              "top          65-69   White       No              Yes  Very good      No   \n",
              "freq         34151  245212   269653           247957     113858  276923   \n",
              "\n",
              "       KidneyDisease SkinCancer  \n",
              "count         319795     319795  \n",
              "unique             2          2  \n",
              "top               No         No  \n",
              "freq          308016     289976  "
            ],
            "text/html": [
              "\n",
              "  <div id=\"df-07740db4-4c85-45f1-8bbf-07a736b44742\">\n",
              "    <div class=\"colab-df-container\">\n",
              "      <div>\n",
              "<style scoped>\n",
              "    .dataframe tbody tr th:only-of-type {\n",
              "        vertical-align: middle;\n",
              "    }\n",
              "\n",
              "    .dataframe tbody tr th {\n",
              "        vertical-align: top;\n",
              "    }\n",
              "\n",
              "    .dataframe thead th {\n",
              "        text-align: right;\n",
              "    }\n",
              "</style>\n",
              "<table border=\"1\" class=\"dataframe\">\n",
              "  <thead>\n",
              "    <tr style=\"text-align: right;\">\n",
              "      <th></th>\n",
              "      <th>HeartDisease</th>\n",
              "      <th>Smoking</th>\n",
              "      <th>AlcoholDrinking</th>\n",
              "      <th>Stroke</th>\n",
              "      <th>DiffWalking</th>\n",
              "      <th>Sex</th>\n",
              "      <th>AgeCategory</th>\n",
              "      <th>Race</th>\n",
              "      <th>Diabetic</th>\n",
              "      <th>PhysicalActivity</th>\n",
              "      <th>GenHealth</th>\n",
              "      <th>Asthma</th>\n",
              "      <th>KidneyDisease</th>\n",
              "      <th>SkinCancer</th>\n",
              "    </tr>\n",
              "  </thead>\n",
              "  <tbody>\n",
              "    <tr>\n",
              "      <th>count</th>\n",
              "      <td>319795</td>\n",
              "      <td>319795</td>\n",
              "      <td>319795</td>\n",
              "      <td>319795</td>\n",
              "      <td>319795</td>\n",
              "      <td>319795</td>\n",
              "      <td>319795</td>\n",
              "      <td>319795</td>\n",
              "      <td>319795</td>\n",
              "      <td>319795</td>\n",
              "      <td>319795</td>\n",
              "      <td>319795</td>\n",
              "      <td>319795</td>\n",
              "      <td>319795</td>\n",
              "    </tr>\n",
              "    <tr>\n",
              "      <th>unique</th>\n",
              "      <td>2</td>\n",
              "      <td>2</td>\n",
              "      <td>2</td>\n",
              "      <td>2</td>\n",
              "      <td>2</td>\n",
              "      <td>2</td>\n",
              "      <td>13</td>\n",
              "      <td>6</td>\n",
              "      <td>4</td>\n",
              "      <td>2</td>\n",
              "      <td>5</td>\n",
              "      <td>2</td>\n",
              "      <td>2</td>\n",
              "      <td>2</td>\n",
              "    </tr>\n",
              "    <tr>\n",
              "      <th>top</th>\n",
              "      <td>No</td>\n",
              "      <td>No</td>\n",
              "      <td>No</td>\n",
              "      <td>No</td>\n",
              "      <td>No</td>\n",
              "      <td>Female</td>\n",
              "      <td>65-69</td>\n",
              "      <td>White</td>\n",
              "      <td>No</td>\n",
              "      <td>Yes</td>\n",
              "      <td>Very good</td>\n",
              "      <td>No</td>\n",
              "      <td>No</td>\n",
              "      <td>No</td>\n",
              "    </tr>\n",
              "    <tr>\n",
              "      <th>freq</th>\n",
              "      <td>292422</td>\n",
              "      <td>187887</td>\n",
              "      <td>298018</td>\n",
              "      <td>307726</td>\n",
              "      <td>275385</td>\n",
              "      <td>167805</td>\n",
              "      <td>34151</td>\n",
              "      <td>245212</td>\n",
              "      <td>269653</td>\n",
              "      <td>247957</td>\n",
              "      <td>113858</td>\n",
              "      <td>276923</td>\n",
              "      <td>308016</td>\n",
              "      <td>289976</td>\n",
              "    </tr>\n",
              "  </tbody>\n",
              "</table>\n",
              "</div>\n",
              "      <button class=\"colab-df-convert\" onclick=\"convertToInteractive('df-07740db4-4c85-45f1-8bbf-07a736b44742')\"\n",
              "              title=\"Convert this dataframe to an interactive table.\"\n",
              "              style=\"display:none;\">\n",
              "        \n",
              "  <svg xmlns=\"http://www.w3.org/2000/svg\" height=\"24px\"viewBox=\"0 0 24 24\"\n",
              "       width=\"24px\">\n",
              "    <path d=\"M0 0h24v24H0V0z\" fill=\"none\"/>\n",
              "    <path d=\"M18.56 5.44l.94 2.06.94-2.06 2.06-.94-2.06-.94-.94-2.06-.94 2.06-2.06.94zm-11 1L8.5 8.5l.94-2.06 2.06-.94-2.06-.94L8.5 2.5l-.94 2.06-2.06.94zm10 10l.94 2.06.94-2.06 2.06-.94-2.06-.94-.94-2.06-.94 2.06-2.06.94z\"/><path d=\"M17.41 7.96l-1.37-1.37c-.4-.4-.92-.59-1.43-.59-.52 0-1.04.2-1.43.59L10.3 9.45l-7.72 7.72c-.78.78-.78 2.05 0 2.83L4 21.41c.39.39.9.59 1.41.59.51 0 1.02-.2 1.41-.59l7.78-7.78 2.81-2.81c.8-.78.8-2.07 0-2.86zM5.41 20L4 18.59l7.72-7.72 1.47 1.35L5.41 20z\"/>\n",
              "  </svg>\n",
              "      </button>\n",
              "      \n",
              "  <style>\n",
              "    .colab-df-container {\n",
              "      display:flex;\n",
              "      flex-wrap:wrap;\n",
              "      gap: 12px;\n",
              "    }\n",
              "\n",
              "    .colab-df-convert {\n",
              "      background-color: #E8F0FE;\n",
              "      border: none;\n",
              "      border-radius: 50%;\n",
              "      cursor: pointer;\n",
              "      display: none;\n",
              "      fill: #1967D2;\n",
              "      height: 32px;\n",
              "      padding: 0 0 0 0;\n",
              "      width: 32px;\n",
              "    }\n",
              "\n",
              "    .colab-df-convert:hover {\n",
              "      background-color: #E2EBFA;\n",
              "      box-shadow: 0px 1px 2px rgba(60, 64, 67, 0.3), 0px 1px 3px 1px rgba(60, 64, 67, 0.15);\n",
              "      fill: #174EA6;\n",
              "    }\n",
              "\n",
              "    [theme=dark] .colab-df-convert {\n",
              "      background-color: #3B4455;\n",
              "      fill: #D2E3FC;\n",
              "    }\n",
              "\n",
              "    [theme=dark] .colab-df-convert:hover {\n",
              "      background-color: #434B5C;\n",
              "      box-shadow: 0px 1px 3px 1px rgba(0, 0, 0, 0.15);\n",
              "      filter: drop-shadow(0px 1px 2px rgba(0, 0, 0, 0.3));\n",
              "      fill: #FFFFFF;\n",
              "    }\n",
              "  </style>\n",
              "\n",
              "      <script>\n",
              "        const buttonEl =\n",
              "          document.querySelector('#df-07740db4-4c85-45f1-8bbf-07a736b44742 button.colab-df-convert');\n",
              "        buttonEl.style.display =\n",
              "          google.colab.kernel.accessAllowed ? 'block' : 'none';\n",
              "\n",
              "        async function convertToInteractive(key) {\n",
              "          const element = document.querySelector('#df-07740db4-4c85-45f1-8bbf-07a736b44742');\n",
              "          const dataTable =\n",
              "            await google.colab.kernel.invokeFunction('convertToInteractive',\n",
              "                                                     [key], {});\n",
              "          if (!dataTable) return;\n",
              "\n",
              "          const docLinkHtml = 'Like what you see? Visit the ' +\n",
              "            '<a target=\"_blank\" href=https://colab.research.google.com/notebooks/data_table.ipynb>data table notebook</a>'\n",
              "            + ' to learn more about interactive tables.';\n",
              "          element.innerHTML = '';\n",
              "          dataTable['output_type'] = 'display_data';\n",
              "          await google.colab.output.renderOutput(dataTable, element);\n",
              "          const docLink = document.createElement('div');\n",
              "          docLink.innerHTML = docLinkHtml;\n",
              "          element.appendChild(docLink);\n",
              "        }\n",
              "      </script>\n",
              "    </div>\n",
              "  </div>\n",
              "  "
            ]
          },
          "metadata": {},
          "execution_count": 8
        }
      ],
      "source": [
        "data.describe(include=object)"
      ]
    },
    {
      "cell_type": "code",
      "execution_count": null,
      "metadata": {
        "colab": {
          "base_uri": "https://localhost:8080/"
        },
        "id": "ORTaJS9UlIPL",
        "outputId": "4cc37f77-34b9-4f5a-8b3d-1476c7ea3851"
      },
      "outputs": [
        {
          "output_type": "execute_result",
          "data": {
            "text/plain": [
              "No     292422\n",
              "Yes     27373\n",
              "Name: HeartDisease, dtype: int64"
            ]
          },
          "metadata": {},
          "execution_count": 9
        }
      ],
      "source": [
        "data['HeartDisease'].value_counts()"
      ]
    },
    {
      "cell_type": "code",
      "execution_count": null,
      "metadata": {
        "colab": {
          "base_uri": "https://localhost:8080/"
        },
        "id": "oWQI7_5ElIVx",
        "outputId": "b22826c1-50b9-4f07-ba20-0a10db2ee3b0"
      },
      "outputs": [
        {
          "output_type": "execute_result",
          "data": {
            "text/plain": [
              "No     187887\n",
              "Yes    131908\n",
              "Name: Smoking, dtype: int64"
            ]
          },
          "metadata": {},
          "execution_count": 10
        }
      ],
      "source": [
        "data['Smoking'].value_counts()"
      ]
    },
    {
      "cell_type": "code",
      "execution_count": null,
      "metadata": {
        "colab": {
          "base_uri": "https://localhost:8080/"
        },
        "id": "jr09CtPxlIYv",
        "outputId": "215eadd0-bebf-41ad-d156-85d7eadfaa71"
      },
      "outputs": [
        {
          "output_type": "execute_result",
          "data": {
            "text/plain": [
              "No     298018\n",
              "Yes     21777\n",
              "Name: AlcoholDrinking, dtype: int64"
            ]
          },
          "metadata": {},
          "execution_count": 11
        }
      ],
      "source": [
        "data['AlcoholDrinking'].value_counts()"
      ]
    },
    {
      "cell_type": "code",
      "execution_count": null,
      "metadata": {
        "colab": {
          "base_uri": "https://localhost:8080/"
        },
        "id": "1cyf4DJGlcc5",
        "outputId": "6fdaba5f-e615-404a-b3b2-622d53e04473"
      },
      "outputs": [
        {
          "output_type": "execute_result",
          "data": {
            "text/plain": [
              "No     307726\n",
              "Yes     12069\n",
              "Name: Stroke, dtype: int64"
            ]
          },
          "metadata": {},
          "execution_count": 12
        }
      ],
      "source": [
        "data['Stroke'].value_counts()"
      ]
    },
    {
      "cell_type": "code",
      "execution_count": null,
      "metadata": {
        "colab": {
          "base_uri": "https://localhost:8080/"
        },
        "id": "_yCsEny8lfbz",
        "outputId": "d8d7a5ac-ad87-4a97-d24d-3d629886705c"
      },
      "outputs": [
        {
          "output_type": "execute_result",
          "data": {
            "text/plain": [
              "No     275385\n",
              "Yes     44410\n",
              "Name: DiffWalking, dtype: int64"
            ]
          },
          "metadata": {},
          "execution_count": 13
        }
      ],
      "source": [
        "data['DiffWalking'].value_counts()"
      ]
    },
    {
      "cell_type": "code",
      "execution_count": null,
      "metadata": {
        "colab": {
          "base_uri": "https://localhost:8080/"
        },
        "id": "CzByGFVOlj1-",
        "outputId": "ee37ade2-ca55-4b9e-daa0-e8f4aa52b3b6"
      },
      "outputs": [
        {
          "output_type": "execute_result",
          "data": {
            "text/plain": [
              "Female    167805\n",
              "Male      151990\n",
              "Name: Sex, dtype: int64"
            ]
          },
          "metadata": {},
          "execution_count": 14
        }
      ],
      "source": [
        "data['Sex'].value_counts()"
      ]
    },
    {
      "cell_type": "markdown",
      "metadata": {
        "id": "e-2TUlIylux0"
      },
      "source": [
        "We have 13 age category values ranging from 18 to 80+ :"
      ]
    },
    {
      "cell_type": "code",
      "execution_count": null,
      "metadata": {
        "colab": {
          "base_uri": "https://localhost:8080/"
        },
        "id": "gf8IWlpXlnYX",
        "outputId": "303ea0dc-b184-44eb-c9a5-aca98523d665"
      },
      "outputs": [
        {
          "output_type": "execute_result",
          "data": {
            "text/plain": [
              "65-69          34151\n",
              "60-64          33686\n",
              "70-74          31065\n",
              "55-59          29757\n",
              "50-54          25382\n",
              "80 or older    24153\n",
              "45-49          21791\n",
              "75-79          21482\n",
              "18-24          21064\n",
              "40-44          21006\n",
              "35-39          20550\n",
              "30-34          18753\n",
              "25-29          16955\n",
              "Name: AgeCategory, dtype: int64"
            ]
          },
          "metadata": {},
          "execution_count": 15
        }
      ],
      "source": [
        "data['AgeCategory'].value_counts()"
      ]
    },
    {
      "cell_type": "markdown",
      "metadata": {
        "id": "u-SZWS0Bl-Y9"
      },
      "source": [
        "We have 6 races in our dataset, which are:"
      ]
    },
    {
      "cell_type": "code",
      "execution_count": null,
      "metadata": {
        "colab": {
          "base_uri": "https://localhost:8080/"
        },
        "id": "V_nzLAn3l5qZ",
        "outputId": "2932e835-bf7f-430c-8f3b-c835d70c84d9"
      },
      "outputs": [
        {
          "output_type": "execute_result",
          "data": {
            "text/plain": [
              "White                             245212\n",
              "Hispanic                           27446\n",
              "Black                              22939\n",
              "Other                              10928\n",
              "Asian                               8068\n",
              "American Indian/Alaskan Native      5202\n",
              "Name: Race, dtype: int64"
            ]
          },
          "metadata": {},
          "execution_count": 16
        }
      ],
      "source": [
        "data['Race'].value_counts()"
      ]
    },
    {
      "cell_type": "markdown",
      "metadata": {
        "id": "Wrn4aR6RmIPu"
      },
      "source": [
        "Diabetic has 4 categories, out of which 'No, borderline diabetes' could be categorzie to 'NO', and  'Yes (during pregnancy)' could be categorized to 'Yes' as explained earlier. "
      ]
    },
    {
      "cell_type": "code",
      "execution_count": null,
      "metadata": {
        "colab": {
          "base_uri": "https://localhost:8080/"
        },
        "id": "7xHnBe-amDPO",
        "outputId": "32b1db68-dccd-4f93-8d65-4ff7e56c54e9"
      },
      "outputs": [
        {
          "output_type": "execute_result",
          "data": {
            "text/plain": [
              "No                         269653\n",
              "Yes                         40802\n",
              "No, borderline diabetes      6781\n",
              "Yes (during pregnancy)       2559\n",
              "Name: Diabetic, dtype: int64"
            ]
          },
          "metadata": {},
          "execution_count": 17
        }
      ],
      "source": [
        "data['Diabetic'].value_counts()"
      ]
    },
    {
      "cell_type": "code",
      "execution_count": null,
      "metadata": {
        "colab": {
          "base_uri": "https://localhost:8080/"
        },
        "id": "V0uLWT7RmdB2",
        "outputId": "4d0cd660-01dd-447f-e652-d687c938481d"
      },
      "outputs": [
        {
          "output_type": "execute_result",
          "data": {
            "text/plain": [
              "Yes    247957\n",
              "No      71838\n",
              "Name: PhysicalActivity, dtype: int64"
            ]
          },
          "metadata": {},
          "execution_count": 18
        }
      ],
      "source": [
        "data['PhysicalActivity'].value_counts()"
      ]
    },
    {
      "cell_type": "markdown",
      "metadata": {
        "id": "3TVXACBDmjiz"
      },
      "source": [
        "We have five General health categories. "
      ]
    },
    {
      "cell_type": "code",
      "execution_count": null,
      "metadata": {
        "colab": {
          "base_uri": "https://localhost:8080/"
        },
        "id": "CNqhL1y3mgIH",
        "outputId": "6a5d0ceb-4640-4303-d572-ae74a32c5842"
      },
      "outputs": [
        {
          "output_type": "execute_result",
          "data": {
            "text/plain": [
              "Very good    113858\n",
              "Good          93129\n",
              "Excellent     66842\n",
              "Fair          34677\n",
              "Poor          11289\n",
              "Name: GenHealth, dtype: int64"
            ]
          },
          "metadata": {},
          "execution_count": 19
        }
      ],
      "source": [
        "data['GenHealth'].value_counts()"
      ]
    },
    {
      "cell_type": "code",
      "execution_count": null,
      "metadata": {
        "colab": {
          "base_uri": "https://localhost:8080/"
        },
        "id": "9bud07I_mnSY",
        "outputId": "4b3fa82c-2ddf-4f79-fc67-b3f333129e8d"
      },
      "outputs": [
        {
          "output_type": "execute_result",
          "data": {
            "text/plain": [
              "No     276923\n",
              "Yes     42872\n",
              "Name: Asthma, dtype: int64"
            ]
          },
          "metadata": {},
          "execution_count": 20
        }
      ],
      "source": [
        "data['Asthma'].value_counts()"
      ]
    },
    {
      "cell_type": "code",
      "execution_count": null,
      "metadata": {
        "colab": {
          "base_uri": "https://localhost:8080/"
        },
        "id": "v-yjFMvYmuu8",
        "outputId": "3a10f702-bb8a-43a1-a06d-215af414b5d9"
      },
      "outputs": [
        {
          "output_type": "execute_result",
          "data": {
            "text/plain": [
              "No     308016\n",
              "Yes     11779\n",
              "Name: KidneyDisease, dtype: int64"
            ]
          },
          "metadata": {},
          "execution_count": 21
        }
      ],
      "source": [
        "data['KidneyDisease'].value_counts()"
      ]
    },
    {
      "cell_type": "code",
      "execution_count": null,
      "metadata": {
        "colab": {
          "base_uri": "https://localhost:8080/"
        },
        "id": "LizYIZQdmsdF",
        "outputId": "2c29becb-15bf-40f8-92b3-5a64ade16e73"
      },
      "outputs": [
        {
          "output_type": "execute_result",
          "data": {
            "text/plain": [
              "No     289976\n",
              "Yes     29819\n",
              "Name: SkinCancer, dtype: int64"
            ]
          },
          "metadata": {},
          "execution_count": 22
        }
      ],
      "source": [
        "data['SkinCancer'].value_counts()"
      ]
    },
    {
      "cell_type": "markdown",
      "metadata": {
        "id": "_W2cFB9Mdeti"
      },
      "source": [
        "## 3.4 Data Cleaning"
      ]
    },
    {
      "cell_type": "markdown",
      "metadata": {
        "id": "-3Mi13dNneeV"
      },
      "source": [
        "We first start by making a copy of the dataset to make sure no changes are applied to the original data. "
      ]
    },
    {
      "cell_type": "code",
      "execution_count": null,
      "metadata": {
        "id": "vgBpdOKyW-AS"
      },
      "outputs": [],
      "source": [
        "data_copy=data.copy()"
      ]
    },
    {
      "cell_type": "markdown",
      "metadata": {
        "id": "1ND68EsPXlRk"
      },
      "source": [
        "Converted response in Diabetic columns: 'No, borderline diabetes' replaced with 'No', and 'Yes (during pregnancy)' replaced with 'Yes' for consistency."
      ]
    },
    {
      "cell_type": "code",
      "execution_count": null,
      "metadata": {
        "id": "S9KYbLDGXoCA"
      },
      "outputs": [],
      "source": [
        "data_copy['Diabetic']=data_copy['Diabetic'].replace('No, borderline diabetes','No')\n",
        "data_copy['Diabetic']=data_copy['Diabetic'].replace('Yes (during pregnancy)','Yes')\n",
        "\n",
        "#DONT DELETE THE CODE BELOW\n",
        "data_copy_ml = data_copy.copy()"
      ]
    },
    {
      "cell_type": "markdown",
      "metadata": {
        "id": "XaATsfSdXuCC"
      },
      "source": [
        "Replace No and Yes with 0 and 1 for easy percentage calculation of binary variables.  \n",
        "we also replaced value in Sex: \n",
        "\n",
        "* Female is 0\n",
        "* Male is 1 "
      ]
    },
    {
      "cell_type": "code",
      "execution_count": null,
      "metadata": {
        "id": "IXvf1dzMXGiV"
      },
      "outputs": [],
      "source": [
        "cols=data_copy.select_dtypes(include='object').columns\n",
        "for col in cols: \n",
        "    data_copy[col]=data_copy[col].replace('No',0)\n",
        "    data_copy[col]=data_copy[col].replace('Yes',1)    \n",
        "data_copy['Sex']=data_copy['Sex'].replace('Female',0)\n",
        "data_copy['Sex']=data_copy['Sex'].replace('Male',1)"
      ]
    },
    {
      "cell_type": "markdown",
      "metadata": {
        "id": "rtr6k8JlntWc"
      },
      "source": [
        "Considering that it's the health status of body weight that matter other than the actual value, and also it's better to assign meaning to what the BMI value reflects. We decided to create a new column that covert BMI from numeric data to categorical data named 'weight states'. The conversion criteria are according to CDC. https://www.cdc.gov/healthyweight/assessing/index.html#:~:text=If%20your%20BMI%20is%20less,falls%20within%20the%20obese%20range."
      ]
    },
    {
      "cell_type": "code",
      "execution_count": null,
      "metadata": {
        "id": "_lmtaeOZnsAx"
      },
      "outputs": [],
      "source": [
        "data_copy['weight_status'] = data_copy['BMI']\n",
        "data_copy.loc[data_copy.BMI<18.5,'weight_status']='Underweight'\n",
        "data_copy.loc[(18.5<=data_copy.BMI ) & (data_copy.BMI<=24.9),'weight_status']='HealthyWeight' \n",
        "data_copy.loc[(24.9<data_copy.BMI ) & (data_copy.BMI<=29.9),'weight_status']='Overweight'\n",
        "data_copy.loc[29.9<data_copy.BMI,'weight_status']='Obese'"
      ]
    },
    {
      "cell_type": "code",
      "execution_count": null,
      "metadata": {
        "colab": {
          "base_uri": "https://localhost:8080/"
        },
        "id": "eUipxNUxXYxu",
        "outputId": "4c6b7a71-87db-4bac-9c07-893e1392d34c"
      },
      "outputs": [
        {
          "output_type": "stream",
          "name": "stdout",
          "text": [
            "<class 'pandas.core.frame.DataFrame'>\n",
            "RangeIndex: 319795 entries, 0 to 319794\n",
            "Data columns (total 19 columns):\n",
            " #   Column            Non-Null Count   Dtype  \n",
            "---  ------            --------------   -----  \n",
            " 0   HeartDisease      319795 non-null  int64  \n",
            " 1   BMI               319795 non-null  float64\n",
            " 2   Smoking           319795 non-null  int64  \n",
            " 3   AlcoholDrinking   319795 non-null  int64  \n",
            " 4   Stroke            319795 non-null  int64  \n",
            " 5   PhysicalHealth    319795 non-null  float64\n",
            " 6   MentalHealth      319795 non-null  float64\n",
            " 7   DiffWalking       319795 non-null  int64  \n",
            " 8   Sex               319795 non-null  int64  \n",
            " 9   AgeCategory       319795 non-null  object \n",
            " 10  Race              319795 non-null  object \n",
            " 11  Diabetic          319795 non-null  int64  \n",
            " 12  PhysicalActivity  319795 non-null  int64  \n",
            " 13  GenHealth         319795 non-null  object \n",
            " 14  SleepTime         319795 non-null  float64\n",
            " 15  Asthma            319795 non-null  int64  \n",
            " 16  KidneyDisease     319795 non-null  int64  \n",
            " 17  SkinCancer        319795 non-null  int64  \n",
            " 18  weight_status     319795 non-null  object \n",
            "dtypes: float64(4), int64(11), object(4)\n",
            "memory usage: 46.4+ MB\n"
          ]
        }
      ],
      "source": [
        "data_copy.info()"
      ]
    },
    {
      "cell_type": "markdown",
      "metadata": {
        "id": "iqyT-xIg1iNI"
      },
      "source": [
        "## 3.5 Correlation plots"
      ]
    },
    {
      "cell_type": "markdown",
      "metadata": {
        "id": "0jlKbZY51zJT"
      },
      "source": [
        "The table below shows that DiffWalking, Stroke, Diabetic, PhysicalHealth, KidneyDisease, and Smoking are the top variable that has a high correlation with heart disease. \n",
        "Besides, the correlation Martic plot shows that DiffWalking is highly correlated with PhysicalHealth, which makes sense that people have difficulty feeling their physical health is not well. "
      ]
    },
    {
      "cell_type": "code",
      "execution_count": null,
      "metadata": {
        "colab": {
          "base_uri": "https://localhost:8080/"
        },
        "id": "Bi2ka8dj1yjh",
        "outputId": "db67a339-dfe1-4db1-c81a-2d233c810704"
      },
      "outputs": [
        {
          "output_type": "execute_result",
          "data": {
            "text/plain": [
              "HeartDisease        1.000000\n",
              "DiffWalking         0.201258\n",
              "Stroke              0.196835\n",
              "Diabetic            0.174782\n",
              "PhysicalHealth      0.170721\n",
              "KidneyDisease       0.145197\n",
              "Smoking             0.107764\n",
              "SkinCancer          0.093317\n",
              "Sex                 0.070040\n",
              "BMI                 0.051803\n",
              "Asthma              0.041444\n",
              "MentalHealth        0.028591\n",
              "SleepTime           0.008327\n",
              "AlcoholDrinking    -0.032080\n",
              "PhysicalActivity   -0.100030\n",
              "Name: HeartDisease, dtype: float64"
            ]
          },
          "metadata": {},
          "execution_count": 28
        }
      ],
      "source": [
        "data_copy.corr()['HeartDisease'].sort_values(ascending=False)"
      ]
    },
    {
      "cell_type": "code",
      "execution_count": null,
      "metadata": {
        "colab": {
          "base_uri": "https://localhost:8080/"
        },
        "id": "i6eQ7waV12ww",
        "outputId": "218567af-3898-431e-aa50-dea6058c34c4"
      },
      "outputs": [
        {
          "output_type": "execute_result",
          "data": {
            "text/plain": [
              "<matplotlib.axes._subplots.AxesSubplot at 0x7ff741840880>"
            ]
          },
          "metadata": {},
          "execution_count": 29
        },
        {
          "output_type": "display_data",
          "data": {
            "text/plain": [
              "<Figure size 792x648 with 2 Axes>"
            ],
            "image/png": "[encoded data removed]"
          },
          "metadata": {
            "needs_background": "light"
          }
        }
      ],
      "source": [
        "import matplotlib.pyplot as plt\n",
        "\n",
        "corr = data_copy.corr()\n",
        "\n",
        "mask = np.triu(np.ones_like(corr, dtype=bool))\n",
        "f, ax = plt.subplots(figsize=(11, 9))\n",
        "\n",
        "cmap = sns.diverging_palette(230, 20, as_cmap=True)\n",
        "\n",
        "sns.heatmap(corr, mask=mask, cmap=cmap,vmin=-1, vmax=1, center=0,\n",
        "            square=True, linewidths=.5, cbar_kws={\"shrink\": .5},annot=True)"
      ]
    },
    {
      "cell_type": "markdown",
      "metadata": {
        "id": "ObtRuB2YuvUB"
      },
      "source": [
        "# 4.Exploration and Questions "
      ]
    },
    {
      "cell_type": "markdown",
      "metadata": {
        "id": "-rO4qp3EYh_i"
      },
      "source": [
        "## 4.1 Race"
      ]
    },
    {
      "cell_type": "markdown",
      "metadata": {
        "id": "mFIaafVMZSyv"
      },
      "source": [
        "After data exploration and cleaning, our first task is to explore the differences in heart disease rates that might exist in race. We will then attempt to identify the variables which are impacting heart disease, and see how they are impacting different races. "
      ]
    },
    {
      "cell_type": "markdown",
      "metadata": {
        "id": "t89kf84tL2_o"
      },
      "source": [
        "### 4.1.1 How is Heart Disease Correlated with Race for different Age Categories"
      ]
    },
    {
      "cell_type": "code",
      "execution_count": null,
      "metadata": {
        "colab": {
          "base_uri": "https://localhost:8080/"
        },
        "id": "NXM84c-gYhRB",
        "outputId": "b4070407-4e34-4316-8496-1c7b343b157a"
      },
      "outputs": [
        {
          "output_type": "execute_result",
          "data": {
            "text/plain": [
              "Text(0.5, 0.98, 'Heart Disease Correlation with Race for AgeCategories')"
            ]
          },
          "metadata": {},
          "execution_count": 30
        },
        {
          "output_type": "display_data",
          "data": {
            "text/plain": [
              "<Figure size 825.875x360 with 1 Axes>"
            ],
            "image/png": "[encoded data removed]"
          },
          "metadata": {
            "needs_background": "light"
          }
        }
      ],
      "source": [
        "g=sns.catplot(x='AgeCategory',y='HeartDisease',data=data_copy.sort_values('AgeCategory'),kind='point',hue='Race',ci=None, aspect=1.75, height = 5)\n",
        "g.set_xticklabels(rotation=45);\n",
        "g.fig.suptitle('Heart Disease Correlation with Race for AgeCategories')"
      ]
    },
    {
      "cell_type": "markdown",
      "metadata": {
        "id": "kTdkhGbKLw9K"
      },
      "source": [
        "As we see from the graph above, Asians have the lowest chance of getting heart disease cross all age categories. American Indian/Alaskan Natives have the highest change of getting heart disease across all age categories. This pattern has been consistent across almost all age categories. \n"
      ]
    },
    {
      "cell_type": "markdown",
      "metadata": {
        "id": "XRIKtPix3_a6"
      },
      "source": [
        "Before we make any further explorations, we first need to make sure that our results are not skewed by data size, we make a table of how many respondents are in each race. We can see that even with race with the smallest number of respondents,5200 is still a  number that statistically large enough for the purposes of our analysis. \n",
        "\n",
        "From the table below, we see that most of the respondents are White (over 240,000), while the smallest number of respondents is Native American (~5,200). This is also roughly consistent with demographic data in the US, where White people are the largest race group. "
      ]
    },
    {
      "cell_type": "code",
      "execution_count": null,
      "metadata": {
        "colab": {
          "base_uri": "https://localhost:8080/"
        },
        "id": "3Rk6MQZAGy13",
        "outputId": "654e4968-5cf1-4bfd-f08e-b007228a3890"
      },
      "outputs": [
        {
          "output_type": "execute_result",
          "data": {
            "text/plain": [
              "White                             245212\n",
              "Hispanic                           27446\n",
              "Black                              22939\n",
              "Other                              10928\n",
              "Asian                               8068\n",
              "American Indian/Alaskan Native      5202\n",
              "Name: Race, dtype: int64"
            ]
          },
          "metadata": {},
          "execution_count": 31
        }
      ],
      "source": [
        "data['Race'].value_counts()"
      ]
    },
    {
      "cell_type": "markdown",
      "metadata": {
        "id": "KeVymeNBMzJD"
      },
      "source": [
        "### 4.1.2 Identifying important variables which impact Race and Heart Disease"
      ]
    },
    {
      "cell_type": "markdown",
      "metadata": {
        "id": "gdMw5FtVZoSW"
      },
      "source": [
        "We grouped by race to see how each variable performs for each race category and to investigate what effect race has on a different chance of getting heart disease. Especially Asian (lowest mean chance of getting heart disease  )and American Indian/ Alaskan Native (highest mean chance of getting heart disease). "
      ]
    },
    {
      "cell_type": "code",
      "execution_count": null,
      "metadata": {
        "colab": {
          "base_uri": "https://localhost:8080/"
        },
        "id": "d3cP2twuYhYE",
        "outputId": "26343449-f58e-4c0a-eb06-b725452af7d5"
      },
      "outputs": [
        {
          "output_type": "execute_result",
          "data": {
            "text/plain": [
              "                                HeartDisease        BMI   Smoking  \\\n",
              "Race                                                                \n",
              "American Indian/Alaskan Native      0.104191  29.627678  0.549020   \n",
              "Asian                               0.032970  25.218303  0.227938   \n",
              "Black                               0.075374  30.169993  0.344740   \n",
              "Hispanic                            0.052576  28.818086  0.305035   \n",
              "Other                               0.081076  28.748967  0.454887   \n",
              "White                               0.091786  28.153422  0.432124   \n",
              "\n",
              "                                AlcoholDrinking    Stroke  PhysicalHealth  \\\n",
              "Race                                                                        \n",
              "American Indian/Alaskan Native         0.059785  0.059016        4.791042   \n",
              "Asian                                  0.033218  0.018716        1.630640   \n",
              "Black                                  0.044553  0.054754        3.696935   \n",
              "Hispanic                               0.055309  0.021679        3.227137   \n",
              "Other                                  0.075403  0.043558        4.052343   \n",
              "White                                  0.072729  0.037861        3.354310   \n",
              "\n",
              "                                MentalHealth  DiffWalking       Sex  Diabetic  \\\n",
              "Race                                                                            \n",
              "American Indian/Alaskan Native      5.036332     0.206651  0.461938  0.206651   \n",
              "Asian                               2.755454     0.055404  0.517848  0.108949   \n",
              "Black                               4.211561     0.188151  0.408300  0.201752   \n",
              "Hispanic                            4.188297     0.129600  0.469394  0.143700   \n",
              "Other                               5.225750     0.154466  0.498536  0.147145   \n",
              "White                               3.790924     0.135911  0.480042  0.127347   \n",
              "\n",
              "                                PhysicalActivity  SleepTime    Asthma  \\\n",
              "Race                                                                    \n",
              "American Indian/Alaskan Native          0.717801   7.056709  0.170511   \n",
              "Asian                                   0.806767   6.918691  0.098042   \n",
              "Black                                   0.709752   6.992763  0.160164   \n",
              "Hispanic                                0.698317   7.035014  0.138381   \n",
              "Other                                   0.779374   6.860359  0.184846   \n",
              "White                                   0.790133   7.131054  0.129284   \n",
              "\n",
              "                                KidneyDisease  SkinCancer  \n",
              "Race                                                       \n",
              "American Indian/Alaskan Native       0.047674    0.032680  \n",
              "Asian                                0.016981    0.006941  \n",
              "Black                                0.043812    0.006016  \n",
              "Hispanic                             0.030095    0.015084  \n",
              "Other                                0.034773    0.043924  \n",
              "White                                0.037449    0.116475  "
            ],
            "text/html": [
              "\n",
              "  <div id=\"df-ab7e8bb5-5122-4299-aa36-46720106f218\">\n",
              "    <div class=\"colab-df-container\">\n",
              "      <div>\n",
              "<style scoped>\n",
              "    .dataframe tbody tr th:only-of-type {\n",
              "        vertical-align: middle;\n",
              "    }\n",
              "\n",
              "    .dataframe tbody tr th {\n",
              "        vertical-align: top;\n",
              "    }\n",
              "\n",
              "    .dataframe thead th {\n",
              "        text-align: right;\n",
              "    }\n",
              "</style>\n",
              "<table border=\"1\" class=\"dataframe\">\n",
              "  <thead>\n",
              "    <tr style=\"text-align: right;\">\n",
              "      <th></th>\n",
              "      <th>HeartDisease</th>\n",
              "      <th>BMI</th>\n",
              "      <th>Smoking</th>\n",
              "      <th>AlcoholDrinking</th>\n",
              "      <th>Stroke</th>\n",
              "      <th>PhysicalHealth</th>\n",
              "      <th>MentalHealth</th>\n",
              "      <th>DiffWalking</th>\n",
              "      <th>Sex</th>\n",
              "      <th>Diabetic</th>\n",
              "      <th>PhysicalActivity</th>\n",
              "      <th>SleepTime</th>\n",
              "      <th>Asthma</th>\n",
              "      <th>KidneyDisease</th>\n",
              "      <th>SkinCancer</th>\n",
              "    </tr>\n",
              "    <tr>\n",
              "      <th>Race</th>\n",
              "      <th></th>\n",
              "      <th></th>\n",
              "      <th></th>\n",
              "      <th></th>\n",
              "      <th></th>\n",
              "      <th></th>\n",
              "      <th></th>\n",
              "      <th></th>\n",
              "      <th></th>\n",
              "      <th></th>\n",
              "      <th></th>\n",
              "      <th></th>\n",
              "      <th></th>\n",
              "      <th></th>\n",
              "      <th></th>\n",
              "    </tr>\n",
              "  </thead>\n",
              "  <tbody>\n",
              "    <tr>\n",
              "      <th>American Indian/Alaskan Native</th>\n",
              "      <td>0.104191</td>\n",
              "      <td>29.627678</td>\n",
              "      <td>0.549020</td>\n",
              "      <td>0.059785</td>\n",
              "      <td>0.059016</td>\n",
              "      <td>4.791042</td>\n",
              "      <td>5.036332</td>\n",
              "      <td>0.206651</td>\n",
              "      <td>0.461938</td>\n",
              "      <td>0.206651</td>\n",
              "      <td>0.717801</td>\n",
              "      <td>7.056709</td>\n",
              "      <td>0.170511</td>\n",
              "      <td>0.047674</td>\n",
              "      <td>0.032680</td>\n",
              "    </tr>\n",
              "    <tr>\n",
              "      <th>Asian</th>\n",
              "      <td>0.032970</td>\n",
              "      <td>25.218303</td>\n",
              "      <td>0.227938</td>\n",
              "      <td>0.033218</td>\n",
              "      <td>0.018716</td>\n",
              "      <td>1.630640</td>\n",
              "      <td>2.755454</td>\n",
              "      <td>0.055404</td>\n",
              "      <td>0.517848</td>\n",
              "      <td>0.108949</td>\n",
              "      <td>0.806767</td>\n",
              "      <td>6.918691</td>\n",
              "      <td>0.098042</td>\n",
              "      <td>0.016981</td>\n",
              "      <td>0.006941</td>\n",
              "    </tr>\n",
              "    <tr>\n",
              "      <th>Black</th>\n",
              "      <td>0.075374</td>\n",
              "      <td>30.169993</td>\n",
              "      <td>0.344740</td>\n",
              "      <td>0.044553</td>\n",
              "      <td>0.054754</td>\n",
              "      <td>3.696935</td>\n",
              "      <td>4.211561</td>\n",
              "      <td>0.188151</td>\n",
              "      <td>0.408300</td>\n",
              "      <td>0.201752</td>\n",
              "      <td>0.709752</td>\n",
              "      <td>6.992763</td>\n",
              "      <td>0.160164</td>\n",
              "      <td>0.043812</td>\n",
              "      <td>0.006016</td>\n",
              "    </tr>\n",
              "    <tr>\n",
              "      <th>Hispanic</th>\n",
              "      <td>0.052576</td>\n",
              "      <td>28.818086</td>\n",
              "      <td>0.305035</td>\n",
              "      <td>0.055309</td>\n",
              "      <td>0.021679</td>\n",
              "      <td>3.227137</td>\n",
              "      <td>4.188297</td>\n",
              "      <td>0.129600</td>\n",
              "      <td>0.469394</td>\n",
              "      <td>0.143700</td>\n",
              "      <td>0.698317</td>\n",
              "      <td>7.035014</td>\n",
              "      <td>0.138381</td>\n",
              "      <td>0.030095</td>\n",
              "      <td>0.015084</td>\n",
              "    </tr>\n",
              "    <tr>\n",
              "      <th>Other</th>\n",
              "      <td>0.081076</td>\n",
              "      <td>28.748967</td>\n",
              "      <td>0.454887</td>\n",
              "      <td>0.075403</td>\n",
              "      <td>0.043558</td>\n",
              "      <td>4.052343</td>\n",
              "      <td>5.225750</td>\n",
              "      <td>0.154466</td>\n",
              "      <td>0.498536</td>\n",
              "      <td>0.147145</td>\n",
              "      <td>0.779374</td>\n",
              "      <td>6.860359</td>\n",
              "      <td>0.184846</td>\n",
              "      <td>0.034773</td>\n",
              "      <td>0.043924</td>\n",
              "    </tr>\n",
              "    <tr>\n",
              "      <th>White</th>\n",
              "      <td>0.091786</td>\n",
              "      <td>28.153422</td>\n",
              "      <td>0.432124</td>\n",
              "      <td>0.072729</td>\n",
              "      <td>0.037861</td>\n",
              "      <td>3.354310</td>\n",
              "      <td>3.790924</td>\n",
              "      <td>0.135911</td>\n",
              "      <td>0.480042</td>\n",
              "      <td>0.127347</td>\n",
              "      <td>0.790133</td>\n",
              "      <td>7.131054</td>\n",
              "      <td>0.129284</td>\n",
              "      <td>0.037449</td>\n",
              "      <td>0.116475</td>\n",
              "    </tr>\n",
              "  </tbody>\n",
              "</table>\n",
              "</div>\n",
              "      <button class=\"colab-df-convert\" onclick=\"convertToInteractive('df-ab7e8bb5-5122-4299-aa36-46720106f218')\"\n",
              "              title=\"Convert this dataframe to an interactive table.\"\n",
              "              style=\"display:none;\">\n",
              "        \n",
              "  <svg xmlns=\"http://www.w3.org/2000/svg\" height=\"24px\"viewBox=\"0 0 24 24\"\n",
              "       width=\"24px\">\n",
              "    <path d=\"M0 0h24v24H0V0z\" fill=\"none\"/>\n",
              "    <path d=\"M18.56 5.44l.94 2.06.94-2.06 2.06-.94-2.06-.94-.94-2.06-.94 2.06-2.06.94zm-11 1L8.5 8.5l.94-2.06 2.06-.94-2.06-.94L8.5 2.5l-.94 2.06-2.06.94zm10 10l.94 2.06.94-2.06 2.06-.94-2.06-.94-.94-2.06-.94 2.06-2.06.94z\"/><path d=\"M17.41 7.96l-1.37-1.37c-.4-.4-.92-.59-1.43-.59-.52 0-1.04.2-1.43.59L10.3 9.45l-7.72 7.72c-.78.78-.78 2.05 0 2.83L4 21.41c.39.39.9.59 1.41.59.51 0 1.02-.2 1.41-.59l7.78-7.78 2.81-2.81c.8-.78.8-2.07 0-2.86zM5.41 20L4 18.59l7.72-7.72 1.47 1.35L5.41 20z\"/>\n",
              "  </svg>\n",
              "      </button>\n",
              "      \n",
              "  <style>\n",
              "    .colab-df-container {\n",
              "      display:flex;\n",
              "      flex-wrap:wrap;\n",
              "      gap: 12px;\n",
              "    }\n",
              "\n",
              "    .colab-df-convert {\n",
              "      background-color: #E8F0FE;\n",
              "      border: none;\n",
              "      border-radius: 50%;\n",
              "      cursor: pointer;\n",
              "      display: none;\n",
              "      fill: #1967D2;\n",
              "      height: 32px;\n",
              "      padding: 0 0 0 0;\n",
              "      width: 32px;\n",
              "    }\n",
              "\n",
              "    .colab-df-convert:hover {\n",
              "      background-color: #E2EBFA;\n",
              "      box-shadow: 0px 1px 2px rgba(60, 64, 67, 0.3), 0px 1px 3px 1px rgba(60, 64, 67, 0.15);\n",
              "      fill: #174EA6;\n",
              "    }\n",
              "\n",
              "    [theme=dark] .colab-df-convert {\n",
              "      background-color: #3B4455;\n",
              "      fill: #D2E3FC;\n",
              "    }\n",
              "\n",
              "    [theme=dark] .colab-df-convert:hover {\n",
              "      background-color: #434B5C;\n",
              "      box-shadow: 0px 1px 3px 1px rgba(0, 0, 0, 0.15);\n",
              "      filter: drop-shadow(0px 1px 2px rgba(0, 0, 0, 0.3));\n",
              "      fill: #FFFFFF;\n",
              "    }\n",
              "  </style>\n",
              "\n",
              "      <script>\n",
              "        const buttonEl =\n",
              "          document.querySelector('#df-ab7e8bb5-5122-4299-aa36-46720106f218 button.colab-df-convert');\n",
              "        buttonEl.style.display =\n",
              "          google.colab.kernel.accessAllowed ? 'block' : 'none';\n",
              "\n",
              "        async function convertToInteractive(key) {\n",
              "          const element = document.querySelector('#df-ab7e8bb5-5122-4299-aa36-46720106f218');\n",
              "          const dataTable =\n",
              "            await google.colab.kernel.invokeFunction('convertToInteractive',\n",
              "                                                     [key], {});\n",
              "          if (!dataTable) return;\n",
              "\n",
              "          const docLinkHtml = 'Like what you see? Visit the ' +\n",
              "            '<a target=\"_blank\" href=https://colab.research.google.com/notebooks/data_table.ipynb>data table notebook</a>'\n",
              "            + ' to learn more about interactive tables.';\n",
              "          element.innerHTML = '';\n",
              "          dataTable['output_type'] = 'display_data';\n",
              "          await google.colab.output.renderOutput(dataTable, element);\n",
              "          const docLink = document.createElement('div');\n",
              "          docLink.innerHTML = docLinkHtml;\n",
              "          element.appendChild(docLink);\n",
              "        }\n",
              "      </script>\n",
              "    </div>\n",
              "  </div>\n",
              "  "
            ]
          },
          "metadata": {},
          "execution_count": 32
        }
      ],
      "source": [
        "data_copy.groupby('Race').mean()"
      ]
    },
    {
      "cell_type": "markdown",
      "metadata": {
        "id": "_x63SvU6aHyA"
      },
      "source": [
        "We found the 8 following features that might make the different races have different chances of getting heart disease that needs further analysis, **these features are baed on them having the largest disparity between the races. Thus we are identifying variables where there is disparity between races, and then mapping out their impact on heart disease**:\n",
        "\n",
        "- Smoking   \n",
        "\n",
        "The smoking percentage of different races is different and American Indian/Alaskan Native has the highest percentage of smoking, Asian has the lowest chance of smoking.\n",
        "\n",
        "- AlcoholDrinking \n",
        "\n",
        "The AlcoholDrinking percentage of a different race are different and American Indian/Alaskan Native has the highest percentage of AlcoholDrinking, Asian has the lowest chance of AlcoholDrinking\n",
        "\n",
        "- Stroke\n",
        "\n",
        "The Stroke percentage of a different race are different and American Indian/Alaskan Native has the highest percentage of Stroke, Asian has the lowest chance of Stroke\n",
        "\n",
        "- PhysicalHealth\n",
        "\n",
        "The PhysicalHealth percentage of a different race are different American Indian/Alaskan Native has the highest number of days of feeling not good in physical health, Asian has the lowest number of days of feeling not good in physical health\n",
        "\n",
        "- MentalHealth\n",
        "\n",
        "The MentalHealth percentage of a different race are different American Indian/Alaskan Native has the highest number of days of feeling not good in mental health, Asian has the lowest number of days of feeling not good in physical health\n",
        "\n",
        "\n",
        "- DiffWalking\n",
        "  \n",
        "The DiffWalking percentage of a different race are different and American Indian/Alaskan Native has the highest percentage of DiffWalking, Asian has the lowest chance of DiffWalking\n",
        "\n",
        "\n",
        "- Diabetic\n",
        "\n",
        "The Diabetic percentage of a different race are different and American Indian/Alaskan Native has the highest percentage of Diabetic, Asian has the lowest chance of Diabetic\n",
        "\n",
        "\n",
        "- KidneyDisease\n",
        "\n",
        "The KidneyDisease percentage of a different race are different and American Indian/Alaskan Native has the highest percentage of KidneyDisease, Asian has the lowest chance of KidneyDisease"
      ]
    },
    {
      "cell_type": "markdown",
      "metadata": {
        "id": "YNjXwT30udPc"
      },
      "source": [
        "The order of race sorted by mean chance of getting heart across age category is (highest to lowest) American Indian/Alaskan Native, White, Other, Black, Hispanic, Asian"
      ]
    },
    {
      "cell_type": "markdown",
      "metadata": {
        "id": "7BzHFfz152WO"
      },
      "source": [
        "### 4.1.3 Visulization on race "
      ]
    },
    {
      "cell_type": "markdown",
      "metadata": {
        "id": "SgxGc3OP7J4g"
      },
      "source": [
        "Let's use visualization to see how these variables affect differently on different races.\n"
      ]
    },
    {
      "cell_type": "markdown",
      "metadata": {
        "id": "luMeE2kB9hDe"
      },
      "source": [
        "#### Stroke"
      ]
    },
    {
      "cell_type": "markdown",
      "metadata": {
        "id": "QXNUTRtrnV4C"
      },
      "source": [
        "\n",
        "\n",
        "Stroke has a different impact on different races, American Indians/Alaskan Native is most sensitive to Stroke with the largest difference in getting heart disease compared with people who have Stroke and those who don't. \n",
        "\n",
        "Since there is the largest percentage of people who have a stroke in American Indian/Alaskan Natives compared to other races and American Indian/Alaskan Native people are most sensitive to Stroke, meaning that they might be a large percentage of American Indian/Alaskan Natives affected by stroke might get heart disease due to stroke. Therefore, we think Stroke might be one of the main effects that make American Indians/Alaskan Native has the highest chance of getting heart disease."
      ]
    },
    {
      "cell_type": "code",
      "execution_count": null,
      "metadata": {
        "id": "wf1NIzdW9pZM",
        "colab": {
          "base_uri": "https://localhost:8080/",
          "height": 540
        },
        "outputId": "a1b0eeb3-7c40-4ccd-e4b3-280d6e35ec0c"
      },
      "outputs": [
        {
          "output_type": "execute_result",
          "data": {
            "text/plain": [
              "Text(0.5, 0.98, 'Visualizing Stroke on Race')"
            ]
          },
          "metadata": {},
          "execution_count": 34
        },
        {
          "output_type": "display_data",
          "data": {
            "text/plain": [
              "<Figure size 402.375x360 with 1 Axes>"
            ],
            "image/png": "[encoded data removed]"
          },
          "metadata": {
            "needs_background": "light"
          }
        }
      ],
      "source": [
        "data_copy['HeartDisease'] = data_copy['HeartDisease'].replace('No', 0)\n",
        "data_copy['HeartDisease'] = data_copy['HeartDisease'].replace('Yes', 1)\n",
        "g=sns.catplot(x='Race',y='HeartDisease',data=data_copy,kind='bar',hue='Stroke',ci=None)\n",
        "\n",
        "g.set_xticklabels(rotation=90);\n",
        "g.fig.suptitle('Visualizing Stroke on Race')"
      ]
    },
    {
      "cell_type": "code",
      "execution_count": null,
      "metadata": {
        "colab": {
          "base_uri": "https://localhost:8080/"
        },
        "id": "DDNMcd7EcMCj",
        "outputId": "39e34511-d24e-44f3-d670-e62c1f5c6f54"
      },
      "outputs": [
        {
          "output_type": "execute_result",
          "data": {
            "text/plain": [
              "Race\n",
              "American Indian/Alaskan Native    0.380825\n",
              "Asian                             0.317340\n",
              "Black                             0.258021\n",
              "Hispanic                          0.374020\n",
              "Other                             0.334766\n",
              "White                             0.280085\n",
              "Name: HeartDisease, dtype: float64"
            ]
          },
          "metadata": {},
          "execution_count": 35
        }
      ],
      "source": [
        "data_copy[data_copy.Stroke==1].groupby('Race').mean()['HeartDisease']-data_copy[data_copy.Stroke==0].groupby('Race').mean()['HeartDisease'].sort_values()"
      ]
    },
    {
      "cell_type": "markdown",
      "metadata": {
        "id": "cEmQ_7O6pS5_"
      },
      "source": [
        "Let's see if our inference is correct.  \n",
        "It looks like that stroke might be indeed a main effect since American Indian/Alaskan Natives have the highest chance of getting stroke across all age categories.\n",
        "So in essence our results are compounded for native americans, not only does a stroke impact them the most, they also have the highest chance of getting strokes."
      ]
    },
    {
      "cell_type": "code",
      "execution_count": null,
      "metadata": {
        "colab": {
          "base_uri": "https://localhost:8080/",
          "height": 434
        },
        "id": "F1K0g3vJcMGx",
        "outputId": "2f00ad02-fca1-4f91-d8ae-3c4f4d5ff2c2"
      },
      "outputs": [
        {
          "output_type": "execute_result",
          "data": {
            "text/plain": [
              "Text(0.5, 0.98, 'Visualizing Stroke on Race')"
            ]
          },
          "metadata": {},
          "execution_count": 36
        },
        {
          "output_type": "display_data",
          "data": {
            "text/plain": [
              "<Figure size 915.875x360 with 1 Axes>"
            ],
            "image/png": "[encoded data removed]"
          },
          "metadata": {
            "needs_background": "light"
          }
        }
      ],
      "source": [
        "data_copy['Stroke'] = data_copy['Stroke'].replace('No', 0)\n",
        "data_copy['Stroke'] = data_copy['Stroke'].replace('Yes', 1)\n",
        "g=sns.catplot(x='AgeCategory',y='Stroke',data=data_copy.sort_values('AgeCategory'),kind='point',hue='Race',ci=None, aspect=2)\n",
        "g.set_xticklabels(rotation=90)\n",
        "g.fig.suptitle('Visualizing Stroke on Race')"
      ]
    },
    {
      "cell_type": "markdown",
      "metadata": {
        "id": "QFo4r94KJi0u"
      },
      "source": [
        "#### Difficulty Walking"
      ]
    },
    {
      "cell_type": "markdown",
      "metadata": {
        "id": "olEvTgj2sL-r"
      },
      "source": [
        "let's see DiffWalking\n"
      ]
    },
    {
      "cell_type": "code",
      "execution_count": null,
      "metadata": {
        "colab": {
          "base_uri": "https://localhost:8080/",
          "height": 540
        },
        "id": "Sb2SUDM4cMPP",
        "outputId": "29ecac33-5044-4b8a-862e-3ade6535a49e"
      },
      "outputs": [
        {
          "output_type": "execute_result",
          "data": {
            "text/plain": [
              "Text(0.5, 0.98, 'Visualizing DiffWalking on Race')"
            ]
          },
          "metadata": {},
          "execution_count": 37
        },
        {
          "output_type": "display_data",
          "data": {
            "text/plain": [
              "<Figure size 425.5x360 with 1 Axes>"
            ],
            "image/png": "[encoded data removed]"
          },
          "metadata": {
            "needs_background": "light"
          }
        }
      ],
      "source": [
        "g=sns.catplot(x='Race',y='HeartDisease',data=data_copy,kind='bar',hue='DiffWalking',ci=None)\n",
        "g.set_xticklabels(rotation=90)\n",
        "g.fig.suptitle('Visualizing DiffWalking on Race')"
      ]
    },
    {
      "cell_type": "markdown",
      "metadata": {
        "id": "1Bjy8Of_sldF"
      },
      "source": [
        "DiffWalking have a different impact on the different race, American Indians/Alaskan Native is most sensitive to DiffWalking with the largest difference in getting heart disease compared with people who have DiffWalking and those who don't. \n",
        "\n",
        "Since there is the largest percentage of people who have DiffWalking  in American Indian/Alaskan Natives compared to other races and American Indian/Alaskan Native people are most sensitive to DiffWalking , meaning that they might be a large percentage of American Indian/Alaskan Natives affected by DiffWalking  might get heart disease due to DiffWalking .Therefore, we think DiffWalking might be one of the main effects that make American Indians/Alaskan Native has the highest chance of getting heart disease."
      ]
    },
    {
      "cell_type": "code",
      "execution_count": null,
      "metadata": {
        "colab": {
          "base_uri": "https://localhost:8080/"
        },
        "id": "AO4lfKRscMRC",
        "outputId": "76dfe89b-6707-4c07-ce40-1b13085702a9"
      },
      "outputs": [
        {
          "output_type": "execute_result",
          "data": {
            "text/plain": [
              "Race\n",
              "American Indian/Alaskan Native    0.193463\n",
              "Asian                             0.107198\n",
              "Black                             0.142892\n",
              "Hispanic                          0.130809\n",
              "Other                             0.157745\n",
              "White                             0.168489\n",
              "Name: HeartDisease, dtype: float64"
            ]
          },
          "metadata": {},
          "execution_count": 38
        }
      ],
      "source": [
        "data_copy[data_copy.DiffWalking==1].groupby('Race').mean()['HeartDisease']-data_copy[data_copy.DiffWalking==0].groupby('Race').mean()['HeartDisease'].sort_values()"
      ]
    },
    {
      "cell_type": "markdown",
      "metadata": {
        "id": "9di2b99dtYsw"
      },
      "source": [
        "let's see if our assumption is correct \n",
        "\n",
        "It looks like that DiffWalking might be indeed a main effect since American Indian/Alaskan Natives have the highest chance of getting DiffWalking across all age categories and Asian have the lowest chance of getting DiffWalking across all age categories"
      ]
    },
    {
      "cell_type": "code",
      "execution_count": null,
      "metadata": {
        "colab": {
          "base_uri": "https://localhost:8080/",
          "height": 434
        },
        "id": "fG8cgkgWtHiw",
        "outputId": "72c9e1f0-883b-464a-d47f-873e2270482d"
      },
      "outputs": [
        {
          "output_type": "execute_result",
          "data": {
            "text/plain": [
              "Text(0.5, 0.98, 'Visualizing DiffWalking on Race')"
            ]
          },
          "metadata": {},
          "execution_count": 39
        },
        {
          "output_type": "display_data",
          "data": {
            "text/plain": [
              "<Figure size 555.875x360 with 1 Axes>"
            ],
            "image/png": "[encoded data removed]"
          },
          "metadata": {
            "needs_background": "light"
          }
        }
      ],
      "source": [
        "g=sns.catplot(x='AgeCategory',y='DiffWalking',data=data_copy.sort_values('AgeCategory'),kind='point',hue='Race',ci=None)\n",
        "g.set_xticklabels(rotation=90)\n",
        "g.fig.suptitle('Visualizing DiffWalking on Race')"
      ]
    },
    {
      "cell_type": "markdown",
      "metadata": {
        "id": "R6nC_b4xzt0g"
      },
      "source": [
        "We already found two variables stroke and diffwalking might be the main effect that makes a different race of getting heart disease. \n",
        "We want to see their combined effect, and if the two variables have a high correlation between them."
      ]
    },
    {
      "cell_type": "markdown",
      "metadata": {
        "id": "O8clyGAt0kWJ"
      },
      "source": [
        "It looks like the two variables correlate because people who have a stroke also have a higher percentage of getting diffwalking. "
      ]
    },
    {
      "cell_type": "code",
      "execution_count": null,
      "metadata": {
        "colab": {
          "base_uri": "https://localhost:8080/"
        },
        "id": "ouN9ddD00HB5",
        "outputId": "54ce2280-e3d0-4135-8b6f-033b51b20f24"
      },
      "outputs": [
        {
          "output_type": "execute_result",
          "data": {
            "text/plain": [
              "Stroke\n",
              "0    0.126944\n",
              "1    0.442953\n",
              "Name: DiffWalking, dtype: float64"
            ]
          },
          "metadata": {},
          "execution_count": 40
        }
      ],
      "source": [
        "data_copy.groupby('Stroke').mean()['DiffWalking']"
      ]
    },
    {
      "cell_type": "markdown",
      "metadata": {
        "id": "7tAjcVlu1A1j"
      },
      "source": [
        "let see whether it is the case  true for differnce race "
      ]
    },
    {
      "cell_type": "markdown",
      "metadata": {
        "id": "4n20LPTN1gTy"
      },
      "source": [
        "Yes, it is. Comparing the two tables. For all races, the percentage of diffWalking is much higher for people who have a stroke "
      ]
    },
    {
      "cell_type": "markdown",
      "metadata": {
        "id": "iIhUtElsAM80"
      },
      "source": [
        "Races of getting diffwalking with stroke"
      ]
    },
    {
      "cell_type": "code",
      "execution_count": null,
      "metadata": {
        "colab": {
          "base_uri": "https://localhost:8080/"
        },
        "id": "2KoipEjh_p4Z",
        "outputId": "e0a59f36-818f-4110-f10f-4ba5acb5ceae"
      },
      "outputs": [
        {
          "output_type": "execute_result",
          "data": {
            "text/plain": [
              "Race\n",
              "American Indian/Alaskan Native    0.579805\n",
              "Asian                             0.377483\n",
              "Black                             0.520701\n",
              "Hispanic                          0.494118\n",
              "Other                             0.489496\n",
              "White                             0.423309\n",
              "Name: DiffWalking, dtype: float64"
            ]
          },
          "metadata": {},
          "execution_count": 41
        }
      ],
      "source": [
        "data_copy[data_copy.Stroke==1].groupby('Race').mean()['DiffWalking']"
      ]
    },
    {
      "cell_type": "markdown",
      "metadata": {
        "id": "ivS4uObDATVB"
      },
      "source": [
        "Races of getting diffwalking without stroke"
      ]
    },
    {
      "cell_type": "code",
      "execution_count": null,
      "metadata": {
        "colab": {
          "base_uri": "https://localhost:8080/"
        },
        "id": "hOe4nZ1x_5tb",
        "outputId": "eccfa51e-f6f9-4fbf-812f-b66110f84ef9"
      },
      "outputs": [
        {
          "output_type": "execute_result",
          "data": {
            "text/plain": [
              "Race\n",
              "American Indian/Alaskan Native    0.183248\n",
              "Asian                             0.049261\n",
              "Black                             0.168888\n",
              "Hispanic                          0.121522\n",
              "Other                             0.139208\n",
              "White                             0.124602\n",
              "Name: DiffWalking, dtype: float64"
            ]
          },
          "metadata": {},
          "execution_count": 42
        }
      ],
      "source": [
        "data_copy[data_copy.Stroke==0].groupby('Race').mean()['DiffWalking']"
      ]
    },
    {
      "cell_type": "markdown",
      "metadata": {
        "id": "tZH_1Ilra9n-"
      },
      "source": [
        "How is their combina effect on heart disease for different races? "
      ]
    },
    {
      "cell_type": "markdown",
      "metadata": {
        "id": "nJ5qvzutbC16"
      },
      "source": []
    },
    {
      "cell_type": "markdown",
      "metadata": {
        "id": "7r6vVpFjAX-z"
      },
      "source": [
        "#### Diabetes"
      ]
    },
    {
      "cell_type": "markdown",
      "metadata": {
        "id": "zbW0Igk1vLMW"
      },
      "source": [
        "let's see Diabetic.\n",
        "\n",
        "Diabetic has a different impact on different races, White is the most sensitive to Diabetic with the largest difference in getting heart disease compared with people Diabetic and those who don't, while Asian are least sensitive to Diabetic. "
      ]
    },
    {
      "cell_type": "code",
      "execution_count": null,
      "metadata": {
        "colab": {
          "base_uri": "https://localhost:8080/",
          "height": 519
        },
        "id": "F8Fm-EJmshgO",
        "outputId": "94200824-849e-4b20-c502-958100d2665b"
      },
      "outputs": [
        {
          "output_type": "display_data",
          "data": {
            "text/plain": [
              "<Figure size 409.375x360 with 1 Axes>"
            ],
            "image/png": "[encoded data removed]"
          },
          "metadata": {
            "needs_background": "light"
          }
        }
      ],
      "source": [
        "g=sns.catplot(x='Race',y='HeartDisease',data=data_copy,kind='bar',hue='Diabetic',ci=None)\n",
        "g.set_xticklabels(rotation=90);"
      ]
    },
    {
      "cell_type": "code",
      "execution_count": null,
      "metadata": {
        "colab": {
          "base_uri": "https://localhost:8080/"
        },
        "id": "nfwSfS5ZtHrg",
        "outputId": "5f99a362-3f4d-4945-8424-090ee665588c"
      },
      "outputs": [
        {
          "output_type": "execute_result",
          "data": {
            "text/plain": [
              "Race\n",
              "American Indian/Alaskan Native    0.136009\n",
              "Asian                             0.077907\n",
              "Black                             0.116442\n",
              "Hispanic                          0.110635\n",
              "Other                             0.147755\n",
              "White                             0.153679\n",
              "Name: HeartDisease, dtype: float64"
            ]
          },
          "metadata": {},
          "execution_count": 44
        }
      ],
      "source": [
        "data_copy[data_copy.Diabetic==1].groupby('Race').mean()['HeartDisease']-data_copy[data_copy.Diabetic==0].groupby('Race').mean()['HeartDisease'].sort_values()"
      ]
    },
    {
      "cell_type": "code",
      "execution_count": null,
      "metadata": {
        "colab": {
          "base_uri": "https://localhost:8080/",
          "height": 414
        },
        "id": "3zScns9Hszzg",
        "outputId": "08017184-1c91-463b-cd83-815735956422"
      },
      "outputs": [
        {
          "output_type": "display_data",
          "data": {
            "text/plain": [
              "<Figure size 555.875x360 with 1 Axes>"
            ],
            "image/png": "[encoded data removed]"
          },
          "metadata": {
            "needs_background": "light"
          }
        }
      ],
      "source": [
        "g=sns.catplot(x='AgeCategory',y='Diabetic',data=data_copy.sort_values('AgeCategory'),kind='point',hue='Race',ci=None)\n",
        "g.set_xticklabels(rotation=90);"
      ]
    },
    {
      "cell_type": "markdown",
      "metadata": {
        "id": "nHFcS87nQlGP"
      },
      "source": [
        "### 4.1.4 Other Variables: "
      ]
    },
    {
      "cell_type": "markdown",
      "metadata": {
        "id": "cwb7zJmy9VSP"
      },
      "source": [
        "#### Smoking"
      ]
    },
    {
      "cell_type": "markdown",
      "metadata": {
        "id": "5RqbdfLc9TZW"
      },
      "source": [
        "Let's see smoking first, one of the variables we found that might make the difference that affects different races to have a different chance of getting heart disease "
      ]
    },
    {
      "cell_type": "code",
      "execution_count": null,
      "metadata": {
        "id": "z2Q66TvhcL6R"
      },
      "outputs": [],
      "source": [
        "#g=sns.catplot(x='Race',y='HeartDisease',data=data_copy,kind='bar',hue='Smoking',ci=None)\n",
        "#g.set_xticklabels(rotation=90);"
      ]
    },
    {
      "cell_type": "markdown",
      "metadata": {
        "id": "CMno2BVdi97Z"
      },
      "source": [
        "We first see that across all race categories, those who smoke have much higher probability of having heart disease than non smokers.\n",
        "\n",
        "Our logic is that if we wish to see the impact of smoking on different races, we should see the additional impact that smoking has on a race's probability of getting heart disease. \n",
        "\n",
        "Therefore we select people who smoking group by race, and select people who don't smoke group by race and do the difference in their chance of getting heart disease, which is the gap distance between smoking and no smoking (distance between organge line and blue line )in each race of the above graph"
      ]
    },
    {
      "cell_type": "markdown",
      "metadata": {
        "id": "fVbfh2lwknlu"
      },
      "source": [
        "Smoking has a different impact on the different race, 'black' is the most sensitive to smoking with the largest difference in getting heart disease compared with people smoking and those who don't, while 'Hispanic'  is least sensitive to smoking. \n",
        "\n",
        "For Asians we see that the impact of smoking is ~0.411, which is the second lowest, thus smoking has one of the lowest impacts of heart disease on Asians. Whereas for American Indians, the impact is ~0.609, which is one of the highest. "
      ]
    },
    {
      "cell_type": "code",
      "execution_count": null,
      "metadata": {
        "colab": {
          "base_uri": "https://localhost:8080/"
        },
        "id": "2sixRzN9ir0B",
        "outputId": "7c674498-5b9d-48a7-b8d5-3b4f7d947e18"
      },
      "outputs": [
        {
          "output_type": "execute_result",
          "data": {
            "text/plain": [
              "Race\n",
              "American Indian/Alaskan Native    0.060894\n",
              "Asian                             0.041110\n",
              "Black                             0.062902\n",
              "Hispanic                          0.034002\n",
              "Other                             0.052023\n",
              "White                             0.061692\n",
              "Name: HeartDisease, dtype: float64"
            ]
          },
          "metadata": {},
          "execution_count": 47
        }
      ],
      "source": [
        "data_copy[data_copy.Smoking==1].groupby('Race').mean()['HeartDisease']-data_copy[data_copy.Smoking==0].groupby('Race').mean()['HeartDisease'].sort_values()"
      ]
    },
    {
      "cell_type": "markdown",
      "metadata": {
        "id": "BsT2_tNS9b9H"
      },
      "source": [
        "#### AlcoholDrinking"
      ]
    },
    {
      "cell_type": "markdown",
      "metadata": {
        "id": "OHLQQcJIlODN"
      },
      "source": [
        "Let's see AlcoholDrinking, one of the variables we found that might make the difference that affects different race to have a different chance of getting heart disease \n",
        "\n",
        "It looks like AlcoholDrinking has a different impact on different race, American Indian/Alaskan Native is most sensitive to AlcoholDrinking with the largest difference in getting heart disease compared with people who AlcoholDrinking and those who don't, while Asian are less sensitive to AlcoholDrinking. \n",
        "\n",
        "And also we can tell that AlcoholDrinking lowers the chance of getting heart disease. \n",
        "\n",
        "\n"
      ]
    },
    {
      "cell_type": "code",
      "execution_count": null,
      "metadata": {
        "colab": {
          "base_uri": "https://localhost:8080/"
        },
        "id": "juMmZWuilWZq",
        "outputId": "b2b622bf-1847-46f6-abe4-0385d356b29a"
      },
      "outputs": [
        {
          "output_type": "execute_result",
          "data": {
            "text/plain": [
              "Race\n",
              "American Indian/Alaskan Native   -0.052678\n",
              "Asian                            -0.014805\n",
              "Black                            -0.035876\n",
              "Hispanic                         -0.008933\n",
              "Other                            -0.033873\n",
              "White                            -0.040389\n",
              "Name: HeartDisease, dtype: float64"
            ]
          },
          "metadata": {},
          "execution_count": 48
        }
      ],
      "source": [
        "data_copy[data_copy.AlcoholDrinking==1].groupby('Race').mean()['HeartDisease']-data_copy[data_copy.AlcoholDrinking==0].groupby('Race').mean()['HeartDisease'].sort_values()"
      ]
    },
    {
      "cell_type": "markdown",
      "metadata": {
        "id": "z7_8CzOMQntH"
      },
      "source": [
        "We will now look at other variables, that did not have the most outsized impacts, but were still useful for our overalll analysis."
      ]
    },
    {
      "cell_type": "markdown",
      "metadata": {
        "id": "H1rjI_Pr-UwD"
      },
      "source": [
        "#### PhysicalHealth"
      ]
    },
    {
      "cell_type": "markdown",
      "metadata": {
        "id": "SlHStR76rC90"
      },
      "source": [
        "Let's see PhysicalHealth.  \n",
        "PhysicalHealth has a different impact on different race, other race is most sensitive to PhysicalHealth with the largest difference in the number of feeling not good compared with people who have heart disease and those who don't. While Asian is the least sensitive race to PhysicalHealth"
      ]
    },
    {
      "cell_type": "code",
      "execution_count": null,
      "metadata": {
        "colab": {
          "base_uri": "https://localhost:8080/"
        },
        "id": "DwTEw7kGqolf",
        "outputId": "0e240c5f-2f40-42ee-d019-fd6fdb401c2d"
      },
      "outputs": [
        {
          "output_type": "execute_result",
          "data": {
            "text/plain": [
              "Race\n",
              "American Indian/Alaskan Native    5.971337\n",
              "Asian                             3.561986\n",
              "Black                             5.391327\n",
              "Hispanic                          5.747240\n",
              "Other                             6.275896\n",
              "White                             4.655728\n",
              "Name: PhysicalHealth, dtype: float64"
            ]
          },
          "metadata": {},
          "execution_count": 49
        }
      ],
      "source": [
        "data_copy[data_copy.HeartDisease==1].groupby('Race').mean()['PhysicalHealth']-data_copy[data_copy.HeartDisease==0].groupby('Race').mean()['PhysicalHealth'].sort_values()"
      ]
    },
    {
      "cell_type": "markdown",
      "metadata": {
        "id": "tB_SMa3QJeuZ"
      },
      "source": [
        "#### MentalHealth"
      ]
    },
    {
      "cell_type": "markdown",
      "metadata": {
        "id": "av210q4Jr4FG"
      },
      "source": [
        "MentalHealth have different impact on different race, Hispanic race is most sensitive to MentalHealth with the largest differece in numer  of feeling not good  compared with people haveheart disease and those don't. While White is the leaset sensitive race to MentalHealth"
      ]
    },
    {
      "cell_type": "code",
      "execution_count": null,
      "metadata": {
        "colab": {
          "base_uri": "https://localhost:8080/"
        },
        "id": "ugHABTGkcMNB",
        "outputId": "35adbcf0-70f7-473f-8cc7-9a639629af75"
      },
      "outputs": [
        {
          "output_type": "execute_result",
          "data": {
            "text/plain": [
              "Race\n",
              "American Indian/Alaskan Native    2.165285\n",
              "Asian                             0.975972\n",
              "Black                             1.897324\n",
              "Hispanic                          2.559581\n",
              "Other                             1.746553\n",
              "White                             0.541147\n",
              "Name: MentalHealth, dtype: float64"
            ]
          },
          "metadata": {},
          "execution_count": 50
        }
      ],
      "source": [
        "data_copy[data_copy.HeartDisease==1].groupby('Race').mean()['MentalHealth']-data_copy[data_copy.HeartDisease==0].groupby('Race').mean()['MentalHealth'].sort_values()"
      ]
    },
    {
      "cell_type": "markdown",
      "metadata": {
        "id": "xXWrSEc5Amg9"
      },
      "source": [
        "#### PhysicalActivity"
      ]
    },
    {
      "cell_type": "markdown",
      "metadata": {
        "id": "Q7aCnAh7wOqd"
      },
      "source": [
        "let's see  PhysicalActivity \n",
        "\n",
        "PhysicalActivity have a different impact on different race, American Indian/Alaskan Native is most sensitive to PhysicalActivity with the largest difference in getting heart disease compared with people PhysicalActivity and those who don't, while Asian are least sensitive to PhysicalActivity. "
      ]
    },
    {
      "cell_type": "code",
      "execution_count": null,
      "metadata": {
        "colab": {
          "base_uri": "https://localhost:8080/"
        },
        "id": "_x6HE_uFvfEH",
        "outputId": "7e3b3341-9b44-4d04-b271-27a8599a7395"
      },
      "outputs": [
        {
          "output_type": "execute_result",
          "data": {
            "text/plain": [
              "Race\n",
              "American Indian/Alaskan Native   -0.100640\n",
              "Asian                            -0.014788\n",
              "Black                            -0.050822\n",
              "Hispanic                         -0.027269\n",
              "Other                            -0.068931\n",
              "White                            -0.077997\n",
              "Name: HeartDisease, dtype: float64"
            ]
          },
          "metadata": {},
          "execution_count": 51
        }
      ],
      "source": [
        "data_copy[data_copy.PhysicalActivity==1].groupby('Race').mean()['HeartDisease']-data_copy[data_copy.PhysicalActivity==0].groupby('Race').mean()['HeartDisease'].sort_values()"
      ]
    },
    {
      "cell_type": "markdown",
      "metadata": {
        "id": "1GFWP7vTweO1"
      },
      "source": [
        "Besides, we can also see that even American Indian/Alaskan Native is most sensitive to PhysicalActivity, and PhysicalActivity might relate to reducing the chance of getting heart disease, American Indian/Alaskan Native is not the top race that loves doing PhysicalActivity (71.8%). "
      ]
    },
    {
      "cell_type": "code",
      "execution_count": null,
      "metadata": {
        "colab": {
          "base_uri": "https://localhost:8080/"
        },
        "id": "eM9JGvCjvfGU",
        "outputId": "693c471f-fed3-4de7-f07d-0fe5f4c674f5"
      },
      "outputs": [
        {
          "output_type": "execute_result",
          "data": {
            "text/plain": [
              "Race\n",
              "American Indian/Alaskan Native    0.717801\n",
              "Asian                             0.806767\n",
              "Black                             0.709752\n",
              "Hispanic                          0.698317\n",
              "Other                             0.779374\n",
              "White                             0.790133\n",
              "Name: PhysicalActivity, dtype: float64"
            ]
          },
          "metadata": {},
          "execution_count": 52
        }
      ],
      "source": [
        "data_copy.groupby('Race').mean()['PhysicalActivity']"
      ]
    },
    {
      "cell_type": "markdown",
      "metadata": {
        "id": "iLEgqzyBBEOJ"
      },
      "source": [
        "#### Sleeptime"
      ]
    },
    {
      "cell_type": "markdown",
      "metadata": {
        "id": "OaOzT8C0xTFV"
      },
      "source": [
        "Lets see sleeptime"
      ]
    },
    {
      "cell_type": "code",
      "execution_count": null,
      "metadata": {
        "colab": {
          "base_uri": "https://localhost:8080/"
        },
        "id": "HN_VPQWbvfMq",
        "outputId": "c09b0a95-8bd2-4f31-93e8-bdc505a685c9"
      },
      "outputs": [
        {
          "output_type": "execute_result",
          "data": {
            "text/plain": [
              "Race\n",
              "American Indian/Alaskan Native   -0.120974\n",
              "Asian                            -0.153061\n",
              "Black                             0.004073\n",
              "Hispanic                         -0.164231\n",
              "Other                            -0.102286\n",
              "White                             0.061316\n",
              "Name: SleepTime, dtype: float64"
            ]
          },
          "metadata": {},
          "execution_count": 53
        }
      ],
      "source": [
        "data_copy[data_copy.HeartDisease==1].groupby('Race').mean()['SleepTime']-data_copy[data_copy.HeartDisease==0].groupby('Race').mean()['SleepTime'].sort_values()"
      ]
    },
    {
      "cell_type": "markdown",
      "metadata": {
        "id": "bFB2cgVSx4nm"
      },
      "source": [
        "Since there is a small difference in sleep time between them (only showing a few minutes difference in sleep time), we categorized sleep time according to CDC criteria to see if there are interesting patterns between different sleep statuses. "
      ]
    },
    {
      "cell_type": "code",
      "execution_count": null,
      "metadata": {
        "id": "nNiOf79TycXu"
      },
      "outputs": [],
      "source": [
        "data_copy.loc[data_copy.SleepTime<7,'SleepTime_range']='undersleep' \n",
        "data_copy.loc[(7<=data_copy.SleepTime ) & (data_copy.SleepTime<=9),'SleepTime_range']='healthSleep' \n",
        "data_copy.loc[(9<data_copy.SleepTime ) & (data_copy.SleepTime<=24),'SleepTime_range']='oversleep'"
      ]
    },
    {
      "cell_type": "markdown",
      "metadata": {
        "id": "j0QMCsuNyp_B"
      },
      "source": [
        "It looks like whatever their sleep time status is, they follow a similar pattern of getting heart disease for each race.   \n",
        "However, interestingly, people who oversleep have a higher chance of getting heart disease than people who undersleep. And healthy sleep time does have the lowest chance of getting heart disease"
      ]
    },
    {
      "cell_type": "code",
      "execution_count": null,
      "metadata": {
        "id": "fJ6CfC3-xo5P"
      },
      "outputs": [],
      "source": [
        "#g=sns.catplot(x='Race',y='HeartDisease',data=data_copy,kind='point',hue='SleepTime_range',ci=None)\n",
        "#g.set_xticklabels(rotation=90);"
      ]
    },
    {
      "cell_type": "code",
      "execution_count": null,
      "metadata": {
        "id": "6cy3v-MHoWC-"
      },
      "outputs": [],
      "source": [
        "#g=sns.catplot(x='Race',data=data_copy,kind='count',hue='SleepTime_range',ci=None)\n",
        "#g.set_xticklabels(rotation=90);"
      ]
    },
    {
      "cell_type": "markdown",
      "metadata": {
        "id": "iexPnOfSBlRr"
      },
      "source": [
        "#### Genhealth"
      ]
    },
    {
      "cell_type": "markdown",
      "metadata": {
        "id": "64FTVCCC2Ax4"
      },
      "source": [
        "Let's see GenHealth \n",
        "\n",
        "We can tell that those who think they have better general health status have a lower chance of getting heart disease. The effect on different races is similar, so we don't think that Genhealth is the main effect that causes race differences in getting heart disease. "
      ]
    },
    {
      "cell_type": "code",
      "execution_count": null,
      "metadata": {
        "id": "JMHvyiRXYhc0"
      },
      "outputs": [],
      "source": [
        "#g=sns.catplot(x='Race',y='HeartDisease',data=data_copy,kind='point',hue='GenHealth',ci=None)\n",
        "#g.set_xticklabels(rotation=90);"
      ]
    },
    {
      "cell_type": "markdown",
      "metadata": {
        "id": "eoKjwjkDB17Z"
      },
      "source": [
        "#### Asthma "
      ]
    },
    {
      "cell_type": "markdown",
      "metadata": {
        "id": "pMo_70hH20eZ"
      },
      "source": [
        "Let's see Asthma  \n",
        "\n",
        "Asthmahave different impact on the different race, American Indians/Alaskan Native is the most sensitive to Asthma with the largest difference in getting heart disease compared with people with Asthma and those who don't, while White is least sensitive to Asthma. \n",
        "However, American Indian/Alaskan Native people don't have a significantly larger percentage of people having Asthma, meaning that even if they are sensitive to Asthma, there is not a significantly larger percentage of people affected by Asthma compared to other races. So we think Asthma might not be one of the strongest effects that make American Indians/Alaskan Natives have the highest chance of getting heart disease. Similar conclusion to other races. "
      ]
    },
    {
      "cell_type": "code",
      "execution_count": null,
      "metadata": {
        "colab": {
          "base_uri": "https://localhost:8080/"
        },
        "id": "yqdJ5rUa2wno",
        "outputId": "02e6983c-fb89-4087-b1f6-bbdd670dd478"
      },
      "outputs": [
        {
          "output_type": "execute_result",
          "data": {
            "text/plain": [
              "Race\n",
              "American Indian/Alaskan Native    0.070109\n",
              "Asian                             0.040537\n",
              "Black                             0.040860\n",
              "Hispanic                          0.051129\n",
              "Other                             0.046293\n",
              "White                             0.029496\n",
              "Name: HeartDisease, dtype: float64"
            ]
          },
          "metadata": {},
          "execution_count": 58
        }
      ],
      "source": [
        "data_copy[data_copy.Asthma==1].groupby('Race').mean()['HeartDisease']-data_copy[data_copy.Asthma==0].groupby('Race').mean()['HeartDisease'].sort_values()"
      ]
    },
    {
      "cell_type": "markdown",
      "metadata": {
        "id": "eKZvQ738Cp4j"
      },
      "source": [
        "#### KidneyDisease"
      ]
    },
    {
      "cell_type": "markdown",
      "metadata": {
        "id": "3oRMWi4v4w7I"
      },
      "source": [
        "Let's see KidneyDisease\n",
        "\n",
        "KidneyDisease has a different impact on different races, Other race is the most sensitive to KidneyDisease with the largest difference in getting heart disease compared with people who have KidneyDisease and those who don't. While Asian is the least sensitive race"
      ]
    },
    {
      "cell_type": "code",
      "execution_count": null,
      "metadata": {
        "colab": {
          "base_uri": "https://localhost:8080/"
        },
        "id": "2Qm31mS210xe",
        "outputId": "ac1e7903-c04d-4175-e79b-cb2770406fc5"
      },
      "outputs": [
        {
          "output_type": "execute_result",
          "data": {
            "text/plain": [
              "Race\n",
              "American Indian/Alaskan Native    0.233557\n",
              "Asian                             0.114968\n",
              "Black                             0.203180\n",
              "Hispanic                          0.170472\n",
              "Other                             0.264980\n",
              "White                             0.218589\n",
              "Name: HeartDisease, dtype: float64"
            ]
          },
          "metadata": {},
          "execution_count": 59
        }
      ],
      "source": [
        "data_copy[data_copy.KidneyDisease==1].groupby('Race').mean()['HeartDisease']-data_copy[data_copy.KidneyDisease==0].groupby('Race').mean()['HeartDisease'].sort_values()"
      ]
    },
    {
      "cell_type": "markdown",
      "metadata": {
        "id": "ycgn2BZH5MSf"
      },
      "source": [
        "We skip SkinCancer because the percentage of people getting SkinCancer for each race is similar, which means that SkinCancer has a low chance to be the variable that makes a different race have a difference in getting heart disease. we feel no need to dive deeper "
      ]
    },
    {
      "cell_type": "markdown",
      "metadata": {
        "id": "7mNqhC_aC-dO"
      },
      "source": [
        "#### Weight Status"
      ]
    },
    {
      "cell_type": "markdown",
      "metadata": {
        "id": "hVrZtxky5pS8"
      },
      "source": [
        "Let's see weight_status \n",
        "\n",
        "We can tell White is most sensitive to weight status. For each weight_status, the mean chance of getting a heart shows a significant difference compared with other races."
      ]
    },
    {
      "cell_type": "code",
      "execution_count": null,
      "metadata": {
        "id": "Yu7ieBa-106S"
      },
      "outputs": [],
      "source": [
        "#g=sns.catplot(x='Race',y='HeartDisease',data=data_copy,kind='point',hue='weight_status',ci=None)\n",
        "#g.set_xticklabels(rotation=90);"
      ]
    },
    {
      "cell_type": "markdown",
      "metadata": {
        "id": "wtTJRY787gU1"
      },
      "source": [
        "### 4.1.5Combined Effect on Race "
      ]
    },
    {
      "cell_type": "markdown",
      "metadata": {
        "id": "xZ4PVRZF7k-X"
      },
      "source": [
        "So far, We mainly see a single effect on race, now we try to see some combined effect on heart disease. For the Combine effect, we just simply randomly picked variables we thought might be interesting or correlated and picked some that are significant "
      ]
    },
    {
      "cell_type": "markdown",
      "metadata": {
        "id": "d1x3ctWW73bv"
      },
      "source": [
        "Let's combine SleepTime_range and  AlcoholDrinking\n",
        "\n",
        "We have known that AlcoholDrinking can lower heart disease, However, for oversleeping Asians, drinking increases their chance of getting heart disease, while the effect is reversed for other races. More interestingly, for overslept American Indian/ Alaskan Natives, AlcoholDrinking effect on lowering heart disease is extremely significant. \n",
        "\n"
      ]
    },
    {
      "cell_type": "code",
      "execution_count": null,
      "metadata": {
        "colab": {
          "base_uri": "https://localhost:8080/"
        },
        "id": "xcgsylxO9f5E",
        "outputId": "5ac133de-2d6d-4ba2-c6a8-b8700b55d8ff"
      },
      "outputs": [
        {
          "output_type": "display_data",
          "data": {
            "text/plain": [
              "<Figure size 815.375x360 with 2 Axes>"
            ],
            "image/png": "[encoded data removed]"
          },
          "metadata": {
            "needs_background": "light"
          }
        }
      ],
      "source": [
        "g=sns.catplot(x='Race',y='HeartDisease',data=data_copy,kind='point',hue='SleepTime_range',col='AlcoholDrinking',ci=None)\n",
        "g.set_xticklabels(rotation=90);"
      ]
    },
    {
      "cell_type": "code",
      "source": [
        "g=sns.catplot(x='Race',y='HeartDisease',data=data_copy,kind='point',hue='SleepTime_range',ci=None)\n",
        "g.set_xticklabels(rotation=90);"
      ],
      "metadata": {
        "id": "MMQcjJRHBG6I",
        "outputId": "4eecdd9f-12fa-42cd-b318-f5394cf25683",
        "colab": {
          "base_uri": "https://localhost:8080/"
        }
      },
      "execution_count": null,
      "outputs": [
        {
          "output_type": "display_data",
          "data": {
            "text/plain": [
              "<Figure size 455.375x360 with 1 Axes>"
            ],
            "image/png": "[encoded data removed]"
          },
          "metadata": {
            "needs_background": "light"
          }
        }
      ]
    },
    {
      "cell_type": "markdown",
      "metadata": {
        "id": "owcybLlGD77t"
      },
      "source": [
        "We want to see if the huge drop is skewed because of data size. \n",
        "\n",
        "Yes, it is. According to the second table, oversleep American Indian/Alaskan Natives that do AlcoholDrinking only have 21 respondents, and versleep Asian that do AlcoholDrinking only have 10 respondents. Therefore,the effect of AlcoholDrinking might be skewed because of the small sample size. Hence, we need to be careful about the generalization of the effect of AlcoholDrinking on oversleeping American Indian/Alaskan Natives and Asian"
      ]
    },
    {
      "cell_type": "code",
      "execution_count": null,
      "metadata": {
        "colab": {
          "base_uri": "https://localhost:8080/"
        },
        "id": "PJjxGOhaEjqi",
        "outputId": "0e1061d7-97ca-4ec3-8ba1-30b5f2affa13"
      },
      "outputs": [
        {
          "output_type": "execute_result",
          "data": {
            "text/plain": [
              "healthSleep    169\n",
              "undersleep     121\n",
              "oversleep       21\n",
              "Name: SleepTime_range, dtype: int64"
            ]
          },
          "metadata": {},
          "execution_count": 63
        }
      ],
      "source": [
        "data_copy[(data_copy.Race=='American Indian/Alaskan Native') &  (data_copy.AlcoholDrinking==1) ].SleepTime_range.value_counts()"
      ]
    },
    {
      "cell_type": "code",
      "execution_count": null,
      "metadata": {
        "colab": {
          "base_uri": "https://localhost:8080/"
        },
        "id": "ybMXmwWutDbb",
        "outputId": "8334131e-31fc-4144-f545-c3cb95225793"
      },
      "outputs": [
        {
          "output_type": "execute_result",
          "data": {
            "text/plain": [
              "healthSleep    166\n",
              "undersleep      92\n",
              "oversleep       10\n",
              "Name: SleepTime_range, dtype: int64"
            ]
          },
          "metadata": {},
          "execution_count": 64
        }
      ],
      "source": [
        "data_copy[(data_copy.Race=='Asian') &  (data_copy.AlcoholDrinking==1) ].SleepTime_range.value_counts()"
      ]
    },
    {
      "cell_type": "markdown",
      "metadata": {
        "id": "8LfQfRMX-GFk"
      },
      "source": [
        "lets combine genhealth and stroke"
      ]
    },
    {
      "cell_type": "markdown",
      "metadata": {
        "id": "TFcT5w8KAVgJ"
      },
      "source": [
        "There are trends that the better respondents feel about their general health, the chance of getting heart disease tends to be lower g when considering gen health solely. However, we introduce stroke and found that if Asian and American Indian/ Alaskan Native have a stroke, even if people feel excellent about their unhealthy, the chance of getting heart disease is still high."
      ]
    },
    {
      "cell_type": "code",
      "execution_count": null,
      "metadata": {
        "colab": {
          "base_uri": "https://localhost:8080/"
        },
        "id": "rNsBv16u8PhO",
        "outputId": "efdf9ba0-d7f9-49ed-fd2c-c0e38e94aee5"
      },
      "outputs": [
        {
          "output_type": "display_data",
          "data": {
            "text/plain": [
              "<Figure size 806.125x360 with 2 Axes>"
            ],
            "image/png": "[encoded data removed]"
          },
          "metadata": {
            "needs_background": "light"
          }
        }
      ],
      "source": [
        "g=sns.catplot(x='Race',y='HeartDisease',data=data_copy,kind='point',hue='GenHealth',col='Stroke',ci=None)\n",
        "g.set_xticklabels(rotation=90);"
      ]
    },
    {
      "cell_type": "markdown",
      "metadata": {
        "id": "KOGSS2TeBIxo"
      },
      "source": [
        "It is because Asian and American Indian/ Alaskan Natives tend to think highly of their general health? \n"
      ]
    },
    {
      "cell_type": "markdown",
      "metadata": {
        "id": "34zLHlO5B-To"
      },
      "source": [
        "No, they don't have this tendency according to the tables. There might be other reasons."
      ]
    },
    {
      "cell_type": "code",
      "execution_count": null,
      "metadata": {
        "colab": {
          "base_uri": "https://localhost:8080/"
        },
        "id": "CziTfoUOBWTM",
        "outputId": "da7b7a61-e184-4ed8-94df-bdfb5b8fcbe7"
      },
      "outputs": [
        {
          "output_type": "execute_result",
          "data": {
            "text/plain": [
              "Very good    2798\n",
              "Good         2435\n",
              "Excellent    2222\n",
              "Fair          495\n",
              "Poor          118\n",
              "Name: GenHealth, dtype: int64"
            ]
          },
          "metadata": {},
          "execution_count": 66
        }
      ],
      "source": [
        "data_copy[data_copy.Race=='Asian']['GenHealth'].value_counts()"
      ]
    },
    {
      "cell_type": "code",
      "execution_count": null,
      "metadata": {
        "colab": {
          "base_uri": "https://localhost:8080/"
        },
        "id": "5Zb8K_5zBuZq",
        "outputId": "9af9cd06-ac1b-4eb8-b54f-4ea56f850a60"
      },
      "outputs": [
        {
          "output_type": "execute_result",
          "data": {
            "text/plain": [
              "Good         1806\n",
              "Very good    1356\n",
              "Excellent     847\n",
              "Fair          845\n",
              "Poor          348\n",
              "Name: GenHealth, dtype: int64"
            ]
          },
          "metadata": {},
          "execution_count": 67
        }
      ],
      "source": [
        "data_copy[data_copy.Race=='American Indian/Alaskan Native']['GenHealth'].value_counts()"
      ]
    },
    {
      "cell_type": "markdown",
      "metadata": {
        "id": "oN8QQf6AHowx"
      },
      "source": [
        "Or it is because the sample size makes the result skewed? \n",
        "\n",
        "Looks like the sample size could be one of the reasons that make the result skewed with only about 10 respondents who felt excellent about their general health both in Asian and American Indian/Alaskan Native. While there are at least 50 people who feel excellent from other races "
      ]
    },
    {
      "cell_type": "code",
      "execution_count": null,
      "metadata": {
        "colab": {
          "base_uri": "https://localhost:8080/"
        },
        "id": "S-zdqAfdIUUg",
        "outputId": "e81fe8ec-e749-4c0c-f4f0-fc429402d828"
      },
      "outputs": [
        {
          "output_type": "execute_result",
          "data": {
            "text/plain": [
              "Race                            GenHealth\n",
              "American Indian/Alaskan Native  Good           98\n",
              "                                Poor           92\n",
              "                                Fair           63\n",
              "                                Very good      43\n",
              "                                Excellent      11\n",
              "Asian                           Good           57\n",
              "                                Fair           36\n",
              "                                Very good      27\n",
              "                                Poor           22\n",
              "                                Excellent       9\n",
              "Black                           Fair          456\n",
              "                                Good          378\n",
              "                                Poor          207\n",
              "                                Very good     159\n",
              "                                Excellent      56\n",
              "Hispanic                        Fair          192\n",
              "                                Good          162\n",
              "                                Poor          109\n",
              "                                Very good      82\n",
              "                                Excellent      50\n",
              "Other                           Good          147\n",
              "                                Fair          134\n",
              "                                Poor           91\n",
              "                                Very good      73\n",
              "                                Excellent      31\n",
              "White                           Good         3037\n",
              "                                Fair         2417\n",
              "                                Very good    1888\n",
              "                                Poor         1408\n",
              "                                Excellent     534\n",
              "Name: GenHealth, dtype: int64"
            ]
          },
          "metadata": {},
          "execution_count": 68
        }
      ],
      "source": [
        "data_copy[(data_copy.Stroke==1) ].groupby('Race').GenHealth.value_counts()"
      ]
    },
    {
      "cell_type": "markdown",
      "metadata": {
        "id": "jUy6J0AIULRg"
      },
      "source": [
        "# Incorporating Race and Gender"
      ]
    },
    {
      "cell_type": "markdown",
      "metadata": {
        "id": "o6xQuRZnmAYe"
      },
      "source": [
        "We have focused on Race before, now we are trying to incooperate anpther demographic variables: gender "
      ]
    },
    {
      "cell_type": "code",
      "execution_count": null,
      "metadata": {
        "id": "YP-zIBUxa8Qm"
      },
      "outputs": [],
      "source": [
        "race = ['White', 'Black', 'Asian', 'American Indian/Alaskan Native',\n",
        "       'Other', 'Hispanic']\n",
        "sex = ['Male', 'Female']\n",
        "\n",
        "factors = [('American Indian/Alaskan Native', 'Female'), ('American Indian/Alaskan Native', 'Male'),\n",
        "           ('Asian','Female'), ('Asian','Male'),\n",
        "           ('Black', 'Female'), ('Black', 'Male'),\n",
        "           ('Hispanic', 'Female'), ('Hispanic', 'Male'),\n",
        "           ('Other', 'Female'), ('Other', 'Male'),\n",
        "           ('White', 'Female'), ('White','Male')]"
      ]
    },
    {
      "cell_type": "code",
      "execution_count": null,
      "metadata": {
        "colab": {
          "base_uri": "https://localhost:8080/",
          "height": 417
        },
        "id": "_Ip_DbQylqYe",
        "outputId": "ceb1689e-f466-4e26-dacd-553d9f063897"
      },
      "outputs": [
        {
          "output_type": "display_data",
          "data": {
            "application/javascript": [
              "\n",
              "(function(root) {\n",
              "  function now() {\n",
              "    return new Date();\n",
              "  }\n",
              "\n",
              "  var force = true;\n",
              "\n",
              "  if (typeof root._bokeh_onload_callbacks === \"undefined\" || force === true) {\n",
              "    root._bokeh_onload_callbacks = [];\n",
              "    root._bokeh_is_loading = undefined;\n",
              "  }\n",
              "\n",
              "  var JS_MIME_TYPE = 'application/javascript';\n",
              "  var HTML_MIME_TYPE = 'text/html';\n",
              "  var EXEC_MIME_TYPE = 'application/vnd.bokehjs_exec.v0+json';\n",
              "  var CLASS_NAME = 'output_bokeh rendered_html';\n",
              "\n",
              "  /**\n",
              "   * Render data to the DOM node\n",
              "   */\n",
              "  function render(props, node) {\n",
              "    var script = document.createElement(\"script\");\n",
              "    node.appendChild(script);\n",
              "  }\n",
              "\n",
              "  /**\n",
              "   * Handle when an output is cleared or removed\n",
              "   */\n",
              "  function handleClearOutput(event, handle) {\n",
              "    var cell = handle.cell;\n",
              "\n",
              "    var id = cell.output_area._bokeh_element_id;\n",
              "    var server_id = cell.output_area._bokeh_server_id;\n",
              "    // Clean up Bokeh references\n",
              "    if (id != null && id in Bokeh.index) {\n",
              "      Bokeh.index[id].model.document.clear();\n",
              "      delete Bokeh.index[id];\n",
              "    }\n",
              "\n",
              "    if (server_id !== undefined) {\n",
              "      // Clean up Bokeh references\n",
              "      var cmd = \"from bokeh.io.state import curstate; print(curstate().uuid_to_server['\" + server_id + \"'].get_sessions()[0].document.roots[0]._id)\";\n",
              "      cell.notebook.kernel.execute(cmd, {\n",
              "        iopub: {\n",
              "          output: function(msg) {\n",
              "            var id = msg.content.text.trim();\n",
              "            if (id in Bokeh.index) {\n",
              "              Bokeh.index[id].model.document.clear();\n",
              "              delete Bokeh.index[id];\n",
              "            }\n",
              "          }\n",
              "        }\n",
              "      });\n",
              "      // Destroy server and session\n",
              "      var cmd = \"import bokeh.io.notebook as ion; ion.destroy_server('\" + server_id + \"')\";\n",
              "      cell.notebook.kernel.execute(cmd);\n",
              "    }\n",
              "  }\n",
              "\n",
              "  /**\n",
              "   * Handle when a new output is added\n",
              "   */\n",
              "  function handleAddOutput(event, handle) {\n",
              "    var output_area = handle.output_area;\n",
              "    var output = handle.output;\n",
              "\n",
              "    // limit handleAddOutput to display_data with EXEC_MIME_TYPE content only\n",
              "    if ((output.output_type != \"display_data\") || (!Object.prototype.hasOwnProperty.call(output.data, EXEC_MIME_TYPE))) {\n",
              "      return\n",
              "    }\n",
              "\n",
              "    var toinsert = output_area.element.find(\".\" + CLASS_NAME.split(' ')[0]);\n",
              "\n",
              "    if (output.metadata[EXEC_MIME_TYPE][\"id\"] !== undefined) {\n",
              "      toinsert[toinsert.length - 1].firstChild.textContent = output.data[JS_MIME_TYPE];\n",
              "      // store reference to embed id on output_area\n",
              "      output_area._bokeh_element_id = output.metadata[EXEC_MIME_TYPE][\"id\"];\n",
              "    }\n",
              "    if (output.metadata[EXEC_MIME_TYPE][\"server_id\"] !== undefined) {\n",
              "      var bk_div = document.createElement(\"div\");\n",
              "      bk_div.innerHTML = output.data[HTML_MIME_TYPE];\n",
              "      var script_attrs = bk_div.children[0].attributes;\n",
              "      for (var i = 0; i < script_attrs.length; i++) {\n",
              "        toinsert[toinsert.length - 1].firstChild.setAttribute(script_attrs[i].name, script_attrs[i].value);\n",
              "        toinsert[toinsert.length - 1].firstChild.textContent = bk_div.children[0].textContent\n",
              "      }\n",
              "      // store reference to server id on output_area\n",
              "      output_area._bokeh_server_id = output.metadata[EXEC_MIME_TYPE][\"server_id\"];\n",
              "    }\n",
              "  }\n",
              "\n",
              "  function register_renderer(events, OutputArea) {\n",
              "\n",
              "    function append_mime(data, metadata, element) {\n",
              "      // create a DOM node to render to\n",
              "      var toinsert = this.create_output_subarea(\n",
              "        metadata,\n",
              "        CLASS_NAME,\n",
              "        EXEC_MIME_TYPE\n",
              "      );\n",
              "      this.keyboard_manager.register_events(toinsert);\n",
              "      // Render to node\n",
              "      var props = {data: data, metadata: metadata[EXEC_MIME_TYPE]};\n",
              "      render(props, toinsert[toinsert.length - 1]);\n",
              "      element.append(toinsert);\n",
              "      return toinsert\n",
              "    }\n",
              "\n",
              "    /* Handle when an output is cleared or removed */\n",
              "    events.on('clear_output.CodeCell', handleClearOutput);\n",
              "    events.on('delete.Cell', handleClearOutput);\n",
              "\n",
              "    /* Handle when a new output is added */\n",
              "    events.on('output_added.OutputArea', handleAddOutput);\n",
              "\n",
              "    /**\n",
              "     * Register the mime type and append_mime function with output_area\n",
              "     */\n",
              "    OutputArea.prototype.register_mime_type(EXEC_MIME_TYPE, append_mime, {\n",
              "      /* Is output safe? */\n",
              "      safe: true,\n",
              "      /* Index of renderer in `output_area.display_order` */\n",
              "      index: 0\n",
              "    });\n",
              "  }\n",
              "\n",
              "  // register the mime type if in Jupyter Notebook environment and previously unregistered\n",
              "  if (root.Jupyter !== undefined) {\n",
              "    var events = require('base/js/events');\n",
              "    var OutputArea = require('notebook/js/outputarea').OutputArea;\n",
              "\n",
              "    if (OutputArea.prototype.mime_types().indexOf(EXEC_MIME_TYPE) == -1) {\n",
              "      register_renderer(events, OutputArea);\n",
              "    }\n",
              "  }\n",
              "\n",
              "  \n",
              "  if (typeof (root._bokeh_timeout) === \"undefined\" || force === true) {\n",
              "    root._bokeh_timeout = Date.now() + 5000;\n",
              "    root._bokeh_failed_load = false;\n",
              "  }\n",
              "\n",
              "  var NB_LOAD_WARNING = {'data': {'text/html':\n",
              "     \"<div style='background-color: #fdd'>\\n\"+\n",
              "     \"<p>\\n\"+\n",
              "     \"BokehJS does not appear to have successfully loaded. If loading BokehJS from CDN, this \\n\"+\n",
              "     \"may be due to a slow or bad network connection. Possible fixes:\\n\"+\n",
              "     \"</p>\\n\"+\n",
              "     \"<ul>\\n\"+\n",
              "     \"<li>re-rerun `output_notebook()` to attempt to load from CDN again, or</li>\\n\"+\n",
              "     \"<li>use INLINE resources instead, as so:</li>\\n\"+\n",
              "     \"</ul>\\n\"+\n",
              "     \"<code>\\n\"+\n",
              "     \"from bokeh.resources import INLINE\\n\"+\n",
              "     \"output_notebook(resources=INLINE)\\n\"+\n",
              "     \"</code>\\n\"+\n",
              "     \"</div>\"}};\n",
              "\n",
              "  function display_loaded() {\n",
              "    var el = document.getElementById(null);\n",
              "    if (el != null) {\n",
              "      el.textContent = \"BokehJS is loading...\";\n",
              "    }\n",
              "    if (root.Bokeh !== undefined) {\n",
              "      if (el != null) {\n",
              "        el.textContent = \"BokehJS \" + root.Bokeh.version + \" successfully loaded.\";\n",
              "      }\n",
              "    } else if (Date.now() < root._bokeh_timeout) {\n",
              "      setTimeout(display_loaded, 100)\n",
              "    }\n",
              "  }\n",
              "\n",
              "\n",
              "  function run_callbacks() {\n",
              "    try {\n",
              "      root._bokeh_onload_callbacks.forEach(function(callback) {\n",
              "        if (callback != null)\n",
              "          callback();\n",
              "      });\n",
              "    } finally {\n",
              "      delete root._bokeh_onload_callbacks\n",
              "    }\n",
              "    console.debug(\"Bokeh: all callbacks have finished\");\n",
              "  }\n",
              "\n",
              "  function load_libs(css_urls, js_urls, callback) {\n",
              "    if (css_urls == null) css_urls = [];\n",
              "    if (js_urls == null) js_urls = [];\n",
              "\n",
              "    root._bokeh_onload_callbacks.push(callback);\n",
              "    if (root._bokeh_is_loading > 0) {\n",
              "      console.debug(\"Bokeh: BokehJS is being loaded, scheduling callback at\", now());\n",
              "      return null;\n",
              "    }\n",
              "    if (js_urls == null || js_urls.length === 0) {\n",
              "      run_callbacks();\n",
              "      return null;\n",
              "    }\n",
              "    console.debug(\"Bokeh: BokehJS not loaded, scheduling load and callback at\", now());\n",
              "    root._bokeh_is_loading = css_urls.length + js_urls.length;\n",
              "\n",
              "    function on_load() {\n",
              "      root._bokeh_is_loading--;\n",
              "      if (root._bokeh_is_loading === 0) {\n",
              "        console.debug(\"Bokeh: all BokehJS libraries/stylesheets loaded\");\n",
              "        run_callbacks()\n",
              "      }\n",
              "    }\n",
              "\n",
              "    function on_error(url) {\n",
              "      console.error(\"failed to load \" + url);\n",
              "    }\n",
              "\n",
              "    for (let i = 0; i < css_urls.length; i++) {\n",
              "      const url = css_urls[i];\n",
              "      const element = document.createElement(\"link\");\n",
              "      element.onload = on_load;\n",
              "      element.onerror = on_error.bind(null, url);\n",
              "      element.rel = \"stylesheet\";\n",
              "      element.type = \"text/css\";\n",
              "      element.href = url;\n",
              "      console.debug(\"Bokeh: injecting link tag for BokehJS stylesheet: \", url);\n",
              "      document.body.appendChild(element);\n",
              "    }\n",
              "\n",
              "    const hashes = {\"https://cdn.bokeh.org/bokeh/release/bokeh-2.3.3.min.js\": \"dM3QQsP+wXdHg42wTqW85BjZQdLNNIXqlPw/BgKoExPmTG7ZLML4EGqLMfqHT6ON\", \"https://cdn.bokeh.org/bokeh/release/bokeh-tables-2.3.3.min.js\": \"8x57I4YuIfu8XyZfFo0XVr2WAT8EK4rh/uDe3wF7YuW2FNUSNEpJbsPaB1nJ2fz2\", \"https://cdn.bokeh.org/bokeh/release/bokeh-widgets-2.3.3.min.js\": \"3QTqdz9LyAm2i0sG5XTePsHec3UHWwVsrOL68SYRoAXsafvfAyqtQ+h440+qIBhS\"};\n",
              "\n",
              "    for (let i = 0; i < js_urls.length; i++) {\n",
              "      const url = js_urls[i];\n",
              "      const element = document.createElement('script');\n",
              "      element.onload = on_load;\n",
              "      element.onerror = on_error.bind(null, url);\n",
              "      element.async = false;\n",
              "      element.src = url;\n",
              "      if (url in hashes) {\n",
              "        element.crossOrigin = \"anonymous\";\n",
              "        element.integrity = \"sha384-\" + hashes[url];\n",
              "      }\n",
              "      console.debug(\"Bokeh: injecting script tag for BokehJS library: \", url);\n",
              "      document.head.appendChild(element);\n",
              "    }\n",
              "  };\n",
              "\n",
              "  function inject_raw_css(css) {\n",
              "    const element = document.createElement(\"style\");\n",
              "    element.appendChild(document.createTextNode(css));\n",
              "    document.body.appendChild(element);\n",
              "  }\n",
              "\n",
              "  \n",
              "  var js_urls = [\"https://cdn.bokeh.org/bokeh/release/bokeh-2.3.3.min.js\", \"https://cdn.bokeh.org/bokeh/release/bokeh-widgets-2.3.3.min.js\", \"https://cdn.bokeh.org/bokeh/release/bokeh-tables-2.3.3.min.js\"];\n",
              "  var css_urls = [];\n",
              "  \n",
              "\n",
              "  var inline_js = [\n",
              "    function(Bokeh) {\n",
              "      Bokeh.set_log_level(\"info\");\n",
              "    },\n",
              "    function(Bokeh) {\n",
              "    \n",
              "    \n",
              "    }\n",
              "  ];\n",
              "\n",
              "  function run_inline_js() {\n",
              "    \n",
              "    if (root.Bokeh !== undefined || force === true) {\n",
              "      \n",
              "    for (var i = 0; i < inline_js.length; i++) {\n",
              "      inline_js[i].call(root, root.Bokeh);\n",
              "    }\n",
              "    } else if (Date.now() < root._bokeh_timeout) {\n",
              "      setTimeout(run_inline_js, 100);\n",
              "    } else if (!root._bokeh_failed_load) {\n",
              "      console.log(\"Bokeh: BokehJS failed to load within specified timeout.\");\n",
              "      root._bokeh_failed_load = true;\n",
              "    } else if (force !== true) {\n",
              "      var cell = $(document.getElementById(null)).parents('.cell').data().cell;\n",
              "      cell.output_area.append_execute_result(NB_LOAD_WARNING)\n",
              "    }\n",
              "\n",
              "  }\n",
              "\n",
              "  if (root._bokeh_is_loading === 0) {\n",
              "    console.debug(\"Bokeh: BokehJS loaded, going straight to plotting\");\n",
              "    run_inline_js();\n",
              "  } else {\n",
              "    load_libs(css_urls, js_urls, function() {\n",
              "      console.debug(\"Bokeh: BokehJS plotting callback run at\", now());\n",
              "      run_inline_js();\n",
              "    });\n",
              "  }\n",
              "}(window));"
            ],
            "application/vnd.bokehjs_load.v0+json": "\n(function(root) {\n  function now() {\n    return new Date();\n  }\n\n  var force = true;\n\n  if (typeof root._bokeh_onload_callbacks === \"undefined\" || force === true) {\n    root._bokeh_onload_callbacks = [];\n    root._bokeh_is_loading = undefined;\n  }\n\n  \n\n  \n  if (typeof (root._bokeh_timeout) === \"undefined\" || force === true) {\n    root._bokeh_timeout = Date.now() + 5000;\n    root._bokeh_failed_load = false;\n  }\n\n  var NB_LOAD_WARNING = {'data': {'text/html':\n     \"<div style='background-color: #fdd'>\\n\"+\n     \"<p>\\n\"+\n     \"BokehJS does not appear to have successfully loaded. If loading BokehJS from CDN, this \\n\"+\n     \"may be due to a slow or bad network connection. Possible fixes:\\n\"+\n     \"</p>\\n\"+\n     \"<ul>\\n\"+\n     \"<li>re-rerun `output_notebook()` to attempt to load from CDN again, or</li>\\n\"+\n     \"<li>use INLINE resources instead, as so:</li>\\n\"+\n     \"</ul>\\n\"+\n     \"<code>\\n\"+\n     \"from bokeh.resources import INLINE\\n\"+\n     \"output_notebook(resources=INLINE)\\n\"+\n     \"</code>\\n\"+\n     \"</div>\"}};\n\n  function display_loaded() {\n    var el = document.getElementById(null);\n    if (el != null) {\n      el.textContent = \"BokehJS is loading...\";\n    }\n    if (root.Bokeh !== undefined) {\n      if (el != null) {\n        el.textContent = \"BokehJS \" + root.Bokeh.version + \" successfully loaded.\";\n      }\n    } else if (Date.now() < root._bokeh_timeout) {\n      setTimeout(display_loaded, 100)\n    }\n  }\n\n\n  function run_callbacks() {\n    try {\n      root._bokeh_onload_callbacks.forEach(function(callback) {\n        if (callback != null)\n          callback();\n      });\n    } finally {\n      delete root._bokeh_onload_callbacks\n    }\n    console.debug(\"Bokeh: all callbacks have finished\");\n  }\n\n  function load_libs(css_urls, js_urls, callback) {\n    if (css_urls == null) css_urls = [];\n    if (js_urls == null) js_urls = [];\n\n    root._bokeh_onload_callbacks.push(callback);\n    if (root._bokeh_is_loading > 0) {\n      console.debug(\"Bokeh: BokehJS is being loaded, scheduling callback at\", now());\n      return null;\n    }\n    if (js_urls == null || js_urls.length === 0) {\n      run_callbacks();\n      return null;\n    }\n    console.debug(\"Bokeh: BokehJS not loaded, scheduling load and callback at\", now());\n    root._bokeh_is_loading = css_urls.length + js_urls.length;\n\n    function on_load() {\n      root._bokeh_is_loading--;\n      if (root._bokeh_is_loading === 0) {\n        console.debug(\"Bokeh: all BokehJS libraries/stylesheets loaded\");\n        run_callbacks()\n      }\n    }\n\n    function on_error(url) {\n      console.error(\"failed to load \" + url);\n    }\n\n    for (let i = 0; i < css_urls.length; i++) {\n      const url = css_urls[i];\n      const element = document.createElement(\"link\");\n      element.onload = on_load;\n      element.onerror = on_error.bind(null, url);\n      element.rel = \"stylesheet\";\n      element.type = \"text/css\";\n      element.href = url;\n      console.debug(\"Bokeh: injecting link tag for BokehJS stylesheet: \", url);\n      document.body.appendChild(element);\n    }\n\n    const hashes = {\"https://cdn.bokeh.org/bokeh/release/bokeh-2.3.3.min.js\": \"dM3QQsP+wXdHg42wTqW85BjZQdLNNIXqlPw/BgKoExPmTG7ZLML4EGqLMfqHT6ON\", \"https://cdn.bokeh.org/bokeh/release/bokeh-tables-2.3.3.min.js\": \"8x57I4YuIfu8XyZfFo0XVr2WAT8EK4rh/uDe3wF7YuW2FNUSNEpJbsPaB1nJ2fz2\", \"https://cdn.bokeh.org/bokeh/release/bokeh-widgets-2.3.3.min.js\": \"3QTqdz9LyAm2i0sG5XTePsHec3UHWwVsrOL68SYRoAXsafvfAyqtQ+h440+qIBhS\"};\n\n    for (let i = 0; i < js_urls.length; i++) {\n      const url = js_urls[i];\n      const element = document.createElement('script');\n      element.onload = on_load;\n      element.onerror = on_error.bind(null, url);\n      element.async = false;\n      element.src = url;\n      if (url in hashes) {\n        element.crossOrigin = \"anonymous\";\n        element.integrity = \"sha384-\" + hashes[url];\n      }\n      console.debug(\"Bokeh: injecting script tag for BokehJS library: \", url);\n      document.head.appendChild(element);\n    }\n  };\n\n  function inject_raw_css(css) {\n    const element = document.createElement(\"style\");\n    element.appendChild(document.createTextNode(css));\n    document.body.appendChild(element);\n  }\n\n  \n  var js_urls = [\"https://cdn.bokeh.org/bokeh/release/bokeh-2.3.3.min.js\", \"https://cdn.bokeh.org/bokeh/release/bokeh-widgets-2.3.3.min.js\", \"https://cdn.bokeh.org/bokeh/release/bokeh-tables-2.3.3.min.js\"];\n  var css_urls = [];\n  \n\n  var inline_js = [\n    function(Bokeh) {\n      Bokeh.set_log_level(\"info\");\n    },\n    function(Bokeh) {\n    \n    \n    }\n  ];\n\n  function run_inline_js() {\n    \n    if (root.Bokeh !== undefined || force === true) {\n      \n    for (var i = 0; i < inline_js.length; i++) {\n      inline_js[i].call(root, root.Bokeh);\n    }\n    } else if (Date.now() < root._bokeh_timeout) {\n      setTimeout(run_inline_js, 100);\n    } else if (!root._bokeh_failed_load) {\n      console.log(\"Bokeh: BokehJS failed to load within specified timeout.\");\n      root._bokeh_failed_load = true;\n    } else if (force !== true) {\n      var cell = $(document.getElementById(null)).parents('.cell').data().cell;\n      cell.output_area.append_execute_result(NB_LOAD_WARNING)\n    }\n\n  }\n\n  if (root._bokeh_is_loading === 0) {\n    console.debug(\"Bokeh: BokehJS loaded, going straight to plotting\");\n    run_inline_js();\n  } else {\n    load_libs(css_urls, js_urls, function() {\n      console.debug(\"Bokeh: BokehJS plotting callback run at\", now());\n      run_inline_js();\n    });\n  }\n}(window));"
          },
          "metadata": {}
        },
        {
          "output_type": "display_data",
          "data": {
            "text/html": [
              "\n",
              "\n",
              "\n",
              "\n",
              "\n",
              "\n",
              "  <div class=\"bk-root\" id=\"3c3cf0ec-ac41-4d8e-ad12-5dfe717f3423\" data-root-id=\"1003\"></div>\n"
            ]
          },
          "metadata": {}
        },
        {
          "output_type": "display_data",
          "data": {
            "application/javascript": [
              "(function(root) {\n",
              "  function embed_document(root) {\n",
              "    \n",
              "  var docs_json = {\"3283319e-de3d-455c-a33b-f803deb79afb\":{\"defs\":[],\"roots\":{\"references\":[{\"attributes\":{\"below\":[{\"id\":\"1011\"}],\"center\":[{\"id\":\"1013\"},{\"id\":\"1017\"}],\"height\":400,\"left\":[{\"id\":\"1014\"}],\"renderers\":[{\"id\":\"1035\"}],\"title\":{\"id\":\"1038\"},\"toolbar\":{\"id\":\"1025\"},\"x_range\":{\"id\":\"1002\"},\"x_scale\":{\"id\":\"1007\"},\"y_range\":{\"id\":\"1005\"},\"y_scale\":{\"id\":\"1009\"}},\"id\":\"1003\",\"subtype\":\"Figure\",\"type\":\"Plot\"},{\"attributes\":{},\"id\":\"1018\",\"type\":\"PanTool\"},{\"attributes\":{},\"id\":\"1045\",\"type\":\"Selection\"},{\"attributes\":{\"overlay\":{\"id\":\"1024\"}},\"id\":\"1020\",\"type\":\"BoxZoomTool\"},{\"attributes\":{},\"id\":\"1021\",\"type\":\"SaveTool\"},{\"attributes\":{},\"id\":\"1005\",\"type\":\"DataRange1d\"},{\"attributes\":{},\"id\":\"1022\",\"type\":\"ResetTool\"},{\"attributes\":{},\"id\":\"1046\",\"type\":\"UnionRenderers\"},{\"attributes\":{\"data\":{\"top\":{\"__ndarray__\":\"XOGg73z2tz/Bum0+UtS9P8pSw1Tc5pY/oXyvKJTvpT9NZx+z+5OyP9TrskXvVbQ/Qnkayj23qD8kAAPTx2itP++AI0VD/LE/m10vsraKtz+dY6/mb7GxP3WdT1CsyL0/\",\"dtype\":\"float64\",\"order\":\"little\",\"shape\":[12]},\"x\":[[\"American Indian/Alaskan Native\",\"Female\"],[\"American Indian/Alaskan Native\",\"Male\"],[\"Asian\",\"Female\"],[\"Asian\",\"Male\"],[\"Black\",\"Female\"],[\"Black\",\"Male\"],[\"Hispanic\",\"Female\"],[\"Hispanic\",\"Male\"],[\"Other\",\"Female\"],[\"Other\",\"Male\"],[\"White\",\"Female\"],[\"White\",\"Male\"]]},\"selected\":{\"id\":\"1045\"},\"selection_policy\":{\"id\":\"1046\"}},\"id\":\"1032\",\"type\":\"ColumnDataSource\"},{\"attributes\":{\"source\":{\"id\":\"1032\"}},\"id\":\"1036\",\"type\":\"CDSView\"},{\"attributes\":{\"fill_color\":{\"value\":\"#1f77b4\"},\"line_color\":{\"value\":\"#1f77b4\"},\"top\":{\"field\":\"top\"},\"width\":{\"value\":0.9},\"x\":{\"field\":\"x\"}},\"id\":\"1033\",\"type\":\"VBar\"},{\"attributes\":{},\"id\":\"1042\",\"type\":\"AllLabels\"},{\"attributes\":{},\"id\":\"1038\",\"type\":\"Title\"},{\"attributes\":{},\"id\":\"1043\",\"type\":\"BasicTickFormatter\"},{\"attributes\":{\"data_source\":{\"id\":\"1032\"},\"glyph\":{\"id\":\"1033\"},\"hover_glyph\":null,\"muted_glyph\":null,\"nonselection_glyph\":{\"id\":\"1034\"},\"view\":{\"id\":\"1036\"}},\"id\":\"1035\",\"type\":\"GlyphRenderer\"},{\"attributes\":{\"bottom_units\":\"screen\",\"fill_alpha\":0.5,\"fill_color\":\"lightgrey\",\"left_units\":\"screen\",\"level\":\"overlay\",\"line_alpha\":1.0,\"line_color\":\"black\",\"line_dash\":[4,4],\"line_width\":2,\"right_units\":\"screen\",\"syncable\":false,\"top_units\":\"screen\"},\"id\":\"1024\",\"type\":\"BoxAnnotation\"},{\"attributes\":{},\"id\":\"1007\",\"type\":\"CategoricalScale\"},{\"attributes\":{\"fill_alpha\":{\"value\":0.1},\"fill_color\":{\"value\":\"#1f77b4\"},\"line_alpha\":{\"value\":0.1},\"line_color\":{\"value\":\"#1f77b4\"},\"top\":{\"field\":\"top\"},\"width\":{\"value\":0.9},\"x\":{\"field\":\"x\"}},\"id\":\"1034\",\"type\":\"VBar\"},{\"attributes\":{\"factors\":[[\"American Indian/Alaskan Native\",\"Female\"],[\"American Indian/Alaskan Native\",\"Male\"],[\"Asian\",\"Female\"],[\"Asian\",\"Male\"],[\"Black\",\"Female\"],[\"Black\",\"Male\"],[\"Hispanic\",\"Female\"],[\"Hispanic\",\"Male\"],[\"Other\",\"Female\"],[\"Other\",\"Male\"],[\"White\",\"Female\"],[\"White\",\"Male\"]]},\"id\":\"1002\",\"type\":\"FactorRange\"},{\"attributes\":{},\"id\":\"1019\",\"type\":\"WheelZoomTool\"},{\"attributes\":{},\"id\":\"1009\",\"type\":\"LinearScale\"},{\"attributes\":{\"axis_label\":\"HeartDisease\",\"formatter\":{\"id\":\"1043\"},\"major_label_policy\":{\"id\":\"1042\"},\"ticker\":{\"id\":\"1015\"}},\"id\":\"1014\",\"type\":\"LinearAxis\"},{\"attributes\":{\"formatter\":{\"id\":\"1040\"},\"major_label_orientation\":45,\"major_label_policy\":{\"id\":\"1039\"},\"ticker\":{\"id\":\"1012\"}},\"id\":\"1011\",\"type\":\"CategoricalAxis\"},{\"attributes\":{},\"id\":\"1040\",\"type\":\"CategoricalTickFormatter\"},{\"attributes\":{},\"id\":\"1012\",\"type\":\"CategoricalTicker\"},{\"attributes\":{\"axis\":{\"id\":\"1011\"},\"ticker\":null},\"id\":\"1013\",\"type\":\"Grid\"},{\"attributes\":{},\"id\":\"1039\",\"type\":\"AllLabels\"},{\"attributes\":{\"axis\":{\"id\":\"1014\"},\"dimension\":1,\"ticker\":null},\"id\":\"1017\",\"type\":\"Grid\"},{\"attributes\":{},\"id\":\"1015\",\"type\":\"BasicTicker\"},{\"attributes\":{\"active_multi\":null,\"tools\":[{\"id\":\"1018\"},{\"id\":\"1019\"},{\"id\":\"1020\"},{\"id\":\"1021\"},{\"id\":\"1022\"},{\"id\":\"1023\"}]},\"id\":\"1025\",\"type\":\"Toolbar\"},{\"attributes\":{},\"id\":\"1023\",\"type\":\"HelpTool\"}],\"root_ids\":[\"1003\"]},\"title\":\"Bokeh Application\",\"version\":\"2.3.3\"}};\n",
              "  var render_items = [{\"docid\":\"3283319e-de3d-455c-a33b-f803deb79afb\",\"root_ids\":[\"1003\"],\"roots\":{\"1003\":\"3c3cf0ec-ac41-4d8e-ad12-5dfe717f3423\"}}];\n",
              "  root.Bokeh.embed.embed_items_notebook(docs_json, render_items);\n",
              "\n",
              "  }\n",
              "  if (root.Bokeh !== undefined) {\n",
              "    embed_document(root);\n",
              "  } else {\n",
              "    var attempts = 0;\n",
              "    var timer = setInterval(function(root) {\n",
              "      if (root.Bokeh !== undefined) {\n",
              "        clearInterval(timer);\n",
              "        embed_document(root);\n",
              "      } else {\n",
              "        attempts++;\n",
              "        if (attempts > 100) {\n",
              "          clearInterval(timer);\n",
              "          console.log(\"Bokeh: ERROR: Unable to run BokehJS code because BokehJS library is missing\");\n",
              "        }\n",
              "      }\n",
              "    }, 10, root)\n",
              "  }\n",
              "})(window);"
            ],
            "application/vnd.bokehjs_exec.v0+json": ""
          },
          "metadata": {
            "application/vnd.bokehjs_exec.v0+json": {
              "id": "1003"
            }
          }
        }
      ],
      "source": [
        "### Race&Sex vs Heart Disease\n",
        "from bokeh.io import output_notebook\n",
        "from bokeh.plotting import figure\n",
        "from bokeh.io import output_file, show\n",
        "from bokeh.models import FactorRange\n",
        "output_notebook()\n",
        "fig = figure(x_range = FactorRange(*factors), y_axis_label='HeartDisease', width=600, height=400)\n",
        "fig.vbar(x=factors, top=data_copy.groupby(['Race','Sex'])['HeartDisease'].mean(), width=0.9)\n",
        "fig.xaxis.major_label_orientation = 45\n",
        "output_file(filename='race_sex_bar_plot.html')\n",
        "show(fig)\n"
      ]
    },
    {
      "cell_type": "code",
      "execution_count": null,
      "metadata": {
        "colab": {
          "base_uri": "https://localhost:8080/"
        },
        "id": "BtR2e9Ger7tX",
        "outputId": "dd8734c1-c754-4a8f-ff21-4148ee5ca9b6"
      },
      "outputs": [
        {
          "output_type": "execute_result",
          "data": {
            "text/plain": [
              "Race                            Sex\n",
              "American Indian/Alaskan Native  0      0.093605\n",
              "                                1      0.116521\n",
              "Asian                           0      0.022365\n",
              "                                1      0.042843\n",
              "Black                           0      0.072571\n",
              "                                1      0.079436\n",
              "Hispanic                        0      0.048273\n",
              "                                1      0.057440\n",
              "Other                           0      0.070255\n",
              "                                1      0.091960\n",
              "White                           0      0.069114\n",
              "                                1      0.116343\n",
              "Name: HeartDisease, dtype: float64"
            ]
          },
          "metadata": {},
          "execution_count": 71
        }
      ],
      "source": [
        "data_copy.groupby(['Race','Sex'])['HeartDisease'].mean()"
      ]
    },
    {
      "cell_type": "markdown",
      "metadata": {
        "id": "n_kJD4H4Q9aM"
      },
      "source": [
        "In each race, it is clear that probability of having heart dieases is bigger for men compared to women. Let's see the proportion of number of each sex in our dataset to try to make suer that statistic result is skewed by data size. The difference between man and women is largest in white and smallest in black. "
      ]
    },
    {
      "cell_type": "code",
      "execution_count": null,
      "metadata": {
        "colab": {
          "base_uri": "https://localhost:8080/"
        },
        "id": "ucMGWDR8Q4HZ",
        "outputId": "59057a52-aa52-49f1-9d6d-c602bcf2dccd"
      },
      "outputs": [
        {
          "output_type": "execute_result",
          "data": {
            "text/plain": [
              "0    167805\n",
              "1    151990\n",
              "Name: Sex, dtype: int64"
            ]
          },
          "metadata": {},
          "execution_count": 72
        }
      ],
      "source": [
        "data_copy['Sex'].value_counts()"
      ]
    },
    {
      "cell_type": "markdown",
      "metadata": {
        "id": "8dEvxKU1RVT6"
      },
      "source": [
        "It is very close to each other. So, it can be assumed that we have a balanced data."
      ]
    },
    {
      "cell_type": "markdown",
      "metadata": {
        "id": "Zx2vSEe5570B"
      },
      "source": [
        "Below showing that the overall difference between men and women getting heart disease is about 0.04.\n",
        "And since white is the only race that women and men differ in getting a heart disease that is higher than 0.04, we got 0.047. Besides, white is the second race that has the highest mean chance of getting heart disease, and we also have the most respondents white, so it will be more valuable to look into the difference between men and women in white."
      ]
    },
    {
      "cell_type": "code",
      "execution_count": null,
      "metadata": {
        "colab": {
          "base_uri": "https://localhost:8080/"
        },
        "id": "Am7YLp9t57NO",
        "outputId": "e09b58c9-d76e-4f0d-d434-de1672a9b310"
      },
      "outputs": [
        {
          "output_type": "execute_result",
          "data": {
            "text/plain": [
              "0.03923786373662269"
            ]
          },
          "metadata": {},
          "execution_count": 73
        }
      ],
      "source": [
        "data_copy[data_copy.Sex==1]['HeartDisease'].mean()-data_copy[data_copy.Sex==0]['HeartDisease'].mean()"
      ]
    },
    {
      "cell_type": "markdown",
      "metadata": {
        "id": "d_yFlgVTE34F"
      },
      "source": [
        "So we have know that man and women have the highest difference in White with the value of 0.047.But the question is whether it's because men genetically tend to have a higher chance of getting heart disease in white or there might be other reasons like women tend to have a healthier lifestyle than men do.  We will use a grounpby function to look into that. "
      ]
    },
    {
      "cell_type": "markdown",
      "metadata": {
        "id": "u5jhMfP5HP5u"
      },
      "source": [
        "Select only white race and see how men and women differ in the following features. The table shows some variable show large difference between man and women: \n",
        "Smoking,physicalhealth,mentalhealth,diffwalking,asthma and the  categorical variables of muti-levelsthat haven't be convered in the following table: AgeCategory,GenHealth,weight_status,SleepTime_range\n",
        "\n"
      ]
    },
    {
      "cell_type": "code",
      "execution_count": null,
      "metadata": {
        "colab": {
          "base_uri": "https://localhost:8080/",
          "height": 207
        },
        "id": "6iga-Wko62id",
        "outputId": "63b1d005-5560-423b-c545-36660edeff00"
      },
      "outputs": [
        {
          "output_type": "execute_result",
          "data": {
            "text/plain": [
              "     HeartDisease        BMI  Smoking  AlcoholDrinking    Stroke  \\\n",
              "Sex                                                                \n",
              "0        0.069114  27.834257  0.39818         0.073357  0.038463   \n",
              "1        0.116343  28.499127  0.46889         0.072049  0.037209   \n",
              "\n",
              "     PhysicalHealth  MentalHealth  DiffWalking  Diabetic  PhysicalActivity  \\\n",
              "Sex                                                                          \n",
              "0          3.677953      4.575804     0.158267  0.123349          0.774400   \n",
              "1          3.003755      2.940779     0.111696  0.131677          0.807173   \n",
              "\n",
              "     SleepTime    Asthma  KidneyDisease  SkinCancer  \n",
              "Sex                                                  \n",
              "0     7.159192  0.151059       0.039263    0.112753  \n",
              "1     7.100576  0.105699       0.035485    0.120506  "
            ],
            "text/html": [
              "\n",
              "  <div id=\"df-32bd34db-c2f8-41ac-a1ac-7865c447c6ed\">\n",
              "    <div class=\"colab-df-container\">\n",
              "      <div>\n",
              "<style scoped>\n",
              "    .dataframe tbody tr th:only-of-type {\n",
              "        vertical-align: middle;\n",
              "    }\n",
              "\n",
              "    .dataframe tbody tr th {\n",
              "        vertical-align: top;\n",
              "    }\n",
              "\n",
              "    .dataframe thead th {\n",
              "        text-align: right;\n",
              "    }\n",
              "</style>\n",
              "<table border=\"1\" class=\"dataframe\">\n",
              "  <thead>\n",
              "    <tr style=\"text-align: right;\">\n",
              "      <th></th>\n",
              "      <th>HeartDisease</th>\n",
              "      <th>BMI</th>\n",
              "      <th>Smoking</th>\n",
              "      <th>AlcoholDrinking</th>\n",
              "      <th>Stroke</th>\n",
              "      <th>PhysicalHealth</th>\n",
              "      <th>MentalHealth</th>\n",
              "      <th>DiffWalking</th>\n",
              "      <th>Diabetic</th>\n",
              "      <th>PhysicalActivity</th>\n",
              "      <th>SleepTime</th>\n",
              "      <th>Asthma</th>\n",
              "      <th>KidneyDisease</th>\n",
              "      <th>SkinCancer</th>\n",
              "    </tr>\n",
              "    <tr>\n",
              "      <th>Sex</th>\n",
              "      <th></th>\n",
              "      <th></th>\n",
              "      <th></th>\n",
              "      <th></th>\n",
              "      <th></th>\n",
              "      <th></th>\n",
              "      <th></th>\n",
              "      <th></th>\n",
              "      <th></th>\n",
              "      <th></th>\n",
              "      <th></th>\n",
              "      <th></th>\n",
              "      <th></th>\n",
              "      <th></th>\n",
              "    </tr>\n",
              "  </thead>\n",
              "  <tbody>\n",
              "    <tr>\n",
              "      <th>0</th>\n",
              "      <td>0.069114</td>\n",
              "      <td>27.834257</td>\n",
              "      <td>0.39818</td>\n",
              "      <td>0.073357</td>\n",
              "      <td>0.038463</td>\n",
              "      <td>3.677953</td>\n",
              "      <td>4.575804</td>\n",
              "      <td>0.158267</td>\n",
              "      <td>0.123349</td>\n",
              "      <td>0.774400</td>\n",
              "      <td>7.159192</td>\n",
              "      <td>0.151059</td>\n",
              "      <td>0.039263</td>\n",
              "      <td>0.112753</td>\n",
              "    </tr>\n",
              "    <tr>\n",
              "      <th>1</th>\n",
              "      <td>0.116343</td>\n",
              "      <td>28.499127</td>\n",
              "      <td>0.46889</td>\n",
              "      <td>0.072049</td>\n",
              "      <td>0.037209</td>\n",
              "      <td>3.003755</td>\n",
              "      <td>2.940779</td>\n",
              "      <td>0.111696</td>\n",
              "      <td>0.131677</td>\n",
              "      <td>0.807173</td>\n",
              "      <td>7.100576</td>\n",
              "      <td>0.105699</td>\n",
              "      <td>0.035485</td>\n",
              "      <td>0.120506</td>\n",
              "    </tr>\n",
              "  </tbody>\n",
              "</table>\n",
              "</div>\n",
              "      <button class=\"colab-df-convert\" onclick=\"convertToInteractive('df-32bd34db-c2f8-41ac-a1ac-7865c447c6ed')\"\n",
              "              title=\"Convert this dataframe to an interactive table.\"\n",
              "              style=\"display:none;\">\n",
              "        \n",
              "  <svg xmlns=\"http://www.w3.org/2000/svg\" height=\"24px\"viewBox=\"0 0 24 24\"\n",
              "       width=\"24px\">\n",
              "    <path d=\"M0 0h24v24H0V0z\" fill=\"none\"/>\n",
              "    <path d=\"M18.56 5.44l.94 2.06.94-2.06 2.06-.94-2.06-.94-.94-2.06-.94 2.06-2.06.94zm-11 1L8.5 8.5l.94-2.06 2.06-.94-2.06-.94L8.5 2.5l-.94 2.06-2.06.94zm10 10l.94 2.06.94-2.06 2.06-.94-2.06-.94-.94-2.06-.94 2.06-2.06.94z\"/><path d=\"M17.41 7.96l-1.37-1.37c-.4-.4-.92-.59-1.43-.59-.52 0-1.04.2-1.43.59L10.3 9.45l-7.72 7.72c-.78.78-.78 2.05 0 2.83L4 21.41c.39.39.9.59 1.41.59.51 0 1.02-.2 1.41-.59l7.78-7.78 2.81-2.81c.8-.78.8-2.07 0-2.86zM5.41 20L4 18.59l7.72-7.72 1.47 1.35L5.41 20z\"/>\n",
              "  </svg>\n",
              "      </button>\n",
              "      \n",
              "  <style>\n",
              "    .colab-df-container {\n",
              "      display:flex;\n",
              "      flex-wrap:wrap;\n",
              "      gap: 12px;\n",
              "    }\n",
              "\n",
              "    .colab-df-convert {\n",
              "      background-color: #E8F0FE;\n",
              "      border: none;\n",
              "      border-radius: 50%;\n",
              "      cursor: pointer;\n",
              "      display: none;\n",
              "      fill: #1967D2;\n",
              "      height: 32px;\n",
              "      padding: 0 0 0 0;\n",
              "      width: 32px;\n",
              "    }\n",
              "\n",
              "    .colab-df-convert:hover {\n",
              "      background-color: #E2EBFA;\n",
              "      box-shadow: 0px 1px 2px rgba(60, 64, 67, 0.3), 0px 1px 3px 1px rgba(60, 64, 67, 0.15);\n",
              "      fill: #174EA6;\n",
              "    }\n",
              "\n",
              "    [theme=dark] .colab-df-convert {\n",
              "      background-color: #3B4455;\n",
              "      fill: #D2E3FC;\n",
              "    }\n",
              "\n",
              "    [theme=dark] .colab-df-convert:hover {\n",
              "      background-color: #434B5C;\n",
              "      box-shadow: 0px 1px 3px 1px rgba(0, 0, 0, 0.15);\n",
              "      filter: drop-shadow(0px 1px 2px rgba(0, 0, 0, 0.3));\n",
              "      fill: #FFFFFF;\n",
              "    }\n",
              "  </style>\n",
              "\n",
              "      <script>\n",
              "        const buttonEl =\n",
              "          document.querySelector('#df-32bd34db-c2f8-41ac-a1ac-7865c447c6ed button.colab-df-convert');\n",
              "        buttonEl.style.display =\n",
              "          google.colab.kernel.accessAllowed ? 'block' : 'none';\n",
              "\n",
              "        async function convertToInteractive(key) {\n",
              "          const element = document.querySelector('#df-32bd34db-c2f8-41ac-a1ac-7865c447c6ed');\n",
              "          const dataTable =\n",
              "            await google.colab.kernel.invokeFunction('convertToInteractive',\n",
              "                                                     [key], {});\n",
              "          if (!dataTable) return;\n",
              "\n",
              "          const docLinkHtml = 'Like what you see? Visit the ' +\n",
              "            '<a target=\"_blank\" href=https://colab.research.google.com/notebooks/data_table.ipynb>data table notebook</a>'\n",
              "            + ' to learn more about interactive tables.';\n",
              "          element.innerHTML = '';\n",
              "          dataTable['output_type'] = 'display_data';\n",
              "          await google.colab.output.renderOutput(dataTable, element);\n",
              "          const docLink = document.createElement('div');\n",
              "          docLink.innerHTML = docLinkHtml;\n",
              "          element.appendChild(docLink);\n",
              "        }\n",
              "      </script>\n",
              "    </div>\n",
              "  </div>\n",
              "  "
            ]
          },
          "metadata": {},
          "execution_count": 74
        }
      ],
      "source": [
        "data_copy[data_copy.Race=='White'].groupby('Sex').mean()"
      ]
    },
    {
      "cell_type": "markdown",
      "metadata": {
        "id": "JbE0hSFFrbS6"
      },
      "source": [
        "After checking the difference between men and women in the table above, we see that the above table does not show any signficant differences, thus we categorize by sleep time for a deep dive."
      ]
    },
    {
      "cell_type": "code",
      "execution_count": null,
      "metadata": {
        "id": "n84xFuhKsQXT"
      },
      "outputs": [],
      "source": [
        "data_copy.loc[data_copy.SleepTime<7,'SleepTime_range']='undersleep' \n",
        "data_copy.loc[(7<=data_copy.SleepTime ) & (data_copy.SleepTime<=9),'SleepTime_range']='healthSleep' \n",
        "data_copy.loc[(9<data_copy.SleepTime ) & (data_copy.SleepTime<=24),'SleepTime_range']='oversleep'"
      ]
    },
    {
      "cell_type": "markdown",
      "metadata": {
        "id": "QL8OWz7TuwWN"
      },
      "source": [
        "We group by sleeptimerange. It shows that overslpeeing people might have higher chance of getting heart disease than undersleep. "
      ]
    },
    {
      "cell_type": "code",
      "execution_count": null,
      "metadata": {
        "colab": {
          "base_uri": "https://localhost:8080/"
        },
        "id": "DUBQF9Kvtl1F",
        "outputId": "101cdd94-49b6-42bc-df76-80cd28ce1fe0"
      },
      "outputs": [
        {
          "output_type": "execute_result",
          "data": {
            "text/plain": [
              "SleepTime_range\n",
              "healthSleep    0.077481\n",
              "oversleep      0.159615\n",
              "undersleep     0.094570\n",
              "Name: HeartDisease, dtype: float64"
            ]
          },
          "metadata": {},
          "execution_count": 76
        }
      ],
      "source": [
        "data_copy.groupby('SleepTime_range').mean()['HeartDisease']"
      ]
    },
    {
      "cell_type": "code",
      "execution_count": null,
      "metadata": {
        "colab": {
          "base_uri": "https://localhost:8080/"
        },
        "id": "B9hMjkQfvQJB",
        "outputId": "c7a57672-4600-42c1-ca9e-a3b35326c5f9"
      },
      "outputs": [
        {
          "output_type": "execute_result",
          "data": {
            "text/plain": [
              "healthSleep    100502\n",
              "undersleep      46435\n",
              "oversleep        5053\n",
              "Name: SleepTime_range, dtype: int64"
            ]
          },
          "metadata": {},
          "execution_count": 77
        }
      ],
      "source": [
        "data_copy[(data_copy.Sex==1) ]['SleepTime_range'].value_counts()"
      ]
    },
    {
      "cell_type": "code",
      "execution_count": null,
      "metadata": {
        "colab": {
          "base_uri": "https://localhost:8080/"
        },
        "id": "JWFOjQdWvofH",
        "outputId": "e4f272ba-4e4c-461c-d59a-c5ab00833658"
      },
      "outputs": [
        {
          "output_type": "execute_result",
          "data": {
            "text/plain": [
              "healthSleep    110892\n",
              "undersleep      50551\n",
              "oversleep        6362\n",
              "Name: SleepTime_range, dtype: int64"
            ]
          },
          "metadata": {},
          "execution_count": 78
        }
      ],
      "source": [
        "data_copy[(data_copy.Sex==0) ]['SleepTime_range'].value_counts()"
      ]
    },
    {
      "cell_type": "markdown",
      "metadata": {
        "id": "AtG4Zuhqv016"
      },
      "source": [
        "Oversleep will affect women and male , but oversleep have more impact on white men, and that might be a reason why men are more susceptible to heart disease, as white men are the majority of men in our dataseret."
      ]
    },
    {
      "cell_type": "code",
      "execution_count": null,
      "metadata": {
        "colab": {
          "base_uri": "https://localhost:8080/",
          "height": 366
        },
        "id": "6jWwDcDTsb7U",
        "outputId": "bbc603d9-370d-4ccc-e1b0-9c0ddf1bb69d"
      },
      "outputs": [
        {
          "output_type": "display_data",
          "data": {
            "text/plain": [
              "<Figure size 455.375x360 with 1 Axes>"
            ],
            "image/png": "[encoded data removed]"
          },
          "metadata": {
            "needs_background": "light"
          }
        }
      ],
      "source": [
        "g=sns.catplot(x='Sex',y='HeartDisease',data=data_copy[data_copy.Race=='White'],kind='bar',hue='SleepTime_range',ci=None)\n",
        "g.set_xticklabels(rotation=90);"
      ]
    },
    {
      "cell_type": "markdown",
      "metadata": {
        "id": "nKl7PQ3du0LP"
      },
      "source": [
        "#5.Machine Learning"
      ]
    },
    {
      "cell_type": "markdown",
      "metadata": {
        "id": "UZE_9tRtnl9L"
      },
      "source": [
        "###5.1 Feature Engineering"
      ]
    },
    {
      "cell_type": "code",
      "execution_count": null,
      "metadata": {
        "colab": {
          "base_uri": "https://localhost:8080/"
        },
        "id": "AD4uSWHlfK6G",
        "outputId": "088143e5-4fcd-495a-ab63-b67bee0cf4cc"
      },
      "outputs": [
        {
          "output_type": "stream",
          "name": "stdout",
          "text": [
            "<class 'pandas.core.frame.DataFrame'>\n",
            "RangeIndex: 319795 entries, 0 to 319794\n",
            "Data columns (total 18 columns):\n",
            " #   Column            Non-Null Count   Dtype  \n",
            "---  ------            --------------   -----  \n",
            " 0   HeartDisease      319795 non-null  object \n",
            " 1   BMI               319795 non-null  float64\n",
            " 2   Smoking           319795 non-null  object \n",
            " 3   AlcoholDrinking   319795 non-null  object \n",
            " 4   Stroke            319795 non-null  object \n",
            " 5   PhysicalHealth    319795 non-null  float64\n",
            " 6   MentalHealth      319795 non-null  float64\n",
            " 7   DiffWalking       319795 non-null  object \n",
            " 8   Sex               319795 non-null  object \n",
            " 9   AgeCategory       319795 non-null  object \n",
            " 10  Race              319795 non-null  object \n",
            " 11  Diabetic          319795 non-null  object \n",
            " 12  PhysicalActivity  319795 non-null  object \n",
            " 13  GenHealth         319795 non-null  object \n",
            " 14  SleepTime         319795 non-null  float64\n",
            " 15  Asthma            319795 non-null  object \n",
            " 16  KidneyDisease     319795 non-null  object \n",
            " 17  SkinCancer        319795 non-null  object \n",
            "dtypes: float64(4), object(14)\n",
            "memory usage: 43.9+ MB\n"
          ]
        }
      ],
      "source": [
        "#@title 5.1.1 Age\n",
        "#data_copy = data_copy_ml\n",
        "data_copy_ml.info()"
      ]
    },
    {
      "cell_type": "code",
      "execution_count": null,
      "metadata": {
        "colab": {
          "base_uri": "https://localhost:8080/",
          "height": 270
        },
        "id": "5SYaRjfsirgJ",
        "outputId": "d66eecdd-0719-4bab-dcc2-ea0f0773acaf"
      },
      "outputs": [
        {
          "output_type": "execute_result",
          "data": {
            "text/plain": [
              "  HeartDisease    BMI Smoking AlcoholDrinking Stroke  PhysicalHealth  \\\n",
              "0           No  16.60     Yes              No     No             3.0   \n",
              "1           No  20.34      No              No    Yes             0.0   \n",
              "2           No  26.58     Yes              No     No            20.0   \n",
              "3           No  24.21      No              No     No             0.0   \n",
              "4           No  23.71      No              No     No            28.0   \n",
              "\n",
              "   MentalHealth DiffWalking     Sex  AgeCategory   Race Diabetic  \\\n",
              "0          30.0          No  Female        55-59  White      Yes   \n",
              "1           0.0          No  Female  80 or older  White       No   \n",
              "2          30.0          No    Male        65-69  White      Yes   \n",
              "3           0.0          No  Female        75-79  White       No   \n",
              "4           0.0         Yes  Female        40-44  White       No   \n",
              "\n",
              "  PhysicalActivity  GenHealth  SleepTime Asthma KidneyDisease SkinCancer  \n",
              "0              Yes  Very good        5.0    Yes            No        Yes  \n",
              "1              Yes  Very good        7.0     No            No         No  \n",
              "2              Yes       Fair        8.0    Yes            No         No  \n",
              "3               No       Good        6.0     No            No        Yes  \n",
              "4              Yes  Very good        8.0     No            No         No  "
            ],
            "text/html": [
              "\n",
              "  <div id=\"df-31cc7841-1e66-4d71-ae6f-2d0424c1e939\">\n",
              "    <div class=\"colab-df-container\">\n",
              "      <div>\n",
              "<style scoped>\n",
              "    .dataframe tbody tr th:only-of-type {\n",
              "        vertical-align: middle;\n",
              "    }\n",
              "\n",
              "    .dataframe tbody tr th {\n",
              "        vertical-align: top;\n",
              "    }\n",
              "\n",
              "    .dataframe thead th {\n",
              "        text-align: right;\n",
              "    }\n",
              "</style>\n",
              "<table border=\"1\" class=\"dataframe\">\n",
              "  <thead>\n",
              "    <tr style=\"text-align: right;\">\n",
              "      <th></th>\n",
              "      <th>HeartDisease</th>\n",
              "      <th>BMI</th>\n",
              "      <th>Smoking</th>\n",
              "      <th>AlcoholDrinking</th>\n",
              "      <th>Stroke</th>\n",
              "      <th>PhysicalHealth</th>\n",
              "      <th>MentalHealth</th>\n",
              "      <th>DiffWalking</th>\n",
              "      <th>Sex</th>\n",
              "      <th>AgeCategory</th>\n",
              "      <th>Race</th>\n",
              "      <th>Diabetic</th>\n",
              "      <th>PhysicalActivity</th>\n",
              "      <th>GenHealth</th>\n",
              "      <th>SleepTime</th>\n",
              "      <th>Asthma</th>\n",
              "      <th>KidneyDisease</th>\n",
              "      <th>SkinCancer</th>\n",
              "    </tr>\n",
              "  </thead>\n",
              "  <tbody>\n",
              "    <tr>\n",
              "      <th>0</th>\n",
              "      <td>No</td>\n",
              "      <td>16.60</td>\n",
              "      <td>Yes</td>\n",
              "      <td>No</td>\n",
              "      <td>No</td>\n",
              "      <td>3.0</td>\n",
              "      <td>30.0</td>\n",
              "      <td>No</td>\n",
              "      <td>Female</td>\n",
              "      <td>55-59</td>\n",
              "      <td>White</td>\n",
              "      <td>Yes</td>\n",
              "      <td>Yes</td>\n",
              "      <td>Very good</td>\n",
              "      <td>5.0</td>\n",
              "      <td>Yes</td>\n",
              "      <td>No</td>\n",
              "      <td>Yes</td>\n",
              "    </tr>\n",
              "    <tr>\n",
              "      <th>1</th>\n",
              "      <td>No</td>\n",
              "      <td>20.34</td>\n",
              "      <td>No</td>\n",
              "      <td>No</td>\n",
              "      <td>Yes</td>\n",
              "      <td>0.0</td>\n",
              "      <td>0.0</td>\n",
              "      <td>No</td>\n",
              "      <td>Female</td>\n",
              "      <td>80 or older</td>\n",
              "      <td>White</td>\n",
              "      <td>No</td>\n",
              "      <td>Yes</td>\n",
              "      <td>Very good</td>\n",
              "      <td>7.0</td>\n",
              "      <td>No</td>\n",
              "      <td>No</td>\n",
              "      <td>No</td>\n",
              "    </tr>\n",
              "    <tr>\n",
              "      <th>2</th>\n",
              "      <td>No</td>\n",
              "      <td>26.58</td>\n",
              "      <td>Yes</td>\n",
              "      <td>No</td>\n",
              "      <td>No</td>\n",
              "      <td>20.0</td>\n",
              "      <td>30.0</td>\n",
              "      <td>No</td>\n",
              "      <td>Male</td>\n",
              "      <td>65-69</td>\n",
              "      <td>White</td>\n",
              "      <td>Yes</td>\n",
              "      <td>Yes</td>\n",
              "      <td>Fair</td>\n",
              "      <td>8.0</td>\n",
              "      <td>Yes</td>\n",
              "      <td>No</td>\n",
              "      <td>No</td>\n",
              "    </tr>\n",
              "    <tr>\n",
              "      <th>3</th>\n",
              "      <td>No</td>\n",
              "      <td>24.21</td>\n",
              "      <td>No</td>\n",
              "      <td>No</td>\n",
              "      <td>No</td>\n",
              "      <td>0.0</td>\n",
              "      <td>0.0</td>\n",
              "      <td>No</td>\n",
              "      <td>Female</td>\n",
              "      <td>75-79</td>\n",
              "      <td>White</td>\n",
              "      <td>No</td>\n",
              "      <td>No</td>\n",
              "      <td>Good</td>\n",
              "      <td>6.0</td>\n",
              "      <td>No</td>\n",
              "      <td>No</td>\n",
              "      <td>Yes</td>\n",
              "    </tr>\n",
              "    <tr>\n",
              "      <th>4</th>\n",
              "      <td>No</td>\n",
              "      <td>23.71</td>\n",
              "      <td>No</td>\n",
              "      <td>No</td>\n",
              "      <td>No</td>\n",
              "      <td>28.0</td>\n",
              "      <td>0.0</td>\n",
              "      <td>Yes</td>\n",
              "      <td>Female</td>\n",
              "      <td>40-44</td>\n",
              "      <td>White</td>\n",
              "      <td>No</td>\n",
              "      <td>Yes</td>\n",
              "      <td>Very good</td>\n",
              "      <td>8.0</td>\n",
              "      <td>No</td>\n",
              "      <td>No</td>\n",
              "      <td>No</td>\n",
              "    </tr>\n",
              "  </tbody>\n",
              "</table>\n",
              "</div>\n",
              "      <button class=\"colab-df-convert\" onclick=\"convertToInteractive('df-31cc7841-1e66-4d71-ae6f-2d0424c1e939')\"\n",
              "              title=\"Convert this dataframe to an interactive table.\"\n",
              "              style=\"display:none;\">\n",
              "        \n",
              "  <svg xmlns=\"http://www.w3.org/2000/svg\" height=\"24px\"viewBox=\"0 0 24 24\"\n",
              "       width=\"24px\">\n",
              "    <path d=\"M0 0h24v24H0V0z\" fill=\"none\"/>\n",
              "    <path d=\"M18.56 5.44l.94 2.06.94-2.06 2.06-.94-2.06-.94-.94-2.06-.94 2.06-2.06.94zm-11 1L8.5 8.5l.94-2.06 2.06-.94-2.06-.94L8.5 2.5l-.94 2.06-2.06.94zm10 10l.94 2.06.94-2.06 2.06-.94-2.06-.94-.94-2.06-.94 2.06-2.06.94z\"/><path d=\"M17.41 7.96l-1.37-1.37c-.4-.4-.92-.59-1.43-.59-.52 0-1.04.2-1.43.59L10.3 9.45l-7.72 7.72c-.78.78-.78 2.05 0 2.83L4 21.41c.39.39.9.59 1.41.59.51 0 1.02-.2 1.41-.59l7.78-7.78 2.81-2.81c.8-.78.8-2.07 0-2.86zM5.41 20L4 18.59l7.72-7.72 1.47 1.35L5.41 20z\"/>\n",
              "  </svg>\n",
              "      </button>\n",
              "      \n",
              "  <style>\n",
              "    .colab-df-container {\n",
              "      display:flex;\n",
              "      flex-wrap:wrap;\n",
              "      gap: 12px;\n",
              "    }\n",
              "\n",
              "    .colab-df-convert {\n",
              "      background-color: #E8F0FE;\n",
              "      border: none;\n",
              "      border-radius: 50%;\n",
              "      cursor: pointer;\n",
              "      display: none;\n",
              "      fill: #1967D2;\n",
              "      height: 32px;\n",
              "      padding: 0 0 0 0;\n",
              "      width: 32px;\n",
              "    }\n",
              "\n",
              "    .colab-df-convert:hover {\n",
              "      background-color: #E2EBFA;\n",
              "      box-shadow: 0px 1px 2px rgba(60, 64, 67, 0.3), 0px 1px 3px 1px rgba(60, 64, 67, 0.15);\n",
              "      fill: #174EA6;\n",
              "    }\n",
              "\n",
              "    [theme=dark] .colab-df-convert {\n",
              "      background-color: #3B4455;\n",
              "      fill: #D2E3FC;\n",
              "    }\n",
              "\n",
              "    [theme=dark] .colab-df-convert:hover {\n",
              "      background-color: #434B5C;\n",
              "      box-shadow: 0px 1px 3px 1px rgba(0, 0, 0, 0.15);\n",
              "      filter: drop-shadow(0px 1px 2px rgba(0, 0, 0, 0.3));\n",
              "      fill: #FFFFFF;\n",
              "    }\n",
              "  </style>\n",
              "\n",
              "      <script>\n",
              "        const buttonEl =\n",
              "          document.querySelector('#df-31cc7841-1e66-4d71-ae6f-2d0424c1e939 button.colab-df-convert');\n",
              "        buttonEl.style.display =\n",
              "          google.colab.kernel.accessAllowed ? 'block' : 'none';\n",
              "\n",
              "        async function convertToInteractive(key) {\n",
              "          const element = document.querySelector('#df-31cc7841-1e66-4d71-ae6f-2d0424c1e939');\n",
              "          const dataTable =\n",
              "            await google.colab.kernel.invokeFunction('convertToInteractive',\n",
              "                                                     [key], {});\n",
              "          if (!dataTable) return;\n",
              "\n",
              "          const docLinkHtml = 'Like what you see? Visit the ' +\n",
              "            '<a target=\"_blank\" href=https://colab.research.google.com/notebooks/data_table.ipynb>data table notebook</a>'\n",
              "            + ' to learn more about interactive tables.';\n",
              "          element.innerHTML = '';\n",
              "          dataTable['output_type'] = 'display_data';\n",
              "          await google.colab.output.renderOutput(dataTable, element);\n",
              "          const docLink = document.createElement('div');\n",
              "          docLink.innerHTML = docLinkHtml;\n",
              "          element.appendChild(docLink);\n",
              "        }\n",
              "      </script>\n",
              "    </div>\n",
              "  </div>\n",
              "  "
            ]
          },
          "metadata": {},
          "execution_count": 81
        }
      ],
      "source": [
        "data_copy_ml.head()"
      ]
    },
    {
      "cell_type": "markdown",
      "metadata": {
        "id": "pEihDcpAiw8H"
      },
      "source": [
        "Before starting the PCA process, we first need to make a use of agecategory column since it has a great impact on the outcome vatiable, HeartDisease.\n",
        "\n",
        "In order to get the most out of PCA, we need to use only numerical variables, so we decided to convert age categories into random integers in their respected intervals.\n",
        "\n",
        "First, we changed '80 or older' category to '80-90' to be able to generate random integers by using string split method then converting those into integers."
      ]
    },
    {
      "cell_type": "code",
      "execution_count": null,
      "metadata": {
        "id": "3KcFuGOai9dA"
      },
      "outputs": [],
      "source": [
        "from scipy.stats import randint\n",
        "\n",
        "#creating another copy of the processed dataset\n",
        "data_ml=data_copy_ml.copy()\n",
        "\n",
        "data_ml['AgeCategory']=data_ml['AgeCategory'].replace('80 or older', '80-90')\n",
        "\n",
        "age_cat = data_ml['AgeCategory'].unique()\n",
        "#creating an empty list instead of numpy array because lists are faster compared numpy\n",
        "#counterparts in operations like appending\n",
        "age =[]\n",
        "#taking the transpose of the dataset to be able to iterate each the columns in a for loop. \n",
        "#(Using rows as columns)\n",
        "data_ml_T = data_ml.T\n",
        "\n",
        "#Below loop is generating a random integer respecting the given intervals for each row (in transpose, it is columns)\n",
        "#and adding the new values to the empty list, age.\n",
        "for i in data_ml_T:\n",
        "  age.append(np.random.randint(int(data_ml_T[i][9].split('-')[0]), int(data_ml_T[i][9].split('-')[1])+1))\n",
        "age\n",
        "#Converting age to pandas series and giving it a name, 'Age'. It is not possible to merge a pandas series\n",
        "#to a dataframe without a name.\n",
        "age_series = pd.Series(age, name='Age')\n",
        "#checking to see if they have the same index\n",
        "age_series.index\n",
        "data_copy.index\n",
        "\n",
        "#merging age to the main dataset\n",
        "data_copy_age = pd.merge(data_copy, age_series, left_index=True, right_index=True)\n",
        "data_copy_age.info()"
      ]
    },
    {
      "cell_type": "markdown",
      "metadata": {
        "id": "6vpTKgnNu6Ua"
      },
      "source": [
        "In next steps, we are going to convert categorical variables to numerical to be able to use them in PCA."
      ]
    },
    {
      "cell_type": "code",
      "execution_count": null,
      "metadata": {
        "id": "vqUCDTk3jneQ"
      },
      "outputs": [],
      "source": [
        "#@title 5.1.2 Smoking\n",
        "#Checking the unique values:\n",
        "data_copy_age['Smoking'].value_counts()\n",
        "data_copy_age['HeartDisease'] = data_copy_age['HeartDisease'].replace('No', 0)\n",
        "data_copy_age['HeartDisease'] = data_copy_age['HeartDisease'].replace('Yes', 1)\n",
        "data_copy_age['HeartDisease'].value_counts()"
      ]
    },
    {
      "cell_type": "code",
      "execution_count": null,
      "metadata": {
        "id": "2t38nlTKj0Wb"
      },
      "outputs": [],
      "source": [
        "#Creating a copy\n",
        "data_copy_age2 = data_copy_age.copy()\n",
        "\n",
        "data_copy_age2['Smoking'] = data_copy_age2['Smoking'].replace('No', 0)\n",
        "data_copy_age2['Smoking'] = data_copy_age2['Smoking'].replace('Yes', 1)"
      ]
    },
    {
      "cell_type": "code",
      "execution_count": null,
      "metadata": {
        "id": "ww0oUzWqj3rp"
      },
      "outputs": [],
      "source": [
        "#@title 5.1.3 Stroke\n",
        "data_copy_age2['Stroke'].value_counts()"
      ]
    },
    {
      "cell_type": "code",
      "execution_count": null,
      "metadata": {
        "id": "Ph8_tN1cj6qK"
      },
      "outputs": [],
      "source": [
        "data_copy_age2['Stroke'] = data_copy_age2['Stroke'].replace('No', 0)\n",
        "data_copy_age2['Stroke'] = data_copy_age2['Stroke'].replace('Yes', 1)"
      ]
    },
    {
      "cell_type": "code",
      "execution_count": null,
      "metadata": {
        "id": "92KaDyKVj8y0"
      },
      "outputs": [],
      "source": [
        "#@title 5.1.4 DiffWalking\n",
        "data_copy_age2['DiffWalking'].value_counts()"
      ]
    },
    {
      "cell_type": "code",
      "execution_count": null,
      "metadata": {
        "id": "cvskKX_BkBIf"
      },
      "outputs": [],
      "source": [
        "data_copy_age2['DiffWalking'] = data_copy_age2['DiffWalking'].replace('No', 0)\n",
        "data_copy_age2['DiffWalking'] = data_copy_age2['DiffWalking'].replace('Yes', 1)"
      ]
    },
    {
      "cell_type": "code",
      "execution_count": null,
      "metadata": {
        "id": "rMkK5I4hkIGO"
      },
      "outputs": [],
      "source": [
        "#@title 5.1.5 Diabetic\n",
        "data_copy_age2['Diabetic'].value_counts()"
      ]
    },
    {
      "cell_type": "code",
      "execution_count": null,
      "metadata": {
        "id": "CUZgZrGMkLkT"
      },
      "outputs": [],
      "source": [
        "data_copy_age2['Diabetic'] = data_copy_age2['Diabetic'].replace('No', 0)\n",
        "data_copy_age2['Diabetic'] = data_copy_age2['Diabetic'].replace('Yes', 1)"
      ]
    },
    {
      "cell_type": "code",
      "execution_count": null,
      "metadata": {
        "id": "ZfZQLWjKkN23"
      },
      "outputs": [],
      "source": [
        "#@title 5.1.6 Sex\n",
        "data_copy_age2['Sex'].value_counts()"
      ]
    },
    {
      "cell_type": "code",
      "execution_count": null,
      "metadata": {
        "id": "HuBM17ZmkQlb"
      },
      "outputs": [],
      "source": [
        "data_copy_age2['Sex'] = data_copy_age2['Sex'].replace('Female', 0)\n",
        "data_copy_age2['Sex'] = data_copy_age2['Sex'].replace('Male', 1)"
      ]
    },
    {
      "cell_type": "code",
      "execution_count": null,
      "metadata": {
        "id": "7pPREtsxkSrS"
      },
      "outputs": [],
      "source": [
        "#@title 5.1.7 AlcoholDrinking\n",
        "data_copy_age2['AlcoholDrinking'].value_counts()"
      ]
    },
    {
      "cell_type": "code",
      "execution_count": null,
      "metadata": {
        "id": "6czUxy7GkVx1"
      },
      "outputs": [],
      "source": [
        "data_copy_age2['AlcoholDrinking'] = data_copy_age2['AlcoholDrinking'].replace('No', 0)\n",
        "data_copy_age2['AlcoholDrinking'] = data_copy_age2['AlcoholDrinking'].replace('Yes', 1)"
      ]
    },
    {
      "cell_type": "code",
      "execution_count": null,
      "metadata": {
        "id": "9Agf4domkbU1"
      },
      "outputs": [],
      "source": [
        "#@title 5.1.8 GenHealth\n",
        "data_copy_age2['GenHealth'].value_counts()"
      ]
    },
    {
      "cell_type": "markdown",
      "metadata": {
        "id": "_y0aNxUWkriY"
      },
      "source": [
        "Since GenHealth does not have binary values, it wouldn't make sense to convert them to 0 and 1.\n",
        "\n",
        "By doing that, we might lose its impact. A better method is to use label encoding since the values have prevalance with one and other. (i.e. Poor=1, Fair=2, Good=3, Very good=4, Excellent=5)"
      ]
    },
    {
      "cell_type": "code",
      "execution_count": null,
      "metadata": {
        "id": "JU09Z1mokfT7"
      },
      "outputs": [],
      "source": [
        "#Since GenHealth does not have binary values, it wouldn't make sense to convert them to 0 and 1.\n",
        "#By doing that, we might lose its impact. A better method is to use label encoding since the\n",
        "#values have prevalance with one and other. (i.e. Poor=1, Fair=2, Good=3, Very good=4, Excellent=5)\n",
        "\n",
        "data_copy_age2['GenHealth'] = data_copy_age2['GenHealth'].replace('Poor', 5)\n",
        "data_copy_age2['GenHealth'] = data_copy_age2['GenHealth'].replace('Fair', 4)\n",
        "data_copy_age2['GenHealth'] = data_copy_age2['GenHealth'].replace('Good', 3)\n",
        "data_copy_age2['GenHealth'] = data_copy_age2['GenHealth'].replace('Very good', 2)\n",
        "data_copy_age2['GenHealth'] = data_copy_age2['GenHealth'].replace('Excellent', 1)\n",
        "\n",
        "data_copy_age2['GenHealth'].value_counts()"
      ]
    },
    {
      "cell_type": "code",
      "execution_count": null,
      "metadata": {
        "id": "1qNPA4a5k9V_"
      },
      "outputs": [],
      "source": [
        "#@title 5.1.9 Asthma\n",
        "data_copy_age2['Asthma'].value_counts()"
      ]
    },
    {
      "cell_type": "code",
      "execution_count": null,
      "metadata": {
        "id": "mG6g146MlJJj"
      },
      "outputs": [],
      "source": [
        "data_copy_age2['Asthma'] = data_copy_age2['Asthma'].replace('No', 0)\n",
        "data_copy_age2['Asthma'] = data_copy_age2['Asthma'].replace('Yes', 1)"
      ]
    },
    {
      "cell_type": "code",
      "execution_count": null,
      "metadata": {
        "id": "ZfBzLF1mlLzn"
      },
      "outputs": [],
      "source": [
        "#@title 5.1.10 KidneyDisease\n",
        "data_copy_age2['KidneyDisease'].value_counts()"
      ]
    },
    {
      "cell_type": "code",
      "execution_count": null,
      "metadata": {
        "id": "SChmQ1ZAlQzP"
      },
      "outputs": [],
      "source": [
        "data_copy_age2['KidneyDisease'] = data_copy_age2['KidneyDisease'].replace('No', 0)\n",
        "data_copy_age2['KidneyDisease'] = data_copy_age2['KidneyDisease'].replace('Yes', 1)"
      ]
    },
    {
      "cell_type": "code",
      "execution_count": null,
      "metadata": {
        "id": "ohIYNyFhlTOP"
      },
      "outputs": [],
      "source": [
        "#@title 5.1.11 SkinCancer\n",
        "data_copy_age2['SkinCancer'].value_counts()"
      ]
    },
    {
      "cell_type": "code",
      "execution_count": null,
      "metadata": {
        "id": "fMPuK1NllWvC"
      },
      "outputs": [],
      "source": [
        "data_copy_age2['SkinCancer'] = data_copy_age2['SkinCancer'].replace('No', 0)\n",
        "data_copy_age2['SkinCancer'] = data_copy_age2['SkinCancer'].replace('Yes', 1)"
      ]
    },
    {
      "cell_type": "code",
      "execution_count": null,
      "metadata": {
        "id": "eAXkTNQKmwjE"
      },
      "outputs": [],
      "source": [
        "#@title 5.1.12 PhysicalActivity\n",
        "data_copy_age2['PhysicalActivity'].value_counts()"
      ]
    },
    {
      "cell_type": "code",
      "execution_count": null,
      "metadata": {
        "id": "uUhQAxW3m0IG"
      },
      "outputs": [],
      "source": [
        "data_copy_age2['PhysicalActivity'] = data_copy_age2['PhysicalActivity'].replace('No', 0)\n",
        "data_copy_age2['PhysicalActivity'] = data_copy_age2['PhysicalActivity'].replace('Yes', 1)"
      ]
    },
    {
      "cell_type": "code",
      "execution_count": null,
      "metadata": {
        "id": "j9t3s_thm3va"
      },
      "outputs": [],
      "source": [
        "#@title 5.1.13 Race"
      ]
    },
    {
      "cell_type": "markdown",
      "metadata": {
        "id": "snB_Tlq4m621"
      },
      "source": [
        "Unfortunately, we can not label code Race as we did in GenHealth because PCA would get confused and interpret the label codes as there is a prevalance between different races. It is better leave Race out in principal component analysis. "
      ]
    },
    {
      "cell_type": "code",
      "execution_count": null,
      "metadata": {
        "id": "1ehX8Q5zpDOb"
      },
      "outputs": [],
      "source": [
        "#@title 5.1.14 HeartDisease\n",
        "data_copy_age2['HeartDisease'] = data_copy_age2['HeartDisease'].replace('No', 0)\n",
        "data_copy_age2['HeartDisease'] = data_copy_age2['HeartDisease'].replace('Yes', 1)\n",
        "data_copy_age2['HeartDisease'].value_counts()"
      ]
    },
    {
      "cell_type": "code",
      "execution_count": null,
      "metadata": {
        "id": "4RltWAWpm77C"
      },
      "outputs": [],
      "source": [
        "data_copy_age2.info()"
      ]
    },
    {
      "cell_type": "markdown",
      "metadata": {
        "id": "7Jq-ZYifnJSi"
      },
      "source": [
        "### 5.2 Random Forest"
      ]
    },
    {
      "cell_type": "code",
      "execution_count": null,
      "metadata": {
        "id": "L209r0d4pwMh"
      },
      "outputs": [],
      "source": [
        "data_copy_age.columns"
      ]
    },
    {
      "cell_type": "code",
      "execution_count": null,
      "metadata": {
        "id": "BxSS5MFgnX79"
      },
      "outputs": [],
      "source": [
        "#@title 5.2.1 Feature Importance\n",
        "data_copy_age3 = data_copy_age.drop('AgeCategory',axis=1).copy()\n",
        "params = {'random_state': 0, 'n_jobs': 4, 'n_estimators': 2000, 'max_depth': 8}\n",
        "# One-hot encode by using drop_first = True to prevent dropping redundant columns manually\n",
        "# due to having too many categorical columns\n",
        "data_copy_age3 = pd.get_dummies(data_copy_age3, drop_first = True)\n",
        "data_copy_age3.columns"
      ]
    },
    {
      "cell_type": "markdown",
      "metadata": {
        "id": "xMymIAWroW7c"
      },
      "source": [
        "In get_dummies(), we used drop_first = True parameter to prevent dropping redundant columns manually since there are too many categorical columns.\n",
        "\n",
        "Before starting, we also dropped the agecategory and weight_status columns to avoid multi-collinearity in predictors space due to the fact that we already added the 'age' column by generating random integers corresponding to each age interval for unique rows, and weight_status was generated by the BMI values of each patients."
      ]
    },
    {
      "cell_type": "code",
      "execution_count": null,
      "metadata": {
        "id": "cEK3Cq12oeKb"
      },
      "outputs": [],
      "source": [
        "from sklearn.ensemble import RandomForestClassifier\n",
        "X, y = data_copy_age3.drop('HeartDisease',axis=1), data_copy_age3['HeartDisease']\n",
        "# Fit RandomForest Classifier\n",
        "clf = RandomForestClassifier(**params)\n",
        "clf = clf.fit(X, y)\n",
        "# Plot features importances\n",
        "imp = pd.Series(data=clf.feature_importances_, index=X.columns).sort_values(ascending=False)"
      ]
    },
    {
      "cell_type": "code",
      "execution_count": null,
      "metadata": {
        "id": "tvutOXsFsenR"
      },
      "outputs": [],
      "source": [
        "plt.figure(figsize=(6,8))\n",
        "plt.title(\"Feature importance\")\n",
        "ax = sns.barplot(y=imp.index, x=imp.values, palette=\"Blues_d\", orient='h')"
      ]
    },
    {
      "cell_type": "markdown",
      "metadata": {
        "id": "InR3le47sjyc"
      },
      "source": [
        "The importances are in line with our EDA. The top three good features for HeartDisease are Age, Stroke, DiffWalking."
      ]
    },
    {
      "cell_type": "markdown",
      "metadata": {
        "id": "eESp-pNmsnLn"
      },
      "source": [
        "###5.3 Principal Component Analysis"
      ]
    },
    {
      "cell_type": "code",
      "execution_count": null,
      "metadata": {
        "id": "ngzKJot0snzd"
      },
      "outputs": [],
      "source": [
        "#@title 5.3.1 Filtering Numerical Data\n",
        "from sklearn.compose import make_column_selector\n",
        "\n",
        "X_data = data_copy_age2.drop(['HeartDisease','AgeCategory','Race'], axis=1) \n",
        "y_data = data_copy_age2['HeartDisease'] \n",
        "\n",
        "X_data.head()"
      ]
    },
    {
      "cell_type": "code",
      "execution_count": null,
      "metadata": {
        "id": "m-HGtM7psx3T"
      },
      "outputs": [],
      "source": [
        "X_data = data_copy_age2[['Stroke', 'GenHealth', 'PhysicalHealth', 'DiffWalking', 'Age']] \n",
        "y_data = data_copy_age2['HeartDisease'] \n",
        "corr = data_copy_age2.corr()\n",
        "corr"
      ]
    },
    {
      "cell_type": "markdown",
      "metadata": {
        "id": "pc3099i6s3hI"
      },
      "source": [
        "While selecting which features to put in PCA, we paid attention to choose the ones that have high correlation with outcome variable, also, low colliniarity between each other. We also double checked the variables we choose with  RF feature importance results."
      ]
    },
    {
      "cell_type": "markdown",
      "metadata": {
        "id": "lpWiTNyGs7ie"
      },
      "source": [
        "For the next steps, It is important to exclude outcome variable from the data we are going to fit because we are interested in the similaraties regardless of their outcome."
      ]
    },
    {
      "cell_type": "code",
      "execution_count": null,
      "metadata": {
        "id": "PhNEez6cs-SN"
      },
      "outputs": [],
      "source": [
        "#@title 5.3.2 Scaling the Data\n",
        "from sklearn.preprocessing import StandardScaler\n",
        "\n",
        "scaler = StandardScaler()\n",
        "\n",
        "X_data_std = scaler.fit_transform(X_data)\n",
        "\n",
        "X_data_std.shape"
      ]
    },
    {
      "cell_type": "markdown",
      "metadata": {
        "id": "1IWJh8umtDOG"
      },
      "source": [
        "We need to treat features equally by scaling them. if we don't scale the data before PCA, PCA always going to give bigger weight to large numbers and disregard the small numbers. (While PCA calculating the variance of each observation, it takes mean squared errors of those observations. Therefore bigger numbers will always have higher variance compared to smaller ones)"
      ]
    },
    {
      "cell_type": "code",
      "execution_count": null,
      "metadata": {
        "id": "X1yM-pMKtD8_"
      },
      "outputs": [],
      "source": [
        "#@title 5.3.3 Fitting the PCA\n",
        "from sklearn.decomposition import PCA \n",
        "\n",
        "pca = PCA()\n",
        "\n",
        "pca.fit(X_data_std)\n",
        "\n",
        "pca.explained_variance_ratio_"
      ]
    },
    {
      "cell_type": "code",
      "execution_count": null,
      "metadata": {
        "id": "NyeZ_jHZtKIk"
      },
      "outputs": [],
      "source": [
        "pca_2 = PCA(n_components=2)             \n",
        "pca_2.fit(X_data_std)                       \n",
        "X_2D = pca_2.transform(X_data_std)"
      ]
    },
    {
      "cell_type": "markdown",
      "metadata": {
        "id": "befmxGZxtMhf"
      },
      "source": [
        "Plotting PCA1 vs PCA2"
      ]
    },
    {
      "cell_type": "code",
      "execution_count": null,
      "metadata": {
        "id": "k8c5xq4_tNAt"
      },
      "outputs": [],
      "source": [
        "print(abs(pca.components_[:3]))\n",
        "pca.components_3 = pca.components_[:3]\n",
        "importance = pd.DataFrame(abs(pca.components_3))\n",
        "importance.columns = ['Stroke', 'GenHealth', 'PhysicalHealth', 'DiffWalking', 'Age']\n",
        "importance.index = ['PC1', 'PC2', 'PC3']\n",
        "importance"
      ]
    },
    {
      "cell_type": "markdown",
      "metadata": {
        "id": "L7dhGoJptSq1"
      },
      "source": [
        "In PC1, most important variables are GenHealth, DiffWalking, and PhysicalHealth based on the absolute coefficient magnitude.\n",
        "\n",
        "In PC2, most important variables are Age and Stroke based on the absolute coefficient magnitude."
      ]
    },
    {
      "cell_type": "code",
      "execution_count": null,
      "metadata": {
        "id": "Z9DE1AadtWW4"
      },
      "outputs": [],
      "source": [
        "data_copy_age3 = data_copy_age2.copy()\n",
        "data_copy_age3['PCA1'] = X_2D[:, 0]\n",
        "data_copy_age3['PCA2'] = X_2D[:, 1]\n",
        "sns.set(rc={\"figure.figsize\":(10, 7)})\n",
        "sns.scatterplot(\"PCA1\", \"PCA2\", hue='HeartDisease', data=data_copy_age3)\n",
        "plt.xlabel('PCA1 % {0:.2f}'.format(pca.explained_variance_ratio_[0].round(4)*100))\n",
        "plt.ylabel('PCA2 % {0:.2f}'.format(pca.explained_variance_ratio_[1].round(4)*100))"
      ]
    },
    {
      "cell_type": "markdown",
      "metadata": {
        "id": "WnwFn78DtfEQ"
      },
      "source": [
        "As we go right in PC1 axis, GenHealth get worsen (1=Excellent, 5=Poor), Diffwalking increases (1=Yes, 0=No), and PhysicalHealth get worsen (1= 1 day thinking about the physical, 30= 30 days thinking about physical health for the last 30 days). Our findings are correlated with PCA plot as frequency of orange dots (HeartDisease=1) are increasing as we go to right along PC1 axis.\n",
        "\n",
        "As we go up in PC2 axis, Age of the patients and Difficulty of walking are increasing (1=Diff of walking, 0=No Diff of walking). Our findings are correlated with PCA plot as frequency of orange dots (HeartDisease=1) are increasing as we go up along the PC2 axis.\n",
        "\n",
        "\n",
        "Since the Principal components 1 and 2 only explains the 41.41% and 19.43% variance in choosen predictors, the data points are not perfectly seperated.\n",
        "\n",
        "\n",
        "Let's plot a cumulative variances in order to decide how many components we need to keep for K-means."
      ]
    },
    {
      "cell_type": "code",
      "execution_count": null,
      "metadata": {
        "id": "WxKs_yndtvpM"
      },
      "outputs": [],
      "source": [
        "plt.figure(figsize= (10,8))\n",
        "plt.plot(range(1,6), pca.explained_variance_ratio_.cumsum(),\n",
        "         marker ='o', linestyle= '--')\n",
        "\n",
        "plt.title('Explained Variance by Components')\n",
        "plt.xlabel('Number of Components')\n",
        "plt.ylabel('Cumulative Explained Variance')"
      ]
    },
    {
      "cell_type": "markdown",
      "metadata": {
        "id": "lrUut5Fjt3fU"
      },
      "source": [
        "As a rule of thumb, we are going to preserve around 80% of the variance, Therefore, in this instance, we decide to keep 3 components.\n",
        "\n",
        "\n"
      ]
    },
    {
      "cell_type": "code",
      "execution_count": null,
      "metadata": {
        "id": "TaPt1v_8twfM"
      },
      "outputs": [],
      "source": [
        "pca = PCA(n_components = 3)\n",
        "pca.fit(X_data_std)"
      ]
    },
    {
      "cell_type": "code",
      "execution_count": null,
      "metadata": {
        "id": "a-WDbMXItwdD"
      },
      "outputs": [],
      "source": [
        "pca.transform(X_data_std)\n",
        "scores_pca = pca.transform(X_data_std)"
      ]
    },
    {
      "cell_type": "markdown",
      "metadata": {
        "id": "NJe1uQNLt-5V"
      },
      "source": [
        "Eigenvalues of PC1, PC2, and PC3"
      ]
    },
    {
      "cell_type": "code",
      "execution_count": null,
      "metadata": {
        "id": "hz3Lq_Umtwa7"
      },
      "outputs": [],
      "source": [
        "scores_pca"
      ]
    },
    {
      "cell_type": "code",
      "execution_count": null,
      "metadata": {
        "id": "dV_VClR-twYa"
      },
      "outputs": [],
      "source": []
    },
    {
      "cell_type": "markdown",
      "metadata": {
        "id": "Y1QUnCA-o3nJ"
      },
      "source": [
        "###5.4 K-Means Clustering"
      ]
    },
    {
      "cell_type": "code",
      "execution_count": null,
      "metadata": {
        "id": "CAdkUYK1o7ih"
      },
      "outputs": [],
      "source": [
        "#@title 5.4.1 Combining PCA & K-Means\n",
        "#Determining the Within Cluster Sum of Squares (WCSS)\n",
        "from sklearn.cluster import KMeans\n",
        "wcss = []\n",
        "for i in range(1,20):\n",
        "  kmeans_pca = KMeans(n_clusters = i, init = 'k-means++', random_state=0)\n",
        "  kmeans_pca.fit(scores_pca)\n",
        "  wcss.append(kmeans_pca.inertia_)"
      ]
    },
    {
      "cell_type": "markdown",
      "metadata": {
        "id": "-HbD3q2T2e95"
      },
      "source": [
        "Plotting the WCSS vs number of clusters"
      ]
    },
    {
      "cell_type": "code",
      "execution_count": null,
      "metadata": {
        "id": "FDtAEVA0pLyP"
      },
      "outputs": [],
      "source": [
        "plt.figure(figsize=(10,8))\n",
        "plt.plot(range(1,20), wcss, marker='o', linestyle='--')\n",
        "plt.xlabel('Number of Clusters')\n",
        "plt.ylabel('WCSS')\n",
        "plt.title('K-means with PCA Clustering')\n",
        "plt.show()"
      ]
    },
    {
      "cell_type": "markdown",
      "metadata": {
        "id": "U2hyafvR4mIO"
      },
      "source": [
        "According to Elbow Method, we can choose the appropriate number of clusters by identifying an elbow point where before that point, the graph is steeply declining while the part after it is much smoother. In this case, an elbow can be seen at the 4 cluster mark."
      ]
    },
    {
      "cell_type": "code",
      "execution_count": null,
      "metadata": {
        "id": "MxnENMZJFSWw"
      },
      "outputs": [],
      "source": [
        "#2 Clusters\n",
        "kmeans_pca = KMeans(n_clusters = 4, init = 'k-means++', random_state=0)\n",
        "kmeans_pca.fit(scores_pca)\n",
        "df_X_data_pca_kmeans = pd.concat([X_data.reset_index(drop=True),\n",
        "                                  pd.DataFrame(scores_pca)], axis=1)\n",
        "df_X_data_pca_kmeans.columns.values[-3:] = ['PC1', 'PC2', 'PC3']\n",
        "df_X_data_pca_kmeans['K-means'] = kmeans_pca.labels_\n",
        "df_X_data_pca_kmeans['Cluster'] = df_X_data_pca_kmeans['K-means'].map({\n",
        "    0:'first', 1:'second', 2:'third', 3:'fourth'})\n",
        "plt.figure(figsize = (10,8))\n",
        "sns.scatterplot('PC1', 'PC2', data=df_X_data_pca_kmeans, hue='Cluster', palette=['r','b', 'g', 'c'])\n"
      ]
    },
    {
      "cell_type": "markdown",
      "metadata": {
        "id": "qEoVm0JWb2e1"
      },
      "source": [
        "Above graph shows the four different clustering of strongest features in two dimensional space (PC1&PC2)."
      ]
    },
    {
      "cell_type": "code",
      "execution_count": null,
      "metadata": {
        "id": "l8i-uSQs7Qeo"
      },
      "outputs": [],
      "source": [
        "df_X_data_pca_kmeans.head()"
      ]
    },
    {
      "cell_type": "markdown",
      "metadata": {
        "id": "gNGoMi6I1RZj"
      },
      "source": [
        "# 6.Conclusion"
      ]
    },
    {
      "cell_type": "markdown",
      "metadata": {
        "id": "O1AK9Jrh1UZo"
      },
      "source": [
        "We explored the disparity in heart disease between races, and explored some of the factors that have the highest correlation with race, and saw the differences in them amongst races which might explain partially the difference in the incidence of heart disease amongst races. \n",
        "\n",
        "The combined effect on race section explores the disparity between genders in heart disease and shows that sleep time might be one of the reasons why men have a higher chance of heart disease. \n",
        "\n",
        "As an additional analysis, we used PCA, and based on the results of the PCA, we used K-means by using 4 clusters. In PCA we used 5 strongest predictors and we were able to reduce the dimensions into 2 (explaining over 60% of variability). We found that gen health, diff walking, physical health, and age, if these increase, then we see more likelihood of heart disease."
      ]
    },
    {
      "cell_type": "markdown",
      "metadata": {
        "id": "nBjr4CDZKE25"
      },
      "source": [
        "# Phase 2 Questions"
      ]
    },
    {
      "cell_type": "markdown",
      "metadata": {
        "id": "Y_KUlpNM-6FW"
      },
      "source": [
        "We have commented out several of the plots below as they are either captured entirely by other plots that we made above, or were deemed out of sync with our general story and outline. "
      ]
    },
    {
      "cell_type": "markdown",
      "metadata": {
        "id": "i-6DFamGpeca"
      },
      "source": [
        "## Question 1\n",
        "What is the relationship between heavy alcohol drinking and heart disease for each weight class?"
      ]
    },
    {
      "cell_type": "markdown",
      "metadata": {
        "id": "lbsLx5hxphaV"
      },
      "source": [
        "**Answer:**\n",
        "\n",
        "- Our data shows that people who drink alcohol heavily (*adult men having more than 14 drinks per week and adult women having more than 7 drinks per week*) have a smaller probability of getting heart disease than people who do not.\n",
        "- The  Alcohol drinking impact on heart disease follows the same pattern for all weight statuses. \n",
        "- Surprisingly, underweight people have a higher risk of heart disease than people in the healthy weight category. This shows that as weight rises, the risk of heart disease first falls, and then rises, and this insight would not have been observed using a simple correlation matrix. "
      ]
    },
    {
      "cell_type": "code",
      "execution_count": null,
      "metadata": {
        "id": "wjfOHu4kvddd"
      },
      "outputs": [],
      "source": [
        "sns.catplot(x='weight_status',y='HeartDisease',data=data_copy,kind='point',hue=\"AlcoholDrinking\",ci=None).set(title='Weight status Vs. percentage of Heart disease');"
      ]
    },
    {
      "cell_type": "markdown",
      "metadata": {
        "id": "ZcHPyyAlrod4"
      },
      "source": [
        "## Question 2"
      ]
    },
    {
      "cell_type": "markdown",
      "metadata": {
        "id": "_hYhuE0K6UWz"
      },
      "source": [
        "What is the relationship between age category and heart disease for both genders/sexes? "
      ]
    },
    {
      "cell_type": "markdown",
      "metadata": {
        "id": "SSQM279MtPjO"
      },
      "source": [
        "**Answer:** \n",
        "\n",
        "- The graph shows that men and women have the almost same risk of getting heart disease from the ages of 18-44. However, this trend seems to change after that point with men having a higher risk of heart disease, and this difference grows consistently over the years. \n",
        "\n",
        "- One study we explored looked at data from Eastern Europe and suggested that the increased risk of heart disease in men is due to an increase in stress levels. Our next plot (Question 3) explores this in the context of our dataset.\n",
        "\n",
        "Study source: https://pubmed.ncbi.nlm.nih.gov/12721140/"
      ]
    },
    {
      "cell_type": "code",
      "execution_count": null,
      "metadata": {
        "id": "HaYO21JBrA36"
      },
      "outputs": [],
      "source": [
        "# g=sns.catplot(x='AgeCategory',y='HeartDisease' ,data=data_copy.sort_values('AgeCategory'),kind='point',hue='Sex',ci=None).set(title='AgeCategory vs. percentage of Heart disease by sex');\n",
        "# g.set_xticklabels(rotation=45);\n"
      ]
    },
    {
      "cell_type": "markdown",
      "metadata": {
        "id": "tpVF3DFJt31C"
      },
      "source": []
    },
    {
      "cell_type": "markdown",
      "metadata": {
        "id": "BhjOQw_Ktepp"
      },
      "source": [
        "## Question 3\n"
      ]
    },
    {
      "cell_type": "markdown",
      "metadata": {
        "id": "ymENa55Q8AEA"
      },
      "source": [
        "What is the relationship between Mental Health and Heart Disease, and how is it different by gender/sex? "
      ]
    },
    {
      "cell_type": "markdown",
      "metadata": {
        "id": "Li0i4K0ctgtl"
      },
      "source": [
        "**Answer:**\n",
        "\n",
        "- The graphs below confirm the positive correlation between mental health and heart disease. Across all age categories, people with heart disease report higher incidences of their mental health not being good. \n",
        "\n",
        "- However, what is surprising here is that for people with heart disease, and without heart disease; women report higher rates of their mental health not being good. For people with heart disease, this gap between men and women reaches its maximum after the age of 45.\n",
        "\n",
        "- Thus while there is a correlation between mental health and heart disease, our dataset does not seem to confirm that the difference in heart disease rates between men and women is due to mental health. Thus, further exploration is needed to determine what is responsible for the higher rates of heart disease in men than women."
      ]
    },
    {
      "cell_type": "code",
      "execution_count": null,
      "metadata": {
        "id": "l3FhgnHAimZf"
      },
      "outputs": [],
      "source": [
        "g=sns.catplot(x='AgeCategory',y='MentalHealth',data=data_copy.sort_values('AgeCategory'),kind='point',hue=\"Sex\",col='HeartDisease',ci=None)\n",
        "g.set_xticklabels(rotation=45);\n",
        "g.fig.suptitle('AgeCategory vs. Mentalhealth by Sex in different heart disease status',y=1.1) ;\n",
        "\n"
      ]
    },
    {
      "cell_type": "markdown",
      "metadata": {
        "id": "wBC9Ot_zpwKH"
      },
      "source": [
        "## Question 4\n",
        "\n"
      ]
    },
    {
      "cell_type": "markdown",
      "metadata": {
        "id": "pgSg2TyN9pMW"
      },
      "source": [
        "How is the difficulty in walking or climbing stairs related to incidence of heart disease across both genders/sexes? "
      ]
    },
    {
      "cell_type": "markdown",
      "metadata": {
        "id": "lRgadnpaKP53"
      },
      "source": [
        "**Answer:** \n",
        "\n",
        "- The graph below clearly shows that people who faced difficulty walking/climbing had a much higher probability of having heart disease than people who did not face such issues. Understanding which of these variables causes the other is difficult as, on one hand, heart disease does make walking/climbing more difficult. However, on the other hand, walking is one of the ways to strengthen the heart muscles. \n",
        "\n",
        "- Regarding gender, it is interesting to note that on average, women across both categories (having difficulty walking and not having difficulty walking) had a lower probability of heart disease than their male counterparts within the same category. This leads us to understand that external factors are involved beyond physical health which is making males more vulnerable than females to heart disease. "
      ]
    },
    {
      "cell_type": "code",
      "execution_count": null,
      "metadata": {
        "id": "_K_VCpsSimdu"
      },
      "outputs": [],
      "source": [
        "g=sns.catplot(x='DiffWalking',y='HeartDisease',data=data_copy,kind='bar',hue='Sex',ci=None).set(title='DiffWalking vs. percentage of Heart disease by sex')\n",
        "g.fig.suptitle('AgeCategory vs. Mentalhealth by Sex in different heart disease status',y=1.1);"
      ]
    },
    {
      "cell_type": "markdown",
      "metadata": {
        "id": "_rgfUDw9uD3A"
      },
      "source": [
        "## Question 5 "
      ]
    },
    {
      "cell_type": "markdown",
      "metadata": {
        "id": "IpbdTbG3-88a"
      },
      "source": [
        "What is the relationship between sleep time and heart disease for each weight class, across gender/sex?"
      ]
    },
    {
      "cell_type": "markdown",
      "metadata": {
        "id": "y5n1GOg4uHZU"
      },
      "source": [
        "**Answer:**\n",
        "\n",
        "- The graphs below show that between the ages of 25 and 75; people with heart disease are on average sleeping fewer hours than people without heart disease. Thus the amount of sleep one gets seems to be correlated with the incidence of heart disease. We see that the trend is also similar for both men and women. \n",
        "\n",
        "- What is interesting to note here is that the difference in sleep hours between people who have heart disease, and those who do not is greatest for people between the ages of 25-50, and beyond that, as people get older, the difference in sleep hours between those with heart disease and those that don't shrink. \n",
        "\n",
        "- While in younger ages women sleep more than men, the difference in average sleep hours between them becomes narrower after the age of 40, and as they age, eventually men sleep more hours than women do.\n",
        "\n",
        "- While the impact of sleep time affects men and women in very similar ways as shown by our graphs, it might be possible that men are more likely to suffer from heart disease as more men on average sleep less than women do.(Which we found during exploration) This will be something we will explore further in our final presentation."
      ]
    },
    {
      "cell_type": "code",
      "execution_count": null,
      "metadata": {
        "id": "9Jc8ygDWjBrF"
      },
      "outputs": [],
      "source": [
        "g=sns.catplot(x='AgeCategory',y='SleepTime',data=data_copy.sort_values('AgeCategory'),kind='point',hue=\"Sex\",ci=None,col='HeartDisease')\n",
        "g.set_xticklabels(rotation=45);\n",
        "g.fig.suptitle('AgeCategory vs. sleeptime by heart disease status in different sex', y=1.1);"
      ]
    },
    {
      "cell_type": "code",
      "execution_count": null,
      "metadata": {
        "id": "g_jUqEfrusF5"
      },
      "outputs": [],
      "source": []
    },
    {
      "cell_type": "markdown",
      "metadata": {
        "id": "6vLLg3fINV3k"
      },
      "source": [
        "# 7. Reference\n",
        "Facts about heart disease : https://www.cdc.gov/heartdisease/facts.htm\n",
        "\n",
        "Articles indicate men are more mentally stressed than women in Europe \n",
        "https://pubmed.ncbi.nlm.nih.gov/12721140/\n",
        "\n",
        "https://www.kaggle.com/datasets/kamilpytlak/personal-key-indicators-of-heart-disease\n",
        "https://www.cdc.gov/brfss/annual_data/2020/files/LLCP2020ASC.zip\n",
        "https://www.cdc.gov/os/quality/support/info-qual.htm\n",
        "https://www.cdc.gov/sleep/about_sleep/how_much_sleep.html\n",
        "https://www.cdc.gov/healthyweight/assessing/index.html#:~:text=If%20your%20BMI%20is%20less,falls%20within%20the%20obese%20range\n",
        " https://pubmed.ncbi.nlm.nih.gov/12721140/\n",
        "https://www.cdc.gov/heartdisease/facts.htm\n",
        "https://pubmed.ncbi.nlm.nih.gov/12721140/\n",
        "\n"
      ]
    },
    {
      "cell_type": "code",
      "execution_count": null,
      "metadata": {
        "colab": {
          "background_save": true
        },
        "id": "uMnWdyUm2jBg"
      },
      "outputs": [],
      "source": []
    }
  ],
  "metadata": {
    "colab": {
      "toc_visible": true,
      "provenance": [],
      "collapsed_sections": [
        "o1uaW39ApsWB",
        "V4xoG5zJlCrM",
        "_W2cFB9Mdeti",
        "iqyT-xIg1iNI",
        "t89kf84tL2_o",
        "KeVymeNBMzJD",
        "nHFcS87nQlGP",
        "cwb7zJmy9VSP",
        "BsT2_tNS9b9H",
        "H1rjI_Pr-UwD",
        "tB_SMa3QJeuZ",
        "xXWrSEc5Amg9",
        "iLEgqzyBBEOJ",
        "iexPnOfSBlRr",
        "eoKjwjkDB17Z",
        "eKZvQ738Cp4j",
        "7mNqhC_aC-dO",
        "wtTJRY787gU1",
        "i-6DFamGpeca",
        "ZcHPyyAlrod4",
        "BhjOQw_Ktepp",
        "wBC9Ot_zpwKH",
        "_rgfUDw9uD3A"
      ],
      "include_colab_link": true
    },
    "kernelspec": {
      "display_name": "Python 3",
      "name": "python3"
    },
    "language_info": {
      "name": "python"
    }
  },
  "nbformat": 4,
  "nbformat_minor": 0
}